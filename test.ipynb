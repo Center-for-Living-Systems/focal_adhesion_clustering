{
 "cells": [
  {
   "cell_type": "code",
   "execution_count": 1,
   "metadata": {},
   "outputs": [
    {
     "ename": "IndexError",
     "evalue": "list assignment index out of range",
     "output_type": "error",
     "traceback": [
      "\u001b[1;31m---------------------------------------------------------------------------\u001b[0m",
      "\u001b[1;31mIndexError\u001b[0m                                Traceback (most recent call last)",
      "Cell \u001b[1;32mIn[1], line 32\u001b[0m\n\u001b[0;32m     30\u001b[0m                     queue\u001b[38;5;241m.\u001b[39mappend(v)\n\u001b[0;32m     31\u001b[0m \u001b[38;5;66;03m# do\u001b[39;00m\n\u001b[1;32m---> 32\u001b[0m g \u001b[38;5;241m=\u001b[39m Graph(\u001b[38;5;241m6\u001b[39m,[[\u001b[38;5;241m1\u001b[39m,\u001b[38;5;241m2\u001b[39m],[\u001b[38;5;241m3\u001b[39m,\u001b[38;5;241m4\u001b[39m],[\u001b[38;5;241m4\u001b[39m],[\u001b[38;5;241m4\u001b[39m,\u001b[38;5;241m5\u001b[39m],[\u001b[38;5;241m5\u001b[39m]])\n\u001b[0;32m     34\u001b[0m \u001b[38;5;28mprint\u001b[39m(\u001b[38;5;124m\"\u001b[39m\u001b[38;5;124mDFS traversal starting from vertex 0:\u001b[39m\u001b[38;5;124m\"\u001b[39m)\n\u001b[0;32m     35\u001b[0m g\u001b[38;5;241m.\u001b[39mdfs(\u001b[38;5;241m0\u001b[39m)\n",
      "Cell \u001b[1;32mIn[1], line 6\u001b[0m, in \u001b[0;36mGraph.__init__\u001b[1;34m(self, vertices, edges_array)\u001b[0m\n\u001b[0;32m      4\u001b[0m \u001b[38;5;28mself\u001b[39m\u001b[38;5;241m.\u001b[39medges \u001b[38;5;241m=\u001b[39m[]\n\u001b[0;32m      5\u001b[0m \u001b[38;5;28;01mfor\u001b[39;00m in_v \u001b[38;5;129;01min\u001b[39;00m \u001b[38;5;28mrange\u001b[39m(vertices):\n\u001b[1;32m----> 6\u001b[0m     \u001b[38;5;28mself\u001b[39m\u001b[38;5;241m.\u001b[39medges[in_v] \u001b[38;5;241m=\u001b[39m edges_array[in_v]\n",
      "\u001b[1;31mIndexError\u001b[0m: list assignment index out of range"
     ]
    }
   ],
   "source": [
    "class Graph:\n",
    "    def __init__(self, vertices,edges_array):\n",
    "        self.vertices = vertices        \n",
    "        self.edges = [[]]*vertices\n",
    "        for in_v in range(vertices):\n",
    "            self.edges[in_v] = edges_array[in_v]\n",
    "\n",
    "\n",
    "    def dfs(self, start):\n",
    "        visited = [False] * self.vertices\n",
    "        self._dfs(start, visited)\n",
    "\n",
    "    def _dfs(self, u, visited):\n",
    "        visited[u] = True\n",
    "        print(u, end=' ')\n",
    "        for v in self.edges[u]:\n",
    "            if not visited[v]:\n",
    "                self._dfs(v, visited)\n",
    "\n",
    "    def bfs(self, start):\n",
    "        visited = [False] * self.vertices\n",
    "        queue = [start]\n",
    "        visited[start] = True\n",
    "        while queue:\n",
    "            u = queue.pop(0)\n",
    "            print(u, end=' ')\n",
    "            for v in self.edges[u]:\n",
    "                if not visited[v]:\n",
    "                    visited[v] = True\n",
    "                    queue.append(v)\n",
    "# do\n",
    "g = Graph(6,[[1,2],[3,4],[4],[4,5],[5]])\n",
    "\n",
    "print(\"DFS traversal starting from vertex 0:\")\n",
    "g.dfs(0)\n",
    "print(\"\\nBFS traversal starting from vertex 0:\")\n",
    "g.bfs(0)"
   ]
  }
 ],
 "metadata": {
  "kernelspec": {
   "display_name": "base",
   "language": "python",
   "name": "python3"
  },
  "language_info": {
   "codemirror_mode": {
    "name": "ipython",
    "version": 3
   },
   "file_extension": ".py",
   "mimetype": "text/x-python",
   "name": "python",
   "nbconvert_exporter": "python",
   "pygments_lexer": "ipython3",
   "version": "3.11.7"
  }
 },
 "nbformat": 4,
 "nbformat_minor": 2
}
