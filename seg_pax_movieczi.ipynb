{
 "cells": [
  {
   "cell_type": "markdown",
   "metadata": {},
   "source": [
    "### Paxillin movie segmentation and object feature analysis\n",
    "\n",
    "with Shailaja's movies\n",
    "\n",
    "Liya Ding, 2024.03"
   ]
  },
  {
   "cell_type": "code",
   "execution_count": 1,
   "metadata": {},
   "outputs": [],
   "source": [
    "import numpy as np\n",
    "import seaborn as sns\n",
    "import pandas as pd\n",
    "import umap\n",
    "from joblib import dump, load\n",
    "import os.path\n",
    "\n",
    "import matplotlib.pyplot as plt\n",
    "from matplotlib import cm\n",
    "from matplotlib.transforms import Bbox\n",
    "\n",
    "import tifffile \n",
    "import czifile\n",
    "\n",
    "import skimage\n",
    "from skimage.morphology import remove_small_objects\n",
    "from skimage.measure import label, regionprops, regionprops_table\n",
    "from skimage.color import label2rgb\n",
    "\n",
    "from scipy import ndimage\n",
    "from scipy.ndimage import distance_transform_cdt\n",
    "from scipy.ndimage import gaussian_filter\n",
    "\n",
    "\n",
    "from skimage.color import label2rgb\n",
    "from skimage.filters import (threshold_otsu, threshold_niblack,\n",
    "                             threshold_sauvola)\n",
    "\n",
    "from skimage.morphology import binary_opening, binary_dilation\n",
    "from skimage.morphology import disk\n",
    "\n",
    "\n",
    "\n",
    "from sklearn.decomposition import PCA\n",
    "from sklearn.datasets import load_digits\n",
    "from sklearn.model_selection import train_test_split\n",
    "from sklearn.preprocessing import StandardScaler\n",
    "\n",
    "\n",
    "# function from aicssegmentation tool\n",
    "from utils.vessel_2d import filament_2d_wrapper\n",
    "from utils.pre_processing_utils import intensity_normalization\n"
   ]
  },
  {
   "cell_type": "code",
   "execution_count": 7,
   "metadata": {},
   "outputs": [],
   "source": [
    "czimovie_dir =  '/mnt/d/lding/FA/data/FA_movies_SS'\n",
    "csv_output_dir = '/mnt/d/lding/FA/analysis_results/movies_SS/vess_LoThr_csv'\n",
    "plot_output_dir = '/mnt/d/lding/FA/analysis_results/movies_SS/vess_LoThr_FA_plot'\n",
    "seg_output_dir = '/mnt/d/lding/FA/analysis_results/movies_SS/vess_LoThr_FA_seg'\n",
    "\n",
    "if not os.path.isdir(csv_output_dir):\n",
    "    os.makedirs(csv_output_dir)\n",
    "if not os.path.isdir(plot_output_dir):\n",
    "    os.makedirs(plot_output_dir)\n",
    "if not os.path.isdir(seg_output_dir):\n",
    "    os.makedirs(seg_output_dir)"
   ]
  },
  {
   "cell_type": "code",
   "execution_count": 8,
   "metadata": {},
   "outputs": [],
   "source": [
    "# build the colormap with iterative tab20\n",
    "tab20 = cm.get_cmap('tab20', 20)\n",
    "for i in range(10):\n",
    "    tab20.colors = np.concatenate([tab20.colors,tab20.colors],axis=0)    \n",
    "tab20.colors = np.concatenate([np.zeros([1,4]),tab20.colors],axis=0)\n",
    "# print(tab20.colors)\n",
    "\n",
    "\n",
    "newmap = cm.get_cmap('tab20', 1000+1)\n",
    "newmap.colors = tab20.colors[0:1000+1,:]\n",
    "newmap.colors[0,:]  = np.zeros([1,4])\n",
    "newmap.colors[0,3] = 1\n"
   ]
  },
  {
   "cell_type": "code",
   "execution_count": 9,
   "metadata": {},
   "outputs": [
    {
     "data": {
      "text/plain": [
       "(20481, 4)"
      ]
     },
     "execution_count": 9,
     "metadata": {},
     "output_type": "execute_result"
    }
   ],
   "source": [
    "tab20.colors.shape"
   ]
  },
  {
   "cell_type": "markdown",
   "metadata": {},
   "source": [
    "### for each movie run through all the time points"
   ]
  },
  {
   "cell_type": "code",
   "execution_count": 10,
   "metadata": {},
   "outputs": [],
   "source": [
    "# flag for some optinal parts\n",
    "flag_plot = True\n",
    "flag_plot_save = True\n",
    "flag_seg_save = True\n",
    "flag_csv_save = True\n",
    "flag_run_all = True\n",
    "flag_panel_plot = True"
   ]
  },
  {
   "cell_type": "code",
   "execution_count": 12,
   "metadata": {},
   "outputs": [
    {
     "name": "stderr",
     "output_type": "stream",
     "text": [
      "/home/lding/anaconda3/envs/aics_segmentation/lib/python3.6/site-packages/ipykernel_launcher.py:103: FutureWarning: The new recommended value for bg_label is 0. Until version 0.19, the default bg_label value is -1. From version 0.19, the bg_label default value will be 0. To avoid this warning, please explicitly set bg_label value.\n",
      "Clipping input data to the valid range for imshow with RGB data ([0..1] for floats or [0..255] for integers).\n",
      "Clipping input data to the valid range for imshow with RGB data ([0..1] for floats or [0..255] for integers).\n",
      "Clipping input data to the valid range for imshow with RGB data ([0..1] for floats or [0..255] for integers).\n",
      "Clipping input data to the valid range for imshow with RGB data ([0..1] for floats or [0..255] for integers).\n",
      "Clipping input data to the valid range for imshow with RGB data ([0..1] for floats or [0..255] for integers).\n",
      "Clipping input data to the valid range for imshow with RGB data ([0..1] for floats or [0..255] for integers).\n",
      "Clipping input data to the valid range for imshow with RGB data ([0..1] for floats or [0..255] for integers).\n",
      "Clipping input data to the valid range for imshow with RGB data ([0..1] for floats or [0..255] for integers).\n",
      "Clipping input data to the valid range for imshow with RGB data ([0..1] for floats or [0..255] for integers).\n",
      "Clipping input data to the valid range for imshow with RGB data ([0..1] for floats or [0..255] for integers).\n",
      "Clipping input data to the valid range for imshow with RGB data ([0..1] for floats or [0..255] for integers).\n",
      "Clipping input data to the valid range for imshow with RGB data ([0..1] for floats or [0..255] for integers).\n",
      "Clipping input data to the valid range for imshow with RGB data ([0..1] for floats or [0..255] for integers).\n",
      "Clipping input data to the valid range for imshow with RGB data ([0..1] for floats or [0..255] for integers).\n",
      "Clipping input data to the valid range for imshow with RGB data ([0..1] for floats or [0..255] for integers).\n",
      "Clipping input data to the valid range for imshow with RGB data ([0..1] for floats or [0..255] for integers).\n",
      "Clipping input data to the valid range for imshow with RGB data ([0..1] for floats or [0..255] for integers).\n",
      "Clipping input data to the valid range for imshow with RGB data ([0..1] for floats or [0..255] for integers).\n",
      "Clipping input data to the valid range for imshow with RGB data ([0..1] for floats or [0..255] for integers).\n",
      "Clipping input data to the valid range for imshow with RGB data ([0..1] for floats or [0..255] for integers).\n",
      "Clipping input data to the valid range for imshow with RGB data ([0..1] for floats or [0..255] for integers).\n",
      "Clipping input data to the valid range for imshow with RGB data ([0..1] for floats or [0..255] for integers).\n",
      "Clipping input data to the valid range for imshow with RGB data ([0..1] for floats or [0..255] for integers).\n",
      "Clipping input data to the valid range for imshow with RGB data ([0..1] for floats or [0..255] for integers).\n",
      "Clipping input data to the valid range for imshow with RGB data ([0..1] for floats or [0..255] for integers).\n",
      "Clipping input data to the valid range for imshow with RGB data ([0..1] for floats or [0..255] for integers).\n",
      "Clipping input data to the valid range for imshow with RGB data ([0..1] for floats or [0..255] for integers).\n",
      "Clipping input data to the valid range for imshow with RGB data ([0..1] for floats or [0..255] for integers).\n",
      "Clipping input data to the valid range for imshow with RGB data ([0..1] for floats or [0..255] for integers).\n",
      "Clipping input data to the valid range for imshow with RGB data ([0..1] for floats or [0..255] for integers).\n"
     ]
    },
    {
     "ename": "KeyboardInterrupt",
     "evalue": "",
     "output_type": "error",
     "traceback": [
      "\u001b[0;31m---------------------------------------------------------------------------\u001b[0m",
      "\u001b[0;31mKeyboardInterrupt\u001b[0m                         Traceback (most recent call last)",
      "\u001b[0;32m<ipython-input-12-bf38c486cc0d>\u001b[0m in \u001b[0;36m<module>\u001b[0;34m\u001b[0m\n\u001b[1;32m    108\u001b[0m         \u001b[0mfor_orent_distance_taxicab\u001b[0m \u001b[0;34m=\u001b[0m \u001b[0mdistance_transform_cdt\u001b[0m\u001b[0;34m(\u001b[0m\u001b[0mfor_orent_mask\u001b[0m\u001b[0;34m,\u001b[0m \u001b[0mmetric\u001b[0m\u001b[0;34m=\u001b[0m\u001b[0;34m\"taxicab\"\u001b[0m\u001b[0;34m)\u001b[0m\u001b[0;34m\u001b[0m\u001b[0;34m\u001b[0m\u001b[0m\n\u001b[1;32m    109\u001b[0m \u001b[0;34m\u001b[0m\u001b[0m\n\u001b[0;32m--> 110\u001b[0;31m         \u001b[0mbigger_for_orent_mask\u001b[0m \u001b[0;34m=\u001b[0m \u001b[0mbinary_dilation\u001b[0m\u001b[0;34m(\u001b[0m\u001b[0mfor_orent_mask\u001b[0m\u001b[0;34m,\u001b[0m \u001b[0mdisk\u001b[0m\u001b[0;34m(\u001b[0m\u001b[0;36m71\u001b[0m\u001b[0;34m)\u001b[0m\u001b[0;34m)\u001b[0m\u001b[0;34m\u001b[0m\u001b[0;34m\u001b[0m\u001b[0m\n\u001b[0m\u001b[1;32m    111\u001b[0m         \u001b[0mbigger_for_orent_distance_taxicab\u001b[0m \u001b[0;34m=\u001b[0m \u001b[0mdistance_transform_cdt\u001b[0m\u001b[0;34m(\u001b[0m\u001b[0mbigger_for_orent_mask\u001b[0m\u001b[0;34m,\u001b[0m \u001b[0mmetric\u001b[0m\u001b[0;34m=\u001b[0m\u001b[0;34m\"taxicab\"\u001b[0m\u001b[0;34m)\u001b[0m\u001b[0;34m\u001b[0m\u001b[0;34m\u001b[0m\u001b[0m\n\u001b[1;32m    112\u001b[0m \u001b[0;34m\u001b[0m\u001b[0m\n",
      "\u001b[0;32m~/anaconda3/envs/aics_segmentation/lib/python3.6/site-packages/skimage/morphology/misc.py\u001b[0m in \u001b[0;36mfunc_out\u001b[0;34m(image, selem, *args, **kwargs)\u001b[0m\n\u001b[1;32m     37\u001b[0m         \u001b[0;32mif\u001b[0m \u001b[0mselem\u001b[0m \u001b[0;32mis\u001b[0m \u001b[0;32mNone\u001b[0m\u001b[0;34m:\u001b[0m\u001b[0;34m\u001b[0m\u001b[0;34m\u001b[0m\u001b[0m\n\u001b[1;32m     38\u001b[0m             \u001b[0mselem\u001b[0m \u001b[0;34m=\u001b[0m \u001b[0m_default_selem\u001b[0m\u001b[0;34m(\u001b[0m\u001b[0mimage\u001b[0m\u001b[0;34m.\u001b[0m\u001b[0mndim\u001b[0m\u001b[0;34m)\u001b[0m\u001b[0;34m\u001b[0m\u001b[0;34m\u001b[0m\u001b[0m\n\u001b[0;32m---> 39\u001b[0;31m         \u001b[0;32mreturn\u001b[0m \u001b[0mfunc\u001b[0m\u001b[0;34m(\u001b[0m\u001b[0mimage\u001b[0m\u001b[0;34m,\u001b[0m \u001b[0mselem\u001b[0m\u001b[0;34m=\u001b[0m\u001b[0mselem\u001b[0m\u001b[0;34m,\u001b[0m \u001b[0;34m*\u001b[0m\u001b[0margs\u001b[0m\u001b[0;34m,\u001b[0m \u001b[0;34m**\u001b[0m\u001b[0mkwargs\u001b[0m\u001b[0;34m)\u001b[0m\u001b[0;34m\u001b[0m\u001b[0;34m\u001b[0m\u001b[0m\n\u001b[0m\u001b[1;32m     40\u001b[0m \u001b[0;34m\u001b[0m\u001b[0m\n\u001b[1;32m     41\u001b[0m     \u001b[0;32mreturn\u001b[0m \u001b[0mfunc_out\u001b[0m\u001b[0;34m\u001b[0m\u001b[0;34m\u001b[0m\u001b[0m\n",
      "\u001b[0;32m~/anaconda3/envs/aics_segmentation/lib/python3.6/site-packages/skimage/morphology/binary.py\u001b[0m in \u001b[0;36mbinary_dilation\u001b[0;34m(image, selem, out)\u001b[0m\n\u001b[1;32m     75\u001b[0m     \u001b[0;32mif\u001b[0m \u001b[0mout\u001b[0m \u001b[0;32mis\u001b[0m \u001b[0;32mNone\u001b[0m\u001b[0;34m:\u001b[0m\u001b[0;34m\u001b[0m\u001b[0;34m\u001b[0m\u001b[0m\n\u001b[1;32m     76\u001b[0m         \u001b[0mout\u001b[0m \u001b[0;34m=\u001b[0m \u001b[0mnp\u001b[0m\u001b[0;34m.\u001b[0m\u001b[0mempty\u001b[0m\u001b[0;34m(\u001b[0m\u001b[0mimage\u001b[0m\u001b[0;34m.\u001b[0m\u001b[0mshape\u001b[0m\u001b[0;34m,\u001b[0m \u001b[0mdtype\u001b[0m\u001b[0;34m=\u001b[0m\u001b[0mnp\u001b[0m\u001b[0;34m.\u001b[0m\u001b[0mbool\u001b[0m\u001b[0;34m)\u001b[0m\u001b[0;34m\u001b[0m\u001b[0;34m\u001b[0m\u001b[0m\n\u001b[0;32m---> 77\u001b[0;31m     \u001b[0mndi\u001b[0m\u001b[0;34m.\u001b[0m\u001b[0mbinary_dilation\u001b[0m\u001b[0;34m(\u001b[0m\u001b[0mimage\u001b[0m\u001b[0;34m,\u001b[0m \u001b[0mstructure\u001b[0m\u001b[0;34m=\u001b[0m\u001b[0mselem\u001b[0m\u001b[0;34m,\u001b[0m \u001b[0moutput\u001b[0m\u001b[0;34m=\u001b[0m\u001b[0mout\u001b[0m\u001b[0;34m)\u001b[0m\u001b[0;34m\u001b[0m\u001b[0;34m\u001b[0m\u001b[0m\n\u001b[0m\u001b[1;32m     78\u001b[0m     \u001b[0;32mreturn\u001b[0m \u001b[0mout\u001b[0m\u001b[0;34m\u001b[0m\u001b[0;34m\u001b[0m\u001b[0m\n\u001b[1;32m     79\u001b[0m \u001b[0;34m\u001b[0m\u001b[0m\n",
      "\u001b[0;32m~/anaconda3/envs/aics_segmentation/lib/python3.6/site-packages/scipy/ndimage/morphology.py\u001b[0m in \u001b[0;36mbinary_dilation\u001b[0;34m(input, structure, iterations, mask, output, border_value, origin, brute_force)\u001b[0m\n\u001b[1;32m    517\u001b[0m \u001b[0;34m\u001b[0m\u001b[0m\n\u001b[1;32m    518\u001b[0m     return _binary_erosion(input, structure, iterations, mask,\n\u001b[0;32m--> 519\u001b[0;31m                            output, border_value, origin, 1, brute_force)\n\u001b[0m\u001b[1;32m    520\u001b[0m \u001b[0;34m\u001b[0m\u001b[0m\n\u001b[1;32m    521\u001b[0m \u001b[0;34m\u001b[0m\u001b[0m\n",
      "\u001b[0;32m~/anaconda3/envs/aics_segmentation/lib/python3.6/site-packages/scipy/ndimage/morphology.py\u001b[0m in \u001b[0;36m_binary_erosion\u001b[0;34m(input, structure, iterations, mask, output, border_value, origin, invert, brute_force)\u001b[0m\n\u001b[1;32m    252\u001b[0m     \u001b[0;32mif\u001b[0m \u001b[0miterations\u001b[0m \u001b[0;34m==\u001b[0m \u001b[0;36m1\u001b[0m\u001b[0;34m:\u001b[0m\u001b[0;34m\u001b[0m\u001b[0;34m\u001b[0m\u001b[0m\n\u001b[1;32m    253\u001b[0m         _nd_image.binary_erosion(input, structure, mask, output,\n\u001b[0;32m--> 254\u001b[0;31m                                  border_value, origin, invert, cit, 0)\n\u001b[0m\u001b[1;32m    255\u001b[0m         \u001b[0;32mreturn\u001b[0m \u001b[0moutput\u001b[0m\u001b[0;34m\u001b[0m\u001b[0;34m\u001b[0m\u001b[0m\n\u001b[1;32m    256\u001b[0m     \u001b[0;32melif\u001b[0m \u001b[0mcit\u001b[0m \u001b[0;32mand\u001b[0m \u001b[0;32mnot\u001b[0m \u001b[0mbrute_force\u001b[0m\u001b[0;34m:\u001b[0m\u001b[0;34m\u001b[0m\u001b[0;34m\u001b[0m\u001b[0m\n",
      "\u001b[0;31mKeyboardInterrupt\u001b[0m: "
     ]
    }
   ],
   "source": [
    "filenames = [x for x in os.listdir(czimovie_dir) if os.path.isfile(os.path.join(czimovie_dir, x)) and ('.czi' in x)]\n",
    "\n",
    "# if not in run all mode, only test with the first image of the first movie\n",
    "if not flag_run_all:\n",
    "    filenames = filenames[1:2]\n",
    "\n",
    "for filenameID in range(len(filenames)):\n",
    "\n",
    " ### for each movie, make sub-folders for different output for easier viewing in imagej\n",
    "    movie_mask_output_dir = os.path.join(seg_output_dir,  'mask'+str(filenameID))\n",
    "    movie_seg_output_dir = os.path.join(seg_output_dir,  'seg'+str(filenameID))\n",
    "    movie_label_output_dir = os.path.join(seg_output_dir,  'label'+str(filenameID))\n",
    "    movie_rgb_output_dir = os.path.join(seg_output_dir,  'rgb'+str(filenameID))    \n",
    "    movie_contour_output_dir = os.path.join(plot_output_dir,  'contour_'+str(filenameID))\n",
    "    movie_quiver_cell_output_dir = os.path.join(plot_output_dir,  'quiver_cell_'+str(filenameID))\n",
    "    movie_quiver_obj_output_dir = os.path.join(plot_output_dir,  'quiver_obj_'+str(filenameID))\n",
    "    movie_label_color_output_dir = os.path.join(plot_output_dir,  'label_color_'+str(filenameID))\n",
    "    movie_rgb_plot_output_dir = os.path.join(plot_output_dir,  'rgb_plot'+str(filenameID))\n",
    "    movie_panels_plot_output_dir = os.path.join(plot_output_dir,  'panel_plot'+str(filenameID))\n",
    "    \n",
    "    if not os.path.isdir(movie_mask_output_dir):          os.makedirs(movie_mask_output_dir)\n",
    "    if not os.path.isdir(movie_seg_output_dir):           os.makedirs(movie_seg_output_dir)\n",
    "    if not os.path.isdir(movie_label_output_dir):         os.makedirs(movie_label_output_dir)\n",
    "    if not os.path.isdir(movie_rgb_output_dir):           os.makedirs(movie_rgb_output_dir)\n",
    "    if not os.path.isdir(movie_contour_output_dir):       os.makedirs(movie_contour_output_dir)\n",
    "    if not os.path.isdir(movie_quiver_cell_output_dir):   os.makedirs(movie_quiver_cell_output_dir)\n",
    "    if not os.path.isdir(movie_quiver_obj_output_dir):    os.makedirs(movie_quiver_obj_output_dir)\n",
    "    if not os.path.isdir(movie_label_color_output_dir):   os.makedirs(movie_label_color_output_dir)\n",
    "    if not os.path.isdir(movie_rgb_plot_output_dir):      os.makedirs(movie_rgb_plot_output_dir)\n",
    "    if not os.path.isdir(movie_panels_plot_output_dir):   os.makedirs(movie_panels_plot_output_dir)\n",
    "\n",
    "    filename = filenames[filenameID]\n",
    "    img = tifffile.imread(os.path.join(czimovie_dir,filename))\n",
    "    ### intensity normalization\n",
    "    intensity_scaling_param = [5,20]\n",
    "    norm_pax_movie = intensity_normalization(img, scaling_param=intensity_scaling_param)\n",
    "         \n",
    "    # get the length is the movie\n",
    "    time_length = img.shape[0]\n",
    "\n",
    "    # if not in run all mode, only test with the first image of the first movie\n",
    "    if not flag_run_all:\n",
    "        time_length = 1\n",
    "\n",
    "    for timeID in range(time_length):\n",
    "\n",
    "        prop_df_pax = pd.DataFrame(columns=['filename','cell_ID','time_point','pixel_size','area', 'bbox_area', 'convex_area', 'eccentricity', 'equivalent_diameter', 'euler_number',\n",
    "                            'extent','filled_area','label','major_axis_length','max_intensity','mean_intensity',\n",
    "                            'min_intensity','minor_axis_length','orientation','perimeter','solidity',\n",
    "                            'cell_edge_dist','cell_edge_orient','diff_orient'])\n",
    "\n",
    "\n",
    "        input_pax_img = norm_pax_movie[timeID,:,:]      \n",
    "        smooth_pax_img = gaussian_filter(input_pax_img,sigma=2,mode='nearest',truncate=3)\n",
    "        ### low threshold to get cell masks\n",
    "        new_cell_mask = smooth_pax_img>0.01\n",
    "        ### remove isolated small objects (small regions due to noise)\n",
    "        new_cell_mask = remove_small_objects(new_cell_mask>0, min_size=10000, connectivity=1, in_place=False)        \n",
    "        # remove holes\n",
    "        new_cell_mask = ndimage.binary_fill_holes(new_cell_mask)\n",
    "        # calculate the distance map\n",
    "        distance_taxicab = distance_transform_cdt(new_cell_mask, metric=\"taxicab\")\n",
    "        \n",
    "        ## PARAMETERS for vesselness filter step ##\n",
    "        f2_param = [[1, 0.75]]\n",
    "        pax_seg = filament_2d_wrapper(smooth_pax_img, f2_param)\n",
    "\n",
    "\n",
    "        no_back_smooth_MIP_pax_img = input_pax_img.copy()\n",
    "        no_back_smooth_MIP_pax_img[new_cell_mask==0] = np.mean(smooth_pax_img[new_cell_mask==1])\n",
    "        thresh_sauvola = threshold_sauvola(no_back_smooth_MIP_pax_img, window_size=201,k=-1.75)\n",
    "        binary_sauvola = input_pax_img > thresh_sauvola\n",
    "\n",
    "\n",
    "        f2_param = [[2, 0.85]]\n",
    "        pax_res_2 = filament_2d_wrapper(smooth_pax_img, f2_param)\n",
    "\n",
    "        f2_param = [[1, 0.75]]\n",
    "        pax_res_1 = filament_2d_wrapper(smooth_pax_img, f2_param)\n",
    "\n",
    "        pax_seg_1 = pax_res_1 > 0.75\n",
    "        pax_seg_2 = pax_res_2 > 0.85\n",
    "\n",
    "        binary_sauvola = remove_small_objects(binary_sauvola>0, min_size=5, connectivity=1, in_place=False)\n",
    "\n",
    "        pax_seg = (pax_seg_1 + pax_seg_2 + binary_sauvola)>0    \n",
    "\n",
    "        # remove segmentation outside of the cell\n",
    "        pax_seg = pax_seg*new_cell_mask\n",
    "        # remove single pixel objects\n",
    "        pax_seg = remove_small_objects(pax_seg>0, min_size=5, connectivity=1, in_place=False)\n",
    "\n",
    "        # label segmentations and calculate the region properties\n",
    "        label_pax_seg = label(pax_seg)\n",
    "        regionprops_pax = regionprops(label_pax_seg,intensity_image=input_pax_img)\n",
    "        \n",
    "        # prepare the color map with max of the labels for display (consistent through all images)\n",
    "        max_label = label_pax_seg.max()\n",
    "        newmap = cm.get_cmap('tab20', max_label+1)\n",
    "        newmap.colors = tab20.colors[0:max_label+1,:]\n",
    "        newmap.colors[0,:]  = np.zeros([1,4])\n",
    "        newmap.colors[0,3] = 1\n",
    "        pax_image_label_overlay = label2rgb(label_pax_seg, image=input_pax_img*2,kind='overlay',alpha=0.75,colors=newmap.colors)\n",
    "        \n",
    "\n",
    "        for_orent_mask = binary_opening(new_cell_mask, disk(51))\n",
    "        for_orent_mask = binary_dilation(for_orent_mask, disk(21))\n",
    "        for_orent_distance_taxicab = distance_transform_cdt(for_orent_mask, metric=\"taxicab\")    \n",
    "        \n",
    "        bigger_for_orent_mask = binary_dilation(for_orent_mask, disk(31))\n",
    "        bigger_for_orent_distance_taxicab = distance_transform_cdt(bigger_for_orent_mask, metric=\"taxicab\")\n",
    "\n",
    "\n",
    "        # obtain cell edge orientation based on gradient of the distance map    \n",
    "        n_v = skimage.filters.sobel_v(bigger_for_orent_distance_taxicab)\n",
    "        n_h = skimage.filters.sobel_h(bigger_for_orent_distance_taxicab)\n",
    "        # somehow the gradients are really small, make them reasonable values\n",
    "        for_plot_max = 5/min(n_v.max(), n_h.max())\n",
    "        n_v = n_v*for_plot_max\n",
    "        n_h = n_h*for_plot_max\n",
    "                \n",
    "        # convert the directions into orientation angels   \n",
    "        local_orientation = np.arctan2(n_v,n_h)\n",
    "\n",
    "        # find the orentation and directional vectors for each object at the centroid        \n",
    "        # initialize the vectors\n",
    "        obj_X = np.zeros([label_pax_seg.max(),1])\n",
    "        obj_Y = np.zeros([label_pax_seg.max(),1])\n",
    "        cell_U = np.zeros([label_pax_seg.max(),1])\n",
    "        cell_V = np.zeros([label_pax_seg.max(),1])\n",
    "        obj_U = np.zeros([label_pax_seg.max(),1])\n",
    "        obj_V = np.zeros([label_pax_seg.max(),1])\n",
    "        cell_tan_U = np.zeros([label_pax_seg.max(),1])\n",
    "        cell_tan_V = np.zeros([label_pax_seg.max(),1])\n",
    "        \n",
    "        for iL in range(label_pax_seg.max()):  \n",
    "            obj_X[iL] = regionprops_pax[iL]['centroid'][0]\n",
    "            obj_Y[iL] = regionprops_pax[iL]['centroid'][1]\n",
    "\n",
    "            obj_U[iL] = np.sin(regionprops_pax[iL]['orientation'])\n",
    "            obj_V[iL] = np.cos(regionprops_pax[iL]['orientation'])\n",
    "\n",
    "            cell_edge_orient = local_orientation[int(obj_X[iL]),int(obj_Y[iL])]\n",
    "            cell_tan_U[iL] = np.sin(cell_edge_orient)\n",
    "            cell_tan_V[iL] = np.cos(cell_edge_orient)\n",
    "            \n",
    "            cell_U[iL] = n_v[int(obj_X[iL]),int(obj_Y[iL])]\n",
    "            cell_V[iL] = n_h[int(obj_X[iL]),int(obj_Y[iL])]\n",
    "\n",
    "            diff_orient = cell_edge_orient - regionprops_pax[iL]['orientation']\n",
    "\n",
    "            if(diff_orient>np.pi/2):       diff_orient = diff_orient - np.pi\n",
    "            if(diff_orient>np.pi/2):       diff_orient = diff_orient - np.pi\n",
    "            if(diff_orient<-np.pi/2):      diff_orient = diff_orient + np.pi\n",
    "            if(diff_orient<-np.pi/2):      diff_orient = diff_orient + np.pi\n",
    "\n",
    "            diff_orient = np.abs(diff_orient)   \n",
    "\n",
    "            cell_edge_dist = distance_taxicab[int(obj_X[iL]),int(obj_Y[iL])]\n",
    "            pixel_size=0.0775\n",
    "            # append the feature properties and add the distance and orientation features         \n",
    "            s = pd.Series([filename, filenameID, timeID, pixel_size,\n",
    "                           regionprops_pax[iL].area,regionprops_pax[iL].bbox_area,regionprops_pax[iL].convex_area,\n",
    "                           regionprops_pax[iL].eccentricity,regionprops_pax[iL].equivalent_diameter,regionprops_pax[iL].euler_number,\n",
    "                           regionprops_pax[iL].extent,regionprops_pax[iL].filled_area,regionprops_pax[iL].label,\n",
    "                           regionprops_pax[iL].major_axis_length,regionprops_pax[iL].max_intensity,regionprops_pax[iL].mean_intensity,\n",
    "                           regionprops_pax[iL].min_intensity,regionprops_pax[iL].minor_axis_length,regionprops_pax[iL].orientation,\n",
    "                           regionprops_pax[iL].perimeter,regionprops_pax[iL].solidity, \n",
    "                           cell_edge_dist, cell_edge_orient,diff_orient],\n",
    "                           index=['filename','cell_ID','time_point','pixel_size','area', 'bbox_area', 'convex_area', 'eccentricity', 'equivalent_diameter', 'euler_number',\n",
    "                                  'extent','filled_area','label','major_axis_length','max_intensity','mean_intensity',\n",
    "                                  'min_intensity','minor_axis_length','orientation','perimeter','solidity',\n",
    "                                  'cell_edge_dist','cell_edge_orient','diff_orient'])\n",
    "            prop_df_pax = prop_df_pax.append(s,ignore_index=True)\n",
    "\n",
    "        if flag_csv_save:\n",
    "            prop_df_pax.to_csv(os.path.join(csv_output_dir,'labelprop_SS_'+str(filenameID)+'_t'+str(timeID)+'.csv'))\n",
    "\n",
    "        if flag_seg_save:\n",
    "            tifffile.imsave(os.path.join(movie_mask_output_dir, 'SS_cell_mask_'+str(filenameID)+'_t'+str(timeID)+'.tif'),new_cell_mask.astype(np.uint8))   \n",
    "            tifffile.imsave(os.path.join(movie_seg_output_dir, 'SS_pax_seg_'+str(filenameID)+'_t'+str(timeID)+'.tif'),pax_seg.astype(np.uint8))   \n",
    "            tifffile.imsave(os.path.join(movie_label_output_dir, 'SS_pax_seglabel_'+str(filenameID)+'_t'+str(timeID)+'.tif'),label_pax_seg.astype(np.uint16))   \n",
    "            tifffile.imsave(os.path.join(movie_rgb_output_dir, 'SS_pax_segrgb_'+str(filenameID)+'_t'+str(timeID)+'.jpg'),pax_image_label_overlay)   \n",
    "        \n",
    "        if flag_plot:\n",
    "\n",
    "            if flag_panel_plot:\n",
    "                # plot the main outputs together for quick viewing\n",
    "                fig, ax = plt.subplots(2,4, figsize=(16,8), dpi=256, facecolor='w', edgecolor='k')\n",
    "                ax[0,0].imshow(input_pax_img, cmap=plt.cm.gray,vmax=2,vmin=0)\n",
    "                ax[0,0].axis('off')\n",
    "                ax[0,1].imshow(new_cell_mask, cmap=plt.cm.gray,vmax=0.3,vmin=0)\n",
    "                ax[0,1].axis('off')\n",
    "\n",
    "                # build a grid for contour plot\n",
    "                X, Y = np.meshgrid(np.arange(0,new_cell_mask.shape[1]), np.arange(0,new_cell_mask.shape[0]))\n",
    "                ax[0,2].imshow(for_orent_distance_taxicab,cmap=plt.cm.gray)\n",
    "                ax[0,2].contour(X, Y, for_orent_distance_taxicab,6,colors=('yellow','green', 'r','blue','cyan'),linewidths=0.7)\n",
    "                ax[0,2].axis('off')        \n",
    "            \n",
    "                # build a sparse grid and only within cell mask for quivering the directions\n",
    "                grid_mask = np.zeros_like(new_cell_mask)\n",
    "                grid_mask[::30,::30] = new_cell_mask[::30,::30]\n",
    "                to_plot_X = X[grid_mask>0]\n",
    "                to_plot_Y = Y[grid_mask>0]\n",
    "                to_plot_U = n_v[grid_mask>0]\n",
    "                to_plot_H = n_h[grid_mask>0]\n",
    "\n",
    "                ax[0,3].imshow(for_orent_distance_taxicab,cmap=plt.cm.gray)\n",
    "                ax[0,3].quiver(to_plot_X,to_plot_Y, -to_plot_U,to_plot_H,color='blue')\n",
    "                ax[0,3].contour(X, Y, for_orent_distance_taxicab,6,linewidths=0.1)    \n",
    "                ax[0,3].axis('off')\n",
    "\n",
    "\n",
    "                ax[1,0].imshow(pax_seg, cmap=plt.cm.gray,vmax=0.1,vmin=0)\n",
    "                ax[1,0].axis('off')\n",
    "                \n",
    "                ax[1,1].imshow(label_pax_seg, cmap=newmap,vmax = 1001,vmin = 0,interpolation='none')\n",
    "                ax[1,1].axis('off')\n",
    "\n",
    "                ax[1,2].imshow(pax_image_label_overlay)\n",
    "                ax[1,2].axis('off')\n",
    "                \n",
    "                ax[1,3].imshow(input_pax_img,cmap=plt.cm.gray,vmax=1,vmin=0)\n",
    "                # quiver the orientation based on cell shape in blue\n",
    "                ax[1,3].quiver(obj_Y,obj_X, -cell_U,cell_V,color='blue')\n",
    "                # quiver the orientation of each object in magenta        \n",
    "                ax[1,3].quiver(obj_Y,obj_X,  -obj_U,obj_V,color='m')         \n",
    "                ax[1,3].axis('off')\n",
    "\n",
    "                if flag_plot_save: \n",
    "                    # save the plots and subplots for easier viewing\n",
    "                    plt.savefig(os.path.join(movie_panels_plot_output_dir,'panels_'+str(filenameID)+'_t'+str(timeID)+'_org_sm_ves_seg.png'))\n",
    "\n",
    "                    extent = ax[1,3].get_tightbbox(fig.canvas.renderer).transformed(fig.dpi_scale_trans.inverted())\n",
    "                    fig.savefig(os.path.join(movie_quiver_obj_output_dir,'quiver_obj_'+str(filenameID)+'_t'+str(timeID)+'.png'), bbox_inches=extent)\n",
    "\n",
    "                    extent = ax[0,2].get_tightbbox(fig.canvas.renderer).transformed(fig.dpi_scale_trans.inverted())\n",
    "                    fig.savefig(os.path.join(movie_contour_output_dir,'contours_'+str(filenameID)+'_t'+str(timeID)+'.png'), bbox_inches=extent)\n",
    "\n",
    "                    extent = ax[0,3].get_tightbbox(fig.canvas.renderer).transformed(fig.dpi_scale_trans.inverted())\n",
    "                    fig.savefig(os.path.join(movie_quiver_cell_output_dir,'quiver_cell_'+str(filenameID)+'_t'+str(timeID)+'.png'), bbox_inches=extent)\n",
    "\n",
    "                    extent = ax[1,1].get_tightbbox(fig.canvas.renderer).transformed(fig.dpi_scale_trans.inverted())\n",
    "                    fig.savefig(os.path.join(movie_label_color_output_dir,'labels_'+str(filenameID)+'_t'+str(timeID)+'.png'), bbox_inches=extent)\n",
    "\n",
    "                    extent = ax[1,2].get_tightbbox(fig.canvas.renderer).transformed(fig.dpi_scale_trans.inverted())\n",
    "                    fig.savefig(os.path.join(movie_rgb_plot_output_dir,'rgb_'+str(filenameID)+'_t'+str(timeID)+'.png'), bbox_inches=extent)\n",
    "                \n",
    "                if flag_run_all:\n",
    "                    plt.close(fig) \n",
    "            else:\n",
    "                # plot the the features for debugging\n",
    "                plt.rcParams[\"figure.figsize\"] = (30,30)\n",
    "                plt.imshow(input_pax_img*1.5,cmap=plt.cm.gray,vmax=1,vmin=0)\n",
    "                # plt.hold(True)\n",
    "                # quiver the orientation based on cell shape in blue\n",
    "\n",
    "                for iL in range(1,label_pax_seg.max()):  \n",
    "\n",
    "                    obj_X[iL] = regionprops_pax[iL]['centroid'][0]\n",
    "                    obj_Y[iL] = regionprops_pax[iL]['centroid'][1]\n",
    "\n",
    "                    cell_edge_dist = distance_taxicab[int(obj_X[iL]),int(obj_Y[iL])]\n",
    "\n",
    "                    obj_U[iL] = np.sin(regionprops_pax[iL]['orientation'])\n",
    "                    obj_V[iL] = np.cos(regionprops_pax[iL]['orientation'])\n",
    "\n",
    "                    cell_edge_orient = local_orientation[int(obj_X[iL]),int(obj_Y[iL])]\n",
    "                    cell_tan_U[iL] = np.sin(cell_edge_orient)\n",
    "                    cell_tan_V[iL] = np.cos(cell_edge_orient)\n",
    "                    \n",
    "                    cell_U[iL] = n_v[int(obj_X[iL]),int(obj_Y[iL])]\n",
    "                    cell_V[iL] = n_h[int(obj_X[iL]),int(obj_Y[iL])]\n",
    "\n",
    "                    diff_orient = cell_edge_orient - regionprops_pax[iL]['orientation']\n",
    "                    if(diff_orient>np.pi/2):       diff_orient = diff_orient - np.pi\n",
    "                    if(diff_orient>np.pi/2):       diff_orient = diff_orient - np.pi\n",
    "                    if(diff_orient<-np.pi/2):      diff_orient = diff_orient + np.pi\n",
    "                    if(diff_orient<-np.pi/2):      diff_orient = diff_orient + np.pi\n",
    "\n",
    "                    diff_orient = np.abs(diff_orient)  \n",
    "                    [px,py] =np.where(label_pax_seg==iL)\n",
    "                    plt.plot(py,px,color=newmap.colors[iL,:])\n",
    "\n",
    "                    # plt.text(obj_Y[iL],obj_X[iL],'d='+f'{cell_edge_dist:.0f}'+',oo='+f'{regionprops_pax[iL].orientation:.1f}'+',co='+f'{cell_edge_orient:.1f}'+',diff='+f'{diff_orient:.1f}',color='r')\n",
    "                    plt.text(obj_Y[iL],obj_X[iL],'d'+f'{cell_edge_dist:.0f}'+',o'+f'{regionprops_pax[iL].orientation:.1f}'+',c'+f'{cell_edge_orient:.1f}'+',d'+f'{diff_orient:.1f}',color='r')\n",
    "              \n",
    "                plt.quiver(obj_Y,obj_X, -cell_U,cell_V,color='blue',width=0.001)\n",
    "                # quiver the orientation of each object in magenta        \n",
    "                plt.quiver(obj_Y,obj_X,  -obj_U,obj_V,color='m',width=0.001)   \n",
    "\n",
    "\n",
    "              \n",
    "                if flag_plot_save: \n",
    "                    # save the plots and subplots for easier viewing\n",
    "                    plt.savefig(os.path.join(movie_panels_plot_output_dir,'features_'+str(filenameID)+'_t'+str(timeID)+'.png'))\n",
    "                \n",
    "                if flag_run_all:\n",
    "                    plt.close(fig) \n",
    "                        \n",
    "\n",
    "                "
   ]
  },
  {
   "cell_type": "code",
   "execution_count": 13,
   "metadata": {},
   "outputs": [
    {
     "data": {
      "text/plain": [
       "<matplotlib.image.AxesImage at 0x7f067f8290b8>"
      ]
     },
     "execution_count": 13,
     "metadata": {},
     "output_type": "execute_result"
    },
    {
     "data": {
      "image/png": "[encoded data removed]",
      "text/plain": [
       "<Figure size 432x288 with 1 Axes>"
      ]
     },
     "metadata": {
      "needs_background": "light"
     },
     "output_type": "display_data"
    }
   ],
   "source": [
    "plt.imshow(new_cell_mask)"
   ]
  },
  {
   "cell_type": "code",
   "execution_count": 14,
   "metadata": {},
   "outputs": [
    {
     "data": {
      "text/plain": [
       "<matplotlib.image.AxesImage at 0x7f05e2a8eda0>"
      ]
     },
     "execution_count": 14,
     "metadata": {},
     "output_type": "execute_result"
    },
    {
     "data": {
      "image/png": "[encoded data removed]",
      "text/plain": [
       "<Figure size 432x288 with 1 Axes>"
      ]
     },
     "metadata": {
      "needs_background": "light"
     },
     "output_type": "display_data"
    }
   ],
   "source": [
    "plt.imshow(for_orent_mask)"
   ]
  },
  {
   "cell_type": "code",
   "execution_count": 15,
   "metadata": {},
   "outputs": [
    {
     "data": {
      "text/plain": [
       "<matplotlib.image.AxesImage at 0x7f05e27b5198>"
      ]
     },
     "execution_count": 15,
     "metadata": {},
     "output_type": "execute_result"
    },
    {
     "data": {
      "image/png": "[encoded data removed]",
      "text/plain": [
       "<Figure size 432x288 with 1 Axes>"
      ]
     },
     "metadata": {
      "needs_background": "light"
     },
     "output_type": "display_data"
    }
   ],
   "source": [
    "plt.imshow(for_orent_distance_taxicab)"
   ]
  },
  {
   "cell_type": "code",
   "execution_count": 16,
   "metadata": {},
   "outputs": [
    {
     "data": {
      "text/plain": [
       "<matplotlib.image.AxesImage at 0x7f05e2774908>"
      ]
     },
     "execution_count": 16,
     "metadata": {},
     "output_type": "execute_result"
    },
    {
     "data": {
      "image/png": "[encoded data removed]",
      "text/plain": [
       "<Figure size 432x288 with 1 Axes>"
      ]
     },
     "metadata": {
      "needs_background": "light"
     },
     "output_type": "display_data"
    }
   ],
   "source": [
    "plt.imshow(distance_taxicab)"
   ]
  },
  {
   "cell_type": "code",
   "execution_count": 17,
   "metadata": {},
   "outputs": [
    {
     "data": {
      "text/plain": [
       "(-0.5, 1028.5, 1676.5, -0.5)"
      ]
     },
     "execution_count": 17,
     "metadata": {},
     "output_type": "execute_result"
    },
    {
     "data": {
      "image/png": "[encoded data removed]",
      "text/plain": [
       "<Figure size 432x288 with 1 Axes>"
      ]
     },
     "metadata": {
      "needs_background": "light"
     },
     "output_type": "display_data"
    }
   ],
   "source": [
    "plt.imshow(for_orent_distance_taxicab,cmap=plt.cm.gray)\n",
    "plt.quiver(to_plot_X,to_plot_Y, -to_plot_U,to_plot_H,color='blue')\n",
    "plt.contour(X, Y, for_orent_distance_taxicab,6,linewidths=0.1)    \n",
    "plt.axis('off')"
   ]
  },
  {
   "cell_type": "code",
   "execution_count": null,
   "metadata": {},
   "outputs": [],
   "source": [
    "'d='+f'{cell_edge_dist:.0f}'+',oo='+f'{regionprops_pax[iL].orientation:.1f}'+',co='+f'{cell_edge_orient:.1f}'+',diff='+f'{diff_orient:.1f}'"
   ]
  },
  {
   "cell_type": "code",
   "execution_count": null,
   "metadata": {},
   "outputs": [],
   "source": [
    "f'{cell_edge_dist:.0f}'"
   ]
  },
  {
   "cell_type": "markdown",
   "metadata": {},
   "source": [
    "### belows are for debugging, keep it here until no longer needed"
   ]
  },
  {
   "cell_type": "code",
   "execution_count": null,
   "metadata": {},
   "outputs": [],
   "source": [
    "pax_image_label_overlay = label2rgb(label_pax_seg, image=smooth_pax_img, bg_label=0,kind='overlay',alpha=0.5)\n",
    "plt.rcParams[\"figure.figsize\"] = (15,15)\n",
    "plt.imshow(pax_image_label_overlay)"
   ]
  },
  {
   "cell_type": "code",
   "execution_count": null,
   "metadata": {},
   "outputs": [],
   "source": [
    "plt.rcParams[\"figure.figsize\"] = (15,15)\n",
    "plt.imshow(pax_image_label_overlay, cmap=plt.cm.RdBu_r,vmax=0.1,vmin=0)\n",
    "# plt.quiver(obj_Y,obj_X, cell_U,cell_V,color='blue')\n",
    "Q = plt.quiver(obj_Y,obj_X, -obj_U,obj_V,color='m')#width=0.005,headwidth=0.1,headaxislength=0.02,headlength=0.01)\n",
    "# plt.quiver(obj_Y,obj_X, cell_U,cell_V,color='blue')\n",
    "\n",
    "plt.axis('off')"
   ]
  },
  {
   "cell_type": "code",
   "execution_count": null,
   "metadata": {},
   "outputs": [],
   "source": [
    "plt.imshow(distance_taxicab)\n",
    "\n",
    "grid_mask = np.zeros_like(new_cell_mask)\n",
    "grid_mask[::30,::30] = new_cell_mask[::30,::30]\n",
    "to_plot_X = X[grid_mask>0]\n",
    "to_plot_Y = Y[grid_mask>0]\n",
    "to_plot_U = n_v[grid_mask>0]\n",
    "to_plot_H = n_h[grid_mask>0]\n",
    "\n",
    "# plt.contour(X, Y, distance_taxicab,6,linewidths=2)    \n",
    "plt.quiver(to_plot_X,to_plot_Y, -to_plot_U,to_plot_H,color='blue')\n",
    "plt.axis('off')"
   ]
  }
 ],
 "metadata": {
  "kernelspec": {
   "display_name": "Python 3",
   "language": "python",
   "name": "python3"
  },
  "language_info": {
   "codemirror_mode": {
    "name": "ipython",
    "version": 3
   },
   "file_extension": ".py",
   "mimetype": "text/x-python",
   "name": "python",
   "nbconvert_exporter": "python",
   "pygments_lexer": "ipython3",
   "version": "3.6.13"
  }
 },
 "nbformat": 4,
 "nbformat_minor": 4
}
