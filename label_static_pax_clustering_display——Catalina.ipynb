{
 "cells": [
  {
   "cell_type": "markdown",
   "metadata": {},
   "source": [
    "### Paxillin movie segmentation and object feature analysis\n",
    "\n",
    "with static images\n",
    "\n",
    "Liya Ding, 2024.04"
   ]
  },
  {
   "cell_type": "code",
   "execution_count": 1,
   "metadata": {},
   "outputs": [],
   "source": [
    "import numpy as np\n",
    "import seaborn as sns\n",
    "import pandas as pd\n",
    "import umap\n",
    "from joblib import dump, load\n",
    "import os.path\n",
    "\n",
    "import matplotlib.pyplot as plt\n",
    "from matplotlib import cm\n",
    "from matplotlib.transforms import Bbox\n",
    "\n",
    "import tifffile \n",
    "import czifile\n",
    "\n",
    "import skimage\n",
    "from skimage.morphology import remove_small_objects\n",
    "from skimage.measure import label, regionprops, regionprops_table\n",
    "from skimage.color import label2rgb\n",
    "\n",
    "from scipy import ndimage\n",
    "from scipy.ndimage import distance_transform_cdt\n",
    "from scipy.ndimage import gaussian_filter\n",
    "\n",
    "from sklearn.decomposition import PCA\n",
    "from sklearn.datasets import load_digits\n",
    "from sklearn.model_selection import train_test_split\n",
    "from sklearn.preprocessing import StandardScaler\n",
    "\n",
    "\n",
    "# function from aicssegmentation tool\n",
    "from utils.vessel_2d import filament_2d_wrapper\n",
    "from utils.pre_processing_utils import intensity_normalization\n"
   ]
  },
  {
   "cell_type": "code",
   "execution_count": 2,
   "metadata": {},
   "outputs": [],
   "source": [
    "pax_MIP_dir =  '/mnt/d/lding/FA/data/U2OS_catalina_202403/C2_Paxillin'\n",
    "actin_MIP_dir = '/mnt/d/lding/FA/data/U2OS_catalina_202403/C4_Actin'\n",
    "\n",
    "csv_output_dir = '/mnt/d/lding/FA/analysis_results/U2OS_catalina/Vess-LocThr-GlThr-Open_tab10_csv'\n",
    "plot_output_dir = '/mnt/d/lding/FA/analysis_results/U2OS_catalina/Vess-LocThr-GlThr-Open_tab10_plot'\n",
    "seg_output_dir = '/mnt/d/lding/FA/analysis_results/U2OS_catalina/Vess-LocThr-GlThr-Open_tab10_seg'\n",
    "\n",
    "pixel_size = 0.0706\n",
    "time_point = 0\n",
    "\n",
    "if not os.path.isdir(csv_output_dir):\n",
    "    os.makedirs(csv_output_dir)\n",
    "if not os.path.isdir(plot_output_dir):\n",
    "    os.makedirs(plot_output_dir)\n",
    "if not os.path.isdir(seg_output_dir):\n",
    "    os.makedirs(seg_output_dir)"
   ]
  },
  {
   "cell_type": "code",
   "execution_count": 3,
   "metadata": {},
   "outputs": [],
   "source": [
    "# build the colormap with iterative tab10\n",
    "tab10 = cm.get_cmap('tab10', 10)\n",
    "for i in range(10):\n",
    "    tab10.colors = np.concatenate([tab10.colors,tab10.colors],axis=0)    \n",
    "tab10.colors = np.concatenate([np.zeros([1,4]),tab10.colors],axis=0)\n",
    "\n",
    "newmap = cm.get_cmap('tab10', 4000+1)\n",
    "newmap.colors = tab10.colors[0:4000+1,:]\n",
    "newmap.colors[0,:]  = np.zeros([1,4])\n",
    "newmap.colors[0,3] = 1"
   ]
  },
  {
   "cell_type": "markdown",
   "metadata": {},
   "source": [
    "### for each movie run through all the time points"
   ]
  },
  {
   "cell_type": "code",
   "execution_count": 4,
   "metadata": {},
   "outputs": [],
   "source": [
    "# flag for some optinal parts\n",
    "flag_plot = True\n",
    "flag_plot_save = True\n",
    "flag_seg_save = True\n",
    "flag_csv_save = True\n",
    "flag_run_all = True\n",
    "flag_panel_plot = True"
   ]
  },
  {
   "cell_type": "code",
   "execution_count": 5,
   "metadata": {},
   "outputs": [],
   "source": [
    "prop_df_pax_all=pd.read_csv(os.path.join('/mnt/d/lding/FA/analysis_results/static_image_csv/','static_images_cluster_labels_allcells_nc'+str(7)+'.csv'))\n",
    "        "
   ]
  },
  {
   "cell_type": "code",
   "execution_count": 6,
   "metadata": {},
   "outputs": [],
   "source": [
    "### for each movie, make sub-folders for different output for easier viewing in imagej\n",
    "movie_mask_output_dir = os.path.join(seg_output_dir,  'mask')\n",
    "movie_seg_output_dir = os.path.join(seg_output_dir,  'seg')\n",
    "movie_label_output_dir = os.path.join(seg_output_dir,  'label')\n",
    "movie_labeltoggle_output_dir = os.path.join(seg_output_dir,  'togglelabel')\n",
    "movie_rgb_output_dir = os.path.join(seg_output_dir,  'rgb')    \n",
    "movie_contour_output_dir = os.path.join(plot_output_dir,  'contour')\n",
    "movie_quiver_cell_output_dir = os.path.join(plot_output_dir,  'quiver_cell')\n",
    "movie_quiver_obj_output_dir = os.path.join(plot_output_dir,  'quiver_obj')\n",
    "movie_label_color_output_dir = os.path.join(plot_output_dir,  'label_color')\n",
    "movie_rgb_plot_output_dir = os.path.join(plot_output_dir,  'rgb_plot')\n",
    "movie_panels_plot_output_dir = os.path.join(plot_output_dir,  'panel_plot')\n",
    "movie_cluster_plot_output_dir = os.path.join(plot_output_dir,  'cluster_tab10_plot')\n",
    "if not os.path.isdir(movie_cluster_plot_output_dir):   os.makedirs(movie_cluster_plot_output_dir)"
   ]
  },
  {
   "cell_type": "code",
   "execution_count": 7,
   "metadata": {},
   "outputs": [],
   "source": [
    "# get a global intensity threshold \n",
    "filenames = [x for x in os.listdir(pax_MIP_dir) if os.path.isfile(os.path.join(pax_MIP_dir, x)) and ('.tif' in x)]\n",
    "\n",
    "for filenameID in range(len(filenames)):\n",
    "    filename = filenames[filenameID]\n",
    "    # print(filename)\n",
    "    pax_img = tifffile.imread(os.path.join(pax_MIP_dir,filename))\n",
    "    actin_img = tifffile.imread(os.path.join(actin_MIP_dir,filename.replace(\"C2\", \"C4\")))\n",
    "    \n",
    "    if(len(pax_img.shape)==3):\n",
    "        pax_img = pax_img.max(axis=0)\n",
    "    if(len(actin_img.shape)==3):\n",
    "        actin_img = actin_img.max(axis=0)\n",
    "\n",
    "    intensity_scaling_param = [5,20]\n",
    "    norm_pax_img = intensity_normalization(pax_img, scaling_param=intensity_scaling_param)\n",
    "    norm_actin_img = intensity_normalization(actin_img, scaling_param=intensity_scaling_param)\n",
    "       \n",
    "    MIP_pax_img = norm_pax_img\n",
    "    MIP_actin_img = norm_actin_img\n",
    "    \n",
    "    label_pax_seg = tifffile.imread(os.path.join(movie_label_output_dir, 'SS_pax_seglabel_'+filename+'_MIP'+'.tif'))   \n",
    "\n",
    "    max_label = label_pax_seg.max()+1\n",
    "\n",
    "    \n",
    "    # print(newmap.colors[:,0:3])\n",
    "    less_col_prop_df_pax_all = prop_df_pax_all[['filename','cell_ID','label','cluster_ID_MiniBatc']]\n",
    "    cluster_label_pax_seg = np.zeros_like(label_pax_seg)\n",
    "    this_cell_table = less_col_prop_df_pax_all[less_col_prop_df_pax_all['filename'] == filename]\n",
    "    \n",
    "    for iL in range(1,label_pax_seg.max()+1):  \n",
    "        # print(iL)\n",
    "        cluster_ID = this_cell_table[this_cell_table['label']==iL]\n",
    "        if(cluster_ID.shape[0]==1):\n",
    "            cluster_label_pax_seg[label_pax_seg==iL] = cluster_ID.iloc[0,-1]+1\n",
    "\n",
    "    if flag_plot:\n",
    "\n",
    "        if flag_panel_plot:\n",
    "            # plot the main outputs together for quick viewing\n",
    "            fig, ax = plt.subplots(1,3, figsize=(16,8), dpi=256, facecolor='w', edgecolor='k')\n",
    "            ax[0].imshow(MIP_pax_img, cmap=plt.cm.gray)\n",
    "            ax[0].axis('off')\n",
    "\n",
    "            ax[1].imshow(label_pax_seg, cmap=newmap, vmax = 4001,vmin = 0, interpolation='none')\n",
    "            ax[1].axis('off')\n",
    "\n",
    "            ax[2].imshow(cluster_label_pax_seg, cmap=newmap,vmax = 4001,vmin = 0, interpolation='none')\n",
    "            ax[2].axis('off')\n",
    "            \n",
    "            if flag_plot_save: \n",
    "                # save the plots and subplots for easier viewing\n",
    "                plt.savefig(os.path.join(movie_cluster_plot_output_dir,'clusters_'+str(filenameID)+'.png'))\n",
    "            \n",
    "            if flag_run_all:\n",
    "                plt.close(fig) \n",
    "                    \n",
    "\n",
    "                "
   ]
  },
  {
   "cell_type": "code",
   "execution_count": null,
   "metadata": {},
   "outputs": [],
   "source": []
  }
 ],
 "metadata": {
  "kernelspec": {
   "display_name": "Python 3",
   "language": "python",
   "name": "python3"
  },
  "language_info": {
   "codemirror_mode": {
    "name": "ipython",
    "version": 3
   },
   "file_extension": ".py",
   "mimetype": "text/x-python",
   "name": "python",
   "nbconvert_exporter": "python",
   "pygments_lexer": "ipython3",
   "version": "3.6.13"
  }
 },
 "nbformat": 4,
 "nbformat_minor": 4
}
