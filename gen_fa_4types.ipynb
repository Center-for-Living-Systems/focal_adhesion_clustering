{
 "cells": [
  {
   "cell_type": "code",
   "execution_count": 1,
   "metadata": {},
   "outputs": [],
   "source": [
    "import numpy as np\n",
    "# import seaborn as sns\n",
    "import pandas as pd\n",
    "import os.path\n",
    "\n",
    "import matplotlib.pyplot as plt\n",
    "\n",
    "import tifffile \n",
    "import czifile\n",
    "\n",
    "from skimage import transform\n",
    "from scipy import ndimage\n",
    "\n",
    "import random \n",
    "import math\n",
    "\n",
    "import numpy as np\n",
    "import seaborn as sns\n",
    "import pandas as pd\n",
    "import umap\n",
    "from joblib import dump, load\n",
    "import os.path\n",
    "\n",
    "import matplotlib.pyplot as plt\n",
    "from matplotlib import cm\n",
    "from matplotlib.transforms import Bbox\n",
    "\n",
    "import tifffile \n",
    "import czifile\n",
    "\n",
    "import skimage\n",
    "from skimage.morphology import remove_small_objects\n",
    "from skimage.measure import label, regionprops, regionprops_table\n",
    "from skimage.color import label2rgb\n",
    "from skimage.filters import (threshold_otsu, threshold_niblack,\n",
    "                             threshold_sauvola)\n",
    "\n",
    "from skimage.morphology import binary_opening, binary_dilation\n",
    "from skimage.morphology import disk\n",
    "\n",
    "\n",
    "from scipy import ndimage\n",
    "from scipy.ndimage import distance_transform_cdt\n",
    "from scipy.ndimage import gaussian_filter\n",
    "\n",
    "from sklearn.decomposition import PCA\n",
    "from sklearn.datasets import load_digits\n",
    "from sklearn.model_selection import train_test_split\n",
    "from sklearn.preprocessing import StandardScaler\n",
    "\n",
    "\n",
    "# import sys\n",
    " \n",
    "# # adding Folder_2/subfolder to the system path\n",
    "# sys.path.insert(0, '/mnt/d/lding/UbuntuGitCodes/focal_adhesion_clustering/utils')\n",
    " \n",
    "\n",
    "# function from aicssegmentation tool\n",
    "from utils.vessel_2d import filament_2d_wrapper\n",
    "from utils.pre_processing_utils import intensity_normalization\n"
   ]
  },
  {
   "cell_type": "markdown",
   "metadata": {},
   "source": [
    "1. make cell shape\n",
    "2. make fa objects circular ones\n",
    "3. make fa objects, elipsoids\n",
    "4. put them in random distance to cell boundary with orienation towards cell edge following a normal distribution\n"
   ]
  },
  {
   "cell_type": "code",
   "execution_count": 12,
   "metadata": {},
   "outputs": [],
   "source": [
    "cell_mask_folder = '/mnt/d/lding/FA/analysis_results/simulation/cell_mask'\n",
    "\n",
    "cellmask_filenames = [x for x in os.listdir(cell_mask_folder) if os.path.isfile(os.path.join(cell_mask_folder, x)) and ('.tif' in x)]\n",
    "\n",
    "for cellmask_filenameID in range(0,len(cellmask_filenames)):\n",
    "    \n",
    "    filename = cellmask_filenames[cellmask_filenameID]\n",
    "    cell_mask_img = tifffile.imread(os.path.join(cell_mask_folder,filename))\n",
    "    cell_mask = cell_mask_img>0\n",
    "    \n",
    "    distance_taxicab = distance_transform_cdt(cell_mask, metric=\"taxicab\")\n",
    "\n",
    "    # TYPE 1, NASCENT   \n",
    "\n",
    "    indxy = np.where(np.logical_and(distance_taxicab>0, distance_taxicab <3))\n",
    "\n",
    "\n",
    "\n"
   ]
  },
  {
   "cell_type": "code",
   "execution_count": 15,
   "metadata": {},
   "outputs": [],
   "source": [
    "import random"
   ]
  },
  {
   "cell_type": "code",
   "execution_count": 30,
   "metadata": {},
   "outputs": [],
   "source": [
    "indxy = np.where(np.logical_and(distance_taxicab>0, distance_taxicab <10))\n",
    "res = random.sample(range(1, indxy[0].shape[0]), 100)\n"
   ]
  },
  {
   "cell_type": "code",
   "execution_count": 58,
   "metadata": {},
   "outputs": [],
   "source": [
    "seed_img = np.zeros_like(cell_mask)\n",
    "\n",
    "for id_ID in range(100):\n",
    "    seed_img[indxy[0][res[id_ID]],indxy[1][res[id_ID]]]=1\n"
   ]
  },
  {
   "cell_type": "code",
   "execution_count": 59,
   "metadata": {},
   "outputs": [],
   "source": [
    "A = ndimage.correlate(seed_img, disk(5), mode='constant', origin=-1)"
   ]
  },
  {
   "cell_type": "code",
   "execution_count": 60,
   "metadata": {},
   "outputs": [
    {
     "data": {
      "text/plain": [
       "(array([ 227,  227,  228, ..., 1768, 1768, 1768]),\n",
       " array([ 847,  848,  842, ..., 1223, 1224, 1225]))"
      ]
     },
     "execution_count": 60,
     "metadata": {},
     "output_type": "execute_result"
    }
   ],
   "source": [
    "indxy"
   ]
  },
  {
   "cell_type": "code",
   "execution_count": 61,
   "metadata": {},
   "outputs": [
    {
     "data": {
      "text/plain": [
       "<matplotlib.image.AxesImage at 0x7efe99f444a8>"
      ]
     },
     "execution_count": 61,
     "metadata": {},
     "output_type": "execute_result"
    },
    {
     "data": {
      "image/png": "[encoded data removed]",
      "text/plain": [
       "<Figure size 432x288 with 1 Axes>"
      ]
     },
     "metadata": {
      "needs_background": "light"
     },
     "output_type": "display_data"
    }
   ],
   "source": [
    "plt.imshow(A,interpolation='None')\n",
    "# plt.scatter(indxy[1],indxy[0])"
   ]
  },
  {
   "cell_type": "code",
   "execution_count": 72,
   "metadata": {},
   "outputs": [],
   "source": [
    "indxy = np.where(np.logical_and(distance_taxicab>30, distance_taxicab <50))\n",
    "res = random.sample(range(1, indxy[0].shape[0]), 100)\n",
    "\n",
    "seed_img = np.zeros_like(cell_mask)\n",
    "\n",
    "for id_ID in range(100):\n",
    "    seed_img[indxy[0][res[id_ID]],indxy[1][res[id_ID]]]=1\n",
    "\n",
    "B = ndimage.correlate(seed_img, disk(5), mode='constant', origin=-1)\n",
    "\n"
   ]
  },
  {
   "cell_type": "code",
   "execution_count": 143,
   "metadata": {},
   "outputs": [],
   "source": [
    "indxy = np.where(np.logical_and(distance_taxicab>30, distance_taxicab <500))\n",
    "res = random.sample(range(1, indxy[0].shape[0]), 100)\n",
    "\n",
    "seed_img = np.zeros_like(cell_mask)\n",
    "\n",
    "for id_ID in range(100):\n",
    "    seed_img[indxy[0][res[id_ID]],indxy[1][res[id_ID]]]=1\n",
    "\n",
    "BB = ndimage.correlate(seed_img, disk(5), mode='constant', origin=-1)"
   ]
  },
  {
   "cell_type": "code",
   "execution_count": 176,
   "metadata": {},
   "outputs": [],
   "source": [
    "indxy = np.where(np.logical_and(distance_taxicab>20, distance_taxicab <150))\n",
    "res = random.sample(range(1, indxy[0].shape[0]), 100)\n",
    "\n",
    "C = np.zeros_like(cell_mask)\n",
    "\n",
    "for id_ID in range(100):\n",
    "    seed_img = np.zeros_like(cell_mask)\n",
    "    seed_img[indxy[0][res[id_ID]],indxy[1][res[id_ID]]]=1.0\n",
    "\n",
    "    kk  = disk(25)\n",
    "    S = kk[::5,:]\n",
    "    SS = np.zeros_like(disk(25))\n",
    "    SS[25-5:25+6] = kk[::5,:]\n",
    "\n",
    "    S_rotate = transform.rotate(SS, 90 + 180/(np.pi)*local_orientation[indxy[0][res[id_ID]],indxy[1][res[id_ID]]], resize=False, center=None, order=None, mode='constant', cval=0, clip=True)\n",
    "\n",
    "    model = S_rotate>S_rotate.mean()\n",
    "    Cthis = ndimage.correlate(seed_img, model, mode='constant', origin=-1)\n",
    "    C = C+Cthis\n",
    "    # plt.imshow(S_rotate)"
   ]
  },
  {
   "cell_type": "code",
   "execution_count": 173,
   "metadata": {},
   "outputs": [],
   "source": [
    "indxy = np.where(np.logical_and(distance_taxicab>0, distance_taxicab <20))\n",
    "res = random.sample(range(1, indxy[0].shape[0]), 100)\n",
    "\n",
    "CC = np.zeros_like(cell_mask)\n",
    "\n",
    "for id_ID in range(100):\n",
    "    seed_img = np.zeros_like(cell_mask)\n",
    "    seed_img[indxy[0][res[id_ID]],indxy[1][res[id_ID]]]=1.0\n",
    "\n",
    "    kk  = disk(25)\n",
    "    S = kk[::5,:]\n",
    "    SS = np.zeros_like(disk(25))\n",
    "    SS[25-5:25+6] = kk[::5,:]\n",
    "\n",
    "    S_rotate = transform.rotate(SS, random.randint(0,30)-15 + 180/(np.pi)*local_orientation[indxy[0][res[id_ID]],indxy[1][res[id_ID]]], resize=False, center=None, order=None, mode='constant', cval=0, clip=True)\n",
    "\n",
    "    model = S_rotate>S_rotate.mean()\n",
    "    CCthis = ndimage.correlate(seed_img, model, mode='constant', origin=-1)\n",
    "    CC = CC+CCthis\n",
    "    # plt.imshow(S_rotate)"
   ]
  },
  {
   "cell_type": "code",
   "execution_count": 172,
   "metadata": {},
   "outputs": [
    {
     "data": {
      "text/plain": [
       "10"
      ]
     },
     "execution_count": 172,
     "metadata": {},
     "output_type": "execute_result"
    }
   ],
   "source": [
    "rr = random.randint(0,30)-15\n",
    "rr"
   ]
  },
  {
   "cell_type": "code",
   "execution_count": 157,
   "metadata": {},
   "outputs": [
    {
     "data": {
      "text/plain": [
       "99"
      ]
     },
     "execution_count": 157,
     "metadata": {},
     "output_type": "execute_result"
    }
   ],
   "source": [
    "rr"
   ]
  },
  {
   "cell_type": "code",
   "execution_count": 147,
   "metadata": {},
   "outputs": [],
   "source": [
    "indxy = np.where(np.logical_and(distance_taxicab>300, distance_taxicab <800))\n",
    "res = random.sample(range(1, indxy[0].shape[0]), 30)\n",
    "\n",
    "D = np.zeros_like(cell_mask)\n",
    "\n",
    "for id_ID in range(30):\n",
    "    seed_img = np.zeros_like(cell_mask)\n",
    "    seed_img[indxy[0][res[id_ID]],indxy[1][res[id_ID]]]=1.0\n",
    "\n",
    "    kk  = disk(51)\n",
    "    S = kk[::10,:]\n",
    "    SS = np.zeros_like(disk(51))\n",
    "    SS[25-5:25+6] = kk[::10,:]\n",
    "\n",
    "    S_rotate = transform.rotate(SS, 90 + 180/(np.pi)*local_orientation[indxy[0][res[id_ID]],indxy[1][res[id_ID]]], resize=False, center=None, order=None, mode='constant', cval=0, clip=True)\n",
    "\n",
    "    model = S_rotate>S_rotate.mean()\n",
    "    Dthis = ndimage.correlate(seed_img, model, mode='constant', origin=-1)\n",
    "    D = D+Dthis\n",
    "    # plt.imshow(S_rotate)"
   ]
  },
  {
   "cell_type": "code",
   "execution_count": 182,
   "metadata": {},
   "outputs": [
    {
     "data": {
      "text/plain": [
       "<matplotlib.image.AxesImage at 0x7efe9684eac8>"
      ]
     },
     "execution_count": 182,
     "metadata": {},
     "output_type": "execute_result"
    },
    {
     "data": {
      "image/png": "[encoded data removed]",
      "text/plain": [
       "<Figure size 432x288 with 1 Axes>"
      ]
     },
     "metadata": {
      "needs_background": "light"
     },
     "output_type": "display_data"
    }
   ],
   "source": [
    "plt.imshow(A+B+BB+C+D>0,cmap=plt.cm.gray)"
   ]
  },
  {
   "cell_type": "code",
   "execution_count": 183,
   "metadata": {},
   "outputs": [
    {
     "data": {
      "text/plain": [
       "<matplotlib.image.AxesImage at 0x7efe9682eef0>"
      ]
     },
     "execution_count": 183,
     "metadata": {},
     "output_type": "execute_result"
    },
    {
     "data": {
      "image/png": "[encoded data removed]",
      "text/plain": [
       "<Figure size 432x288 with 1 Axes>"
      ]
     },
     "metadata": {
      "needs_background": "light"
     },
     "output_type": "display_data"
    }
   ],
   "source": [
    "plt.imshow(A+B+BB+C+CC+D>0,cmap=plt.cm.gray)"
   ]
  },
  {
   "cell_type": "code",
   "execution_count": 83,
   "metadata": {},
   "outputs": [],
   "source": [
    "bigger_for_orent_mask = binary_dilation(cell_mask, disk(21))\n",
    "bigger_for_orent_distance_taxicab = distance_transform_cdt(bigger_for_orent_mask, metric=\"taxicab\")\n",
    "\n",
    "# obtain cell edge orientation based on gradient of the distance map    \n",
    "n_v = skimage.filters.sobel_v(bigger_for_orent_distance_taxicab)\n",
    "n_h = skimage.filters.sobel_h(bigger_for_orent_distance_taxicab)\n",
    "# somehow the gradients are really small, make them reasonable values\n",
    "for_plot_max = 5/min(n_v.max(), n_h.max())\n",
    "n_v = n_v*for_plot_max\n",
    "n_h = n_h*for_plot_max\n",
    "        \n",
    "# convert the directions into orientation angels   \n",
    "local_orientation = np.arctan2(n_v,n_h)"
   ]
  },
  {
   "cell_type": "code",
   "execution_count": 80,
   "metadata": {},
   "outputs": [],
   "source": [
    "indxy = np.where(np.logical_and(distance_taxicab>200,distance_taxicab<2000))\n",
    "res = random.sample(range(1, indxy[0].shape[0]), 30)\n",
    "\n",
    "seed_img = np.zeros_like(cell_mask)\n",
    "\n",
    "for id_ID in range(30):\n",
    "    seed_img[indxy[0][res[id_ID]],indxy[1][res[id_ID]]]=1\n",
    "\n",
    "\n",
    "kk  = disk(51)\n",
    "S = kk[::15,:]\n",
    "D = ndimage.correlate(seed_img, S, mode='constant', origin=-1)"
   ]
  },
  {
   "cell_type": "code",
   "execution_count": 84,
   "metadata": {},
   "outputs": [
    {
     "data": {
      "text/plain": [
       "<matplotlib.image.AxesImage at 0x7efe977576d8>"
      ]
     },
     "execution_count": 84,
     "metadata": {},
     "output_type": "execute_result"
    },
    {
     "data": {
      "image/png": "[encoded data removed]",
      "text/plain": [
       "<Figure size 432x288 with 1 Axes>"
      ]
     },
     "metadata": {
      "needs_background": "light"
     },
     "output_type": "display_data"
    }
   ],
   "source": [
    "plt.imshow(A+B+C+D>0,interpolation='None')"
   ]
  },
  {
   "cell_type": "code",
   "execution_count": null,
   "metadata": {},
   "outputs": [],
   "source": []
  }
 ],
 "metadata": {
  "kernelspec": {
   "display_name": "aics_segmentation",
   "language": "python",
   "name": "python3"
  },
  "language_info": {
   "codemirror_mode": {
    "name": "ipython",
    "version": 3
   },
   "file_extension": ".py",
   "mimetype": "text/x-python",
   "name": "python",
   "nbconvert_exporter": "python",
   "pygments_lexer": "ipython3",
   "version": "3.6.13"
  }
 },
 "nbformat": 4,
 "nbformat_minor": 2
}
