{
 "cells": [
  {
   "cell_type": "markdown",
   "metadata": {},
   "source": [
    "This is a script for turning the Zyxin data in pny format into tiff for easy visualization\n",
    "The file in pny format has 8 channels. Among them, \n",
    "ch 4 is cell mask; ch 6 is Zyxin; ch 7 is another protein like Paxillin or Actin (could be others, but here only interested in these)\n",
    "Liya Ding, 2024.02.20"
   ]
  },
  {
   "cell_type": "code",
   "execution_count": null,
   "metadata": {},
   "outputs": [],
   "source": [
    "import numpy as np\n",
    "import os\n",
    "from tifffile import imsave"
   ]
  },
  {
   "cell_type": "code",
   "execution_count": 3,
   "metadata": {},
   "outputs": [
    {
     "name": "stdout",
     "output_type": "stream",
     "text": [
      "TractionData_21_02_17_ZyxinActin\n",
      "['cell_0' 'cell_1' 'cell_3' 'cell_4']\n",
      "4\n",
      "TractionData_21_07_27_ZyxinPaxillin\n",
      "['cell_0' 'cell_1' 'cell_2' 'cell_3' 'cell_4' 'cell_5' 'cell_6' 'cell_7']\n",
      "8\n",
      "TractionData_27_04_21_ZyxinPaxillin\n",
      "['cell_1' 'cell_2' 'cell_4' 'cell_5']\n",
      "4\n"
     ]
    }
   ],
   "source": [
    "npy_data_root_dir = '/mnt/d/lding/zyxin/data_pny'\n",
    "tiff_data_root_dir = '/mnt/d/lding/zyxin/data_tiff'\n",
    "\n",
    "if not os.path.isdir(tiff_data_root_dir):\n",
    "        os.makedirs(tiff_data_root_dir)\n",
    "\n",
    "for dataset_name in os.listdir(npy_data_root_dir):\n",
    "\n",
    "    data_root = os.path.join(npy_data_root_dir, dataset_name)\n",
    "\n",
    "    subdirs = [x for x in os.listdir(data_root) if os.path.isdir(os.path.join(data_root, x)) and ('cell' in x)]\n",
    "\n",
    "    print(dataset_name)\n",
    "    print((np.asarray(subdirs)))\n",
    "    print(len(subdirs))\n",
    "\n",
    "    tiff_dir_root = os.path.join(tiff_data_root_dir, 'C467_uint16_'+ dataset_name)\n",
    "    if not os.path.isdir(tiff_dir_root):\n",
    "        os.makedirs(tiff_dir_root)\n",
    "\n",
    "    for subdir in subdirs:\n",
    "        data_subdir = os.path.join(data_root, subdir)\n",
    "        output_subdir = os.path.join(tiff_dir_root, subdir)\n",
    "        C4_output_subdir = os.path.join(output_subdir, \"C4_tif_\"+subdir)\n",
    "        C6_output_subdir = os.path.join(output_subdir, \"C6_tif_\"+subdir)\n",
    "        C7_output_subdir = os.path.join(output_subdir, \"C7_tif_\"+subdir)\n",
    "\n",
    "        if not os.path.isdir(output_subdir):\n",
    "            os.makedirs(output_subdir)    \n",
    "        if not os.path.isdir(C4_output_subdir):\n",
    "            os.makedirs(C4_output_subdir) \n",
    "        if not os.path.isdir(C6_output_subdir):\n",
    "            os.makedirs(C6_output_subdir)    \n",
    "        if not os.path.isdir(C7_output_subdir):\n",
    "            os.makedirs(C7_output_subdir)    \n",
    "\n",
    "        filenames = [x for x in os.listdir(data_subdir) if os.path.isfile(os.path.join(data_subdir, x)) and ('Disp_Trac_CellMask_ForceMask_Actin_' in x)]\n",
    "\n",
    "        for frame in range(len(filenames)):\n",
    "            im = np.load(os.path.join(data_subdir, 'Disp_Trac_CellMask_ForceMask_Actin_%d.npy'%frame)) # has shape [7, H, W] where H, W are height and width of image\n",
    "            # ch 4 mask; ch 6 Zyxin; ch 7 Paxillin or Actin\n",
    "            imsave(os.path.join(C4_output_subdir, 'Disp_Trac_CellMask_ForceMask_Actin_'+str(frame).zfill(3)+'_C4.tif'),im[4,:,:].astype(np.uint16))           \n",
    "            imsave(os.path.join(C6_output_subdir, 'Disp_Trac_CellMask_ForceMask_Actin_'+str(frame).zfill(3)+'_C6.tif'),im[6,:,:].astype(np.uint16))   \n",
    "            imsave(os.path.join(C7_output_subdir, 'Disp_Trac_CellMask_ForceMask_Actin_'+str(frame).zfill(3)+'_C7.tif'),im[7,:,:].astype(np.uint16))   \n",
    "       "
   ]
  },
  {
   "cell_type": "code",
   "execution_count": null,
   "metadata": {},
   "outputs": [],
   "source": []
  }
 ],
 "metadata": {
  "kernelspec": {
   "display_name": "py39_torch_imp",
   "language": "python",
   "name": "python3"
  },
  "language_info": {
   "codemirror_mode": {
    "name": "ipython",
    "version": 3
   },
   "file_extension": ".py",
   "mimetype": "text/x-python",
   "name": "python",
   "nbconvert_exporter": "python",
   "pygments_lexer": "ipython3",
   "version": "3.6.13"
  }
 },
 "nbformat": 4,
 "nbformat_minor": 2
}
