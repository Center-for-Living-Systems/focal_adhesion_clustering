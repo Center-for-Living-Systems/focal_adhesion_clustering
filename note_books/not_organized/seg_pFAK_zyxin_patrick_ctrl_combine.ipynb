{
 "cells": [
  {
   "cell_type": "markdown",
   "metadata": {},
   "source": [
    "### combine pfak data seg into npy and tiff, getting weight ready\n",
    "\n",
    "Liya Ding, 2024.06"
   ]
  },
  {
   "cell_type": "code",
   "execution_count": 2,
   "metadata": {},
   "outputs": [],
   "source": [
    "import numpy as np\n",
    "import seaborn as sns\n",
    "import pandas as pd\n",
    "import umap\n",
    "from joblib import dump, load\n",
    "import os.path\n",
    "\n",
    "import matplotlib.pyplot as plt\n",
    "from matplotlib import cm\n",
    "from matplotlib.transforms import Bbox\n",
    "\n",
    "import tifffile \n",
    "import czifile\n",
    "\n",
    "import skimage\n",
    "from skimage.morphology import remove_small_objects\n",
    "from skimage.measure import label, regionprops, regionprops_table\n",
    "from skimage.color import label2rgb\n",
    "from skimage.filters import (threshold_otsu, threshold_niblack,\n",
    "                             threshold_sauvola)\n",
    "\n",
    "from skimage.morphology import binary_opening, binary_closing, binary_dilation\n",
    "from skimage.morphology import disk\n",
    "\n",
    "\n",
    "from scipy import ndimage\n",
    "from scipy.ndimage import distance_transform_cdt\n",
    "from scipy.ndimage import gaussian_filter\n",
    "\n",
    "from sklearn.decomposition import PCA\n",
    "from sklearn.datasets import load_digits\n",
    "from sklearn.model_selection import train_test_split\n",
    "from sklearn.preprocessing import StandardScaler\n",
    "\n",
    "# function from aicssegmentation tool\n",
    "from utils.vessel_2d import filament_2d_wrapper\n",
    "from utils.pre_processing_utils import intensity_normalization\n"
   ]
  },
  {
   "cell_type": "code",
   "execution_count": 3,
   "metadata": {},
   "outputs": [],
   "source": [
    "# build the colormap with iterative tab10\n",
    "tab10 = cm.get_cmap('tab10', 10)\n",
    "for i in range(10):\n",
    "    tab10.colors = np.concatenate([tab10.colors,tab10.colors],axis=0)    \n",
    "tab10.colors = np.concatenate([np.zeros([1,4]),tab10.colors],axis=0)\n",
    "\n",
    "newmap = cm.get_cmap('tab10', 4000+1)\n",
    "newmap.colors = tab10.colors[0:4000+1,:]\n",
    "newmap.colors[0,:]  = np.zeros([1,4])\n",
    "newmap.colors[0,3] = 1"
   ]
  },
  {
   "cell_type": "code",
   "execution_count": 4,
   "metadata": {},
   "outputs": [],
   "source": [
    "image_2D_2CH_dir =  '/mnt/d/lding/zyxin/data/240423_fixed_EGFP_zyxin_zyxin/Y27_images'\n",
    "zyxin_seg_output_dir = '/mnt/d/lding/FA/analysis_results/zyxin_zyxin_20230423/Y27_zyxin/Vessp5-LocThrk1_seg/seg'\n",
    "pfak_seg_output_dir = '/mnt/d/lding/FA/analysis_results/pFAK_zyxin_20230423/Y27_pfak/Vessp5-LocThrk1_seg/seg'\n",
    "mask_seg_output_dir = '/mnt/d/lding/FA/analysis_results/pFAK_zyxin_20230423/Y27_zyxin/Vessp5-LocThrk1_seg/mask'\n",
    "combined_npy_output_dir = '/mnt/d/lding/FA/analysis_results/pFAK_zyxin_20230423/combined_npy_Y27'\n",
    "combined_tiff_output_dir = '/mnt/d/lding/FA/analysis_results/pFAK_zyxin_20230423/combined_tiff_Y27'\n",
    "\n",
    "if not os.path.isdir(combined_npy_output_dir):   os.makedirs(combined_npy_output_dir)\n",
    "if not os.path.isdir(combined_tiff_output_dir):  os.makedirs(combined_tiff_output_dir)\n"
   ]
  },
  {
   "cell_type": "code",
   "execution_count": 5,
   "metadata": {},
   "outputs": [],
   "source": [
    "image_2D_2CH_dir =  '/mnt/d/lding/zyxin/data/240423_fixed_EGFP_zyxin_pFAK/Control_images'\n",
    "zyxin_seg_output_dir = '/mnt/d/lding/FA/analysis_results/pFAK_zyxin_20230423/control_zyxin/Vessp5-LocThrk1_seg/seg'\n",
    "pfak_seg_output_dir = '/mnt/d/lding/FA/analysis_results/pFAK_zyxin_20230423/control_pFak/Vessp5-LocThrk1_seg/seg'\n",
    "mask_seg_output_dir = '/mnt/d/lding/FA/analysis_results/pFAK_zyxin_20230423/control_zyxin/Vessp5-LocThrk1_seg/mask'\n",
    "combined_npy_output_dir = '/mnt/d/lding/FA/analysis_results/pFAK_zyxin_20230423/combined_npy_control'\n",
    "combined_tiff_output_dir = '/mnt/d/lding/FA/analysis_results/pFAK_zyxin_20230423/combined_tiff_control'\n",
    "\n",
    "if not os.path.isdir(combined_npy_output_dir):   os.makedirs(combined_npy_output_dir)\n",
    "if not os.path.isdir(combined_tiff_output_dir):  os.makedirs(combined_tiff_output_dir)\n"
   ]
  },
  {
   "cell_type": "code",
   "execution_count": 6,
   "metadata": {},
   "outputs": [],
   "source": [
    "filenames = [x for x in os.listdir(image_2D_2CH_dir) if os.path.isfile(os.path.join(image_2D_2CH_dir, x)) and ('.tif' in x)]\n",
    "\n",
    "for filenameID in range(len(filenames)):\n",
    "   \n",
    "    filename = filenames[filenameID]\n",
    "    img = tifffile.imread(os.path.join(image_2D_2CH_dir,filename))\n",
    "    zyxin_img = img[0,:,:]\n",
    "    pfak_img = img[1,:,:]\n",
    "\n",
    "    if(filenameID==0):\n",
    "        pfak_img_all = np.zeros([len(filenames),img.shape[1],img.shape[2]])\n",
    "        zyxin_img_all = np.zeros([len(filenames),img.shape[1],img.shape[2]])\n",
    "        pfak_img_in_all = np.zeros([len(filenames),img.shape[1],img.shape[2]])\n",
    "        zyxin_img_in_all = np.zeros([len(filenames),img.shape[1],img.shape[2]])\n",
    "        pfak_img_out_all = np.zeros([len(filenames),img.shape[1],img.shape[2]])\n",
    "        zyxin_img_out_all = np.zeros([len(filenames),img.shape[1],img.shape[2]])\n",
    "\n",
    "    \n",
    "    new_cell_mask = tifffile.imread(os.path.join(mask_seg_output_dir,'SS_cell_mask_'+filename+'_MIP'+'.tif'))\n",
    "    \n",
    "\n",
    "    pfak_img_all[filenameID,:,:] = pfak_img\n",
    "    zyxin_img_all[filenameID,:,:] = zyxin_img\n",
    "\n",
    "\n",
    "    # zyxin_seg = tifffile.imread(os.path.join(zyxin_seg_output_dir,'SS_pax_seg_'+filename+'_MIP'+'.tif'))\n",
    "    # pfak_seg = tifffile.imread(os.path.join(pfak_seg_output_dir,'SS_pax_seg_'+filename+'_MIP'+'.tif'))\n",
    "\n",
    "    pfak_img_in_all[filenameID,:,:] = pfak_img*new_cell_mask\n",
    "    zyxin_img_in_all[filenameID,:,:] = zyxin_img*new_cell_mask\n",
    "    pfak_img_out_all[filenameID,:,:] = pfak_img*(1-new_cell_mask)\n",
    "    zyxin_img_out_all[filenameID,:,:] = zyxin_img*(1-new_cell_mask)\n",
    "\n",
    "\n"
   ]
  },
  {
   "cell_type": "code",
   "execution_count": 42,
   "metadata": {},
   "outputs": [
    {
     "name": "stdout",
     "output_type": "stream",
     "text": [
      "[95.79950438409017, 314.0]\n"
     ]
    }
   ],
   "source": [
    "from scipy import stats\n",
    "pfak_out = pfak_img_out_all[pfak_img_out_all>0]\n",
    "pfak_out = pfak_out[pfak_out<np.percentile(pfak_out,99)]\n",
    "pfak_back_mode = stats.mode(pfak_out)\n",
    "pfak_min = pfak_back_mode.mode[0] - 3*pfak_out.std()\n",
    "\n",
    "pfak_inside = pfak_img_in_all[pfak_img_in_all>0]\n",
    "pfak_inside = pfak_inside[pfak_inside<np.percentile(pfak_inside,99)]\n",
    "pfak_insize_mode = stats.mode(pfak_inside)\n",
    "\n",
    "pfak_max = pfak_insize_mode.mode[0] + 5*(np.percentile(pfak_inside,75) - np.percentile(pfak_inside,25)) + 5*(np.percentile(pfak_inside,75) - np.percentile(pfak_inside,50))\n",
    "\n",
    "\n",
    "print([pfak_min,pfak_max])\n"
   ]
  },
  {
   "cell_type": "code",
   "execution_count": 43,
   "metadata": {},
   "outputs": [
    {
     "name": "stdout",
     "output_type": "stream",
     "text": [
      "[92.16788260249456, 513.0]\n"
     ]
    }
   ],
   "source": [
    "from scipy import stats\n",
    "zyxin_out = zyxin_img_out_all[zyxin_img_out_all>0]\n",
    "zyxin_out = zyxin_out[zyxin_out<np.percentile(zyxin_out,99)]\n",
    "zyxin_back_mode = stats.mode(zyxin_out)\n",
    "zyxin_min = zyxin_back_mode.mode[0] - 3*zyxin_out.std()\n",
    "\n",
    "zyxin_inside = zyxin_img_in_all[zyxin_img_in_all>0]\n",
    "zyxin_inside = zyxin_inside[zyxin_inside<np.percentile(zyxin_inside,99)]\n",
    "zyxin_insize_mode = stats.mode(zyxin_inside)\n",
    "\n",
    "zyxin_max = zyxin_insize_mode.mode[0] + 5*(np.percentile(zyxin_inside,75) - np.percentile(zyxin_inside,25)) + 5*(np.percentile(zyxin_inside,75) - np.percentile(zyxin_inside,50))\n",
    "\n",
    "\n",
    "print([zyxin_min,zyxin_max])"
   ]
  },
  {
   "cell_type": "code",
   "execution_count": 44,
   "metadata": {},
   "outputs": [],
   "source": [
    "filenames = [x for x in os.listdir(image_2D_2CH_dir) if os.path.isfile(os.path.join(image_2D_2CH_dir, x)) and ('.tif' in x)]\n",
    "\n",
    "for filenameID in range(len(filenames)):\n",
    "   \n",
    "    filename = filenames[filenameID]\n",
    "    img = tifffile.imread(os.path.join(image_2D_2CH_dir,filename))\n",
    "    zyxin_img = img[0,:,:]\n",
    "    pfak_img = img[1,:,:]\n",
    "\n",
    "    zyxin_img = (zyxin_img - zyxin_min)/(zyxin_max-zyxin_min)\n",
    "    zyxin_img[zyxin_img<0]=0\n",
    "    zyxin_img[zyxin_img>1]=1\n",
    "\n",
    "    pfak_img = (pfak_img - pfak_min)/(pfak_max-pfak_min)\n",
    "    pfak_img[pfak_img<0]=0\n",
    "    pfak_img[pfak_img>1]=1   \n",
    "\n",
    "    \n",
    "    new_cell_mask = tifffile.imread(os.path.join(mask_seg_output_dir,'SS_cell_mask_'+filename+'_MIP'+'.tif'))\n",
    "    zyxin_seg = tifffile.imread(os.path.join(zyxin_seg_output_dir,'SS_pax_seg_'+filename+'_MIP'+'.tif'))\n",
    "    pfak_seg = tifffile.imread(os.path.join(pfak_seg_output_dir,'SS_pax_seg_'+filename+'_MIP'+'.tif'))\n",
    "\n",
    "    pfak_seg_masked = pfak_seg* new_cell_mask\n",
    "    zyxin_seg_masked = zyxin_seg* new_cell_mask\n",
    "\n",
    "    union_img = (pfak_seg_masked + zyxin_seg_masked) > 0 \n",
    "    diff_img = np.abs(pfak_seg_masked - zyxin_seg_masked) > 0\n",
    "\n",
    "    mask_weight =  np.zeros([img.shape[1],img.shape[2]])\n",
    "    \n",
    "    mask_weight[new_cell_mask>0] = 1\n",
    "    mask_weight[union_img>0] = 2\n",
    "    mask_weight[diff_img>0] = 3    \n",
    "\n",
    "    new_img = np.zeros([8,img.shape[1],img.shape[2]])\n",
    "\n",
    "    new_img[6,:,:] = zyxin_img\n",
    "    new_img[7,:,:] = pfak_img\n",
    "    new_img[4,:,:] = new_cell_mask\n",
    "\n",
    "    new_img[3,:,:] = mask_weight\n",
    "    new_img[2,:,:] = pfak_seg_masked\n",
    "    new_img[1,:,:] = zyxin_seg_masked\n",
    "    new_img[0,:,:] = diff_img\n",
    "    new_img[5,:,:] = union_img\n",
    "    \n",
    "\n",
    "    np.save(os.path.join(combined_npy_output_dir, 'combined_'+filename[:-4]+'.npy'),new_img)   \n",
    "    tifffile.imsave(os.path.join(combined_tiff_output_dir, 'combined_'+filename[:-4] +'.tif'),new_img.astype(np.float32), metadata={'axes':'CXY'})   \n",
    "      \n",
    "    \n",
    "                "
   ]
  },
  {
   "cell_type": "code",
   "execution_count": null,
   "metadata": {},
   "outputs": [],
   "source": []
  }
 ],
 "metadata": {
  "kernelspec": {
   "display_name": "Python 3",
   "language": "python",
   "name": "python3"
  },
  "language_info": {
   "codemirror_mode": {
    "name": "ipython",
    "version": 3
   },
   "file_extension": ".py",
   "mimetype": "text/x-python",
   "name": "python",
   "nbconvert_exporter": "python",
   "pygments_lexer": "ipython3",
   "version": "3.7.16"
  }
 },
 "nbformat": 4,
 "nbformat_minor": 4
}
