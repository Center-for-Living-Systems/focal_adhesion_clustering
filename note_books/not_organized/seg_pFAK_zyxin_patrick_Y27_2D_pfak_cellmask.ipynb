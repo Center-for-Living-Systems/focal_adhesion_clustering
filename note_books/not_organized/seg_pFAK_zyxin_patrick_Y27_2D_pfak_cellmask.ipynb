{
 "cells": [
  {
   "cell_type": "markdown",
   "metadata": {},
   "source": [
    "### Cell mask segmentation\n",
    "\n",
    "with Patrick's 2D fixed image pFAK and Zyxin\n",
    "\n",
    "Liya Ding, 2024.11"
   ]
  },
  {
   "cell_type": "code",
   "execution_count": 3,
   "metadata": {},
   "outputs": [],
   "source": [
    "import numpy as np\n",
    "import seaborn as sns\n",
    "import pandas as pd\n",
    "import umap\n",
    "from joblib import dump, load\n",
    "import os.path\n",
    "\n",
    "import matplotlib.pyplot as plt\n",
    "from matplotlib import cm\n",
    "from matplotlib.transforms import Bbox\n",
    "\n",
    "import tifffile \n",
    "import czifile\n",
    "\n",
    "import skimage\n",
    "from skimage.morphology import remove_small_objects\n",
    "from skimage.measure import label, regionprops, regionprops_table\n",
    "from skimage.color import label2rgb\n",
    "from skimage.filters import (threshold_otsu, threshold_niblack,\n",
    "                             threshold_sauvola)\n",
    "\n",
    "from skimage.morphology import binary_opening, binary_closing, binary_dilation\n",
    "from skimage.morphology import disk\n",
    "\n",
    "from scipy import ndimage\n",
    "from scipy.ndimage import distance_transform_cdt\n",
    "from scipy.ndimage import gaussian_filter\n",
    "\n",
    "from sklearn.decomposition import PCA\n",
    "from sklearn.datasets import load_digits\n",
    "from sklearn.model_selection import train_test_split\n",
    "from sklearn.preprocessing import StandardScaler\n",
    "\n",
    "# function from aicssegmentation tool\n",
    "from utils.vessel_2d import filament_2d_wrapper\n",
    "from utils.pre_processing_utils import intensity_normalization\n",
    "from scipy import ndimage as ndi"
   ]
  },
  {
   "cell_type": "code",
   "execution_count": 4,
   "metadata": {},
   "outputs": [],
   "source": [
    "# import my functions\n",
    "from zyxin_pfak_cell_mask_seg import zyxin_pfak_cell_mask_seg"
   ]
  },
  {
   "cell_type": "code",
   "execution_count": 5,
   "metadata": {},
   "outputs": [],
   "source": [
    "# build the colormap with iterative tab10\n",
    "tab10 = cm.get_cmap('tab10', 10)\n",
    "for i in range(10):\n",
    "    tab10.colors = np.concatenate([tab10.colors,tab10.colors],axis=0)    \n",
    "tab10.colors = np.concatenate([np.zeros([1,4]),tab10.colors],axis=0)\n",
    "\n",
    "newmap = cm.get_cmap('tab10', 4000+1)\n",
    "newmap.colors = tab10.colors[0:4000+1,:]\n",
    "newmap.colors[0,:]  = np.zeros([1,4])\n",
    "newmap.colors[0,3] = 1"
   ]
  },
  {
   "cell_type": "code",
   "execution_count": 6,
   "metadata": {},
   "outputs": [],
   "source": [
    "# flag for some optinal parts\n",
    "flag_plot = True\n",
    "flag_plot_save = True\n",
    "flag_seg_save = True\n",
    "flag_csv_save = True\n",
    "flag_run_all = True\n",
    "flag_panel_plot = True"
   ]
  },
  {
   "cell_type": "code",
   "execution_count": 7,
   "metadata": {},
   "outputs": [],
   "source": [
    "image_2D_2CH_dir =  '/mnt/d/lding/zyxin/data/240423_fixed_EGFP_zyxin_pFAK/Y27_images'\n",
    "output_dir = '/mnt/d/lding/FA/analysis_results/pFAK_zyxin_20230423/Y27_pfak'\n",
    "method_ID = 'cellmask_redo'\n",
    "\n",
    "csv_output_dir = os.path.join(output_dir, method_ID+'_csv')\n",
    "plot_output_dir = os.path.join(output_dir, method_ID+'_plot')\n",
    "seg_output_dir = os.path.join(output_dir, method_ID+'_seg')\n",
    "\n",
    "pixel_size = 0.0706\n",
    "time_point = 0\n",
    "\n",
    "if not os.path.isdir(csv_output_dir):     os.makedirs(csv_output_dir)\n",
    "if not os.path.isdir(plot_output_dir):    os.makedirs(plot_output_dir)\n",
    "if not os.path.isdir(seg_output_dir):     os.makedirs(seg_output_dir)"
   ]
  },
  {
   "cell_type": "code",
   "execution_count": 8,
   "metadata": {},
   "outputs": [],
   "source": [
    "### for each movie, make sub-folders for different output for easier viewing in imagej\n",
    "movie_mask_output_dir = os.path.join(seg_output_dir,  'mask')\n",
    "movie_seg_output_dir = os.path.join(seg_output_dir,  'seg')\n",
    "movie_label_output_dir = os.path.join(seg_output_dir,  'label')\n",
    "movie_labeltoggle_output_dir = os.path.join(seg_output_dir,  'togglelabel')\n",
    "movie_rgb_output_dir = os.path.join(seg_output_dir,  'rgb')    \n",
    "movie_contour_output_dir = os.path.join(plot_output_dir,  'contour')\n",
    "movie_quiver_cell_output_dir = os.path.join(plot_output_dir,  'quiver_cell')\n",
    "movie_quiver_obj_output_dir = os.path.join(plot_output_dir,  'quiver_obj')\n",
    "movie_label_color_output_dir = os.path.join(plot_output_dir,  'label_color')\n",
    "movie_rgb_plot_output_dir = os.path.join(plot_output_dir,  'rgb_plot')\n",
    "movie_panels_plot_output_dir = os.path.join(plot_output_dir,  'panel_plot')\n",
    "movie_cluster_plot_output_dir = os.path.join(plot_output_dir,  'cluster_plot')\n",
    "\n",
    "if not os.path.isdir(movie_labeltoggle_output_dir):   os.makedirs(movie_labeltoggle_output_dir)\n",
    "if not os.path.isdir(movie_mask_output_dir):          os.makedirs(movie_mask_output_dir)\n",
    "if not os.path.isdir(movie_seg_output_dir):           os.makedirs(movie_seg_output_dir)\n",
    "if not os.path.isdir(movie_label_output_dir):         os.makedirs(movie_label_output_dir)\n",
    "if not os.path.isdir(movie_rgb_output_dir):           os.makedirs(movie_rgb_output_dir)\n",
    "if not os.path.isdir(movie_contour_output_dir):       os.makedirs(movie_contour_output_dir)\n",
    "if not os.path.isdir(movie_quiver_cell_output_dir):   os.makedirs(movie_quiver_cell_output_dir)\n",
    "if not os.path.isdir(movie_quiver_obj_output_dir):    os.makedirs(movie_quiver_obj_output_dir)\n",
    "if not os.path.isdir(movie_label_color_output_dir):   os.makedirs(movie_label_color_output_dir)\n",
    "if not os.path.isdir(movie_rgb_plot_output_dir):      os.makedirs(movie_rgb_plot_output_dir)\n",
    "if not os.path.isdir(movie_panels_plot_output_dir):   os.makedirs(movie_panels_plot_output_dir)\n",
    "# if not os.path.isdir(movie_cluster_plot_output_dir):   os.makedirs(movie_panels_plot_output_dir)\n",
    "    \n",
    "         "
   ]
  },
  {
   "cell_type": "code",
   "execution_count": 9,
   "metadata": {},
   "outputs": [
    {
     "name": "stderr",
     "output_type": "stream",
     "text": [
      "/mnt/d/lding/UbuntuGitCodes/focal_adhesion_clustering/zyxin_pfak_cell_mask_seg.py:109: UserWarning: No contour levels were found within the data range.\n",
      "  ax[1,2].contour(X, Y, for_orent_distance_taxicab,0,linewidths=0.2,colors='yellow')\n",
      "/mnt/d/lding/UbuntuGitCodes/focal_adhesion_clustering/zyxin_pfak_cell_mask_seg.py:117: UserWarning: No contour levels were found within the data range.\n",
      "  ax1.contour(X, Y, for_orent_distance_taxicab,0,linewidths=0.5,colors='yellow')\n"
     ]
    }
   ],
   "source": [
    "\n",
    "filenames = [x for x in os.listdir(image_2D_2CH_dir) if os.path.isfile(os.path.join(image_2D_2CH_dir, x)) and ('.tif' in x)]\n",
    "\n",
    "# if not in run all mode, only test with the first image of the first movie\n",
    "if not flag_run_all:\n",
    "    filenames = filenames[3:6]\n",
    "\n",
    "for filenameID in range(len(filenames)):\n",
    "    \n",
    "    filename = filenames[filenameID]\n",
    "    img = tifffile.imread(os.path.join(image_2D_2CH_dir,filename))\n",
    "    pax_img = img[1,:,:]\n",
    "    zyxin_img = img[0,:,:]\n",
    "       \n",
    "    # smooth_MIP_pax_img = gaussian_filter(MIP_pax_img,sigma=1,mode='nearest',truncate=3)\n",
    "    thres_zyxin = 99\n",
    "    thres_pax = 101\n",
    "\n",
    "    [new_cell_mask_center, smooth_MIP_pax_img_corrected, smooth_MIP_zyxin_img_corrected] = \\\n",
    "        zyxin_pfak_cell_mask_seg(zyxin_img,pax_img,thres_zyxin, thres_pax, movie_panels_plot_output_dir,filename,flag_run_all,newmap)\n",
    "    \n",
    "       "
   ]
  }
 ],
 "metadata": {
  "kernelspec": {
   "display_name": "segmentation",
   "language": "python",
   "name": "python3"
  },
  "language_info": {
   "codemirror_mode": {
    "name": "ipython",
    "version": 3
   },
   "file_extension": ".py",
   "mimetype": "text/x-python",
   "name": "python",
   "nbconvert_exporter": "python",
   "pygments_lexer": "ipython3",
   "version": "3.7.16"
  }
 },
 "nbformat": 4,
 "nbformat_minor": 4
}
