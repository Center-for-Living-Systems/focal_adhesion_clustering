{
 "cells": [
  {
   "cell_type": "markdown",
   "metadata": {},
   "source": [
    "### Paxillin movie segmentation and object feature analysis\n",
    "\n",
    "with Annabel's 3D fixed image\n",
    "\n",
    "Liya Ding, 2024.03"
   ]
  },
  {
   "cell_type": "code",
   "execution_count": 11,
   "metadata": {},
   "outputs": [],
   "source": [
    "import numpy as np\n",
    "import seaborn as sns\n",
    "import pandas as pd\n",
    "import umap\n",
    "from joblib import dump, load\n",
    "import os.path\n",
    "\n",
    "import matplotlib.pyplot as plt\n",
    "from matplotlib import cm\n",
    "from matplotlib.transforms import Bbox\n",
    "\n",
    "import tifffile \n",
    "import czifile\n",
    "\n",
    "import skimage\n",
    "from skimage.morphology import remove_small_objects\n",
    "from skimage.measure import label, regionprops, regionprops_table\n",
    "from skimage.color import label2rgb\n",
    "from skimage.filters import (threshold_otsu, threshold_niblack,\n",
    "                             threshold_sauvola)\n",
    "\n",
    "from skimage.morphology import binary_opening, binary_dilation\n",
    "from skimage.morphology import disk\n",
    "\n",
    "\n",
    "from scipy import ndimage\n",
    "from scipy.ndimage import distance_transform_cdt\n",
    "from scipy.ndimage import gaussian_filter\n",
    "\n",
    "from sklearn.decomposition import PCA\n",
    "from sklearn.datasets import load_digits\n",
    "from sklearn.model_selection import train_test_split\n",
    "from sklearn.preprocessing import StandardScaler\n",
    "\n",
    "# function from aicssegmentation tool\n",
    "from utils.vessel_2d import filament_2d_wrapper\n",
    "from utils.pre_processing_utils import intensity_normalization\n"
   ]
  },
  {
   "cell_type": "code",
   "execution_count": 12,
   "metadata": {},
   "outputs": [],
   "source": [
    "czimovie_dir =  '/mnt/d/lding/FA/data/FHL2_Endothelial_c_endo_limbd1_phosphofak_actin_catalina_2020404'\n",
    "\n",
    "csv_output_dir = '/mnt/d/lding/FA/analysis_results/fPak_catalina/Vess-LocThr-GlThr-Open_tab10_csv'\n",
    "plot_output_dir = '/mnt/d/lding/FA/analysis_results/fPak_catalina/Vess-LocThr-GlThr-Open_tab10_plot'\n",
    "seg_output_dir = '/mnt/d/lding/FA/analysis_results/fPak_catalina/Vess-LocThr-GlThr-Open_tab10_seg'\n",
    "\n",
    "pixel_size = 0.0775\n",
    "time_point = 0\n",
    "\n",
    "if not os.path.isdir(csv_output_dir):\n",
    "    os.makedirs(csv_output_dir)\n",
    "if not os.path.isdir(plot_output_dir):\n",
    "    os.makedirs(plot_output_dir)\n",
    "if not os.path.isdir(seg_output_dir):\n",
    "    os.makedirs(seg_output_dir)"
   ]
  },
  {
   "cell_type": "code",
   "execution_count": 13,
   "metadata": {},
   "outputs": [],
   "source": [
    "# build the colormap with iterative tab10\n",
    "tab10 = cm.get_cmap('tab10', 10)\n",
    "for i in range(10):\n",
    "    tab10.colors = np.concatenate([tab10.colors,tab10.colors],axis=0)    \n",
    "tab10.colors = np.concatenate([np.zeros([1,4]),tab10.colors],axis=0)\n",
    "\n",
    "newmap = cm.get_cmap('tab10', 4000+1)\n",
    "newmap.colors = tab10.colors[0:4000+1,:]\n",
    "newmap.colors[0,:]  = np.zeros([1,4])\n",
    "newmap.colors[0,3] = 1"
   ]
  },
  {
   "cell_type": "markdown",
   "metadata": {},
   "source": [
    "### for each 3D stack run through MIP and 8th frame"
   ]
  },
  {
   "cell_type": "code",
   "execution_count": 14,
   "metadata": {},
   "outputs": [],
   "source": [
    "# flag for some optinal parts\n",
    "flag_plot = True\n",
    "flag_plot_save = True\n",
    "flag_seg_save = True\n",
    "flag_csv_save = True\n",
    "flag_run_all = True\n",
    "flag_panel_plot = True"
   ]
  },
  {
   "cell_type": "code",
   "execution_count": 17,
   "metadata": {},
   "outputs": [
    {
     "name": "stderr",
     "output_type": "stream",
     "text": [
      "/home/lding/anaconda3/envs/aics_segmentation/lib/python3.6/site-packages/ipykernel_launcher.py:112: FutureWarning: The new recommended value for bg_label is 0. Until version 0.19, the default bg_label value is -1. From version 0.19, the bg_label default value will be 0. To avoid this warning, please explicitly set bg_label value.\n",
      "Clipping input data to the valid range for imshow with RGB data ([0..1] for floats or [0..255] for integers).\n",
      "Clipping input data to the valid range for imshow with RGB data ([0..1] for floats or [0..255] for integers).\n",
      "Clipping input data to the valid range for imshow with RGB data ([0..1] for floats or [0..255] for integers).\n",
      "Clipping input data to the valid range for imshow with RGB data ([0..1] for floats or [0..255] for integers).\n",
      "Clipping input data to the valid range for imshow with RGB data ([0..1] for floats or [0..255] for integers).\n",
      "Clipping input data to the valid range for imshow with RGB data ([0..1] for floats or [0..255] for integers).\n",
      "Clipping input data to the valid range for imshow with RGB data ([0..1] for floats or [0..255] for integers).\n",
      "Clipping input data to the valid range for imshow with RGB data ([0..1] for floats or [0..255] for integers).\n",
      "Clipping input data to the valid range for imshow with RGB data ([0..1] for floats or [0..255] for integers).\n",
      "Clipping input data to the valid range for imshow with RGB data ([0..1] for floats or [0..255] for integers).\n",
      "Clipping input data to the valid range for imshow with RGB data ([0..1] for floats or [0..255] for integers).\n",
      "Clipping input data to the valid range for imshow with RGB data ([0..1] for floats or [0..255] for integers).\n",
      "Clipping input data to the valid range for imshow with RGB data ([0..1] for floats or [0..255] for integers).\n",
      "Clipping input data to the valid range for imshow with RGB data ([0..1] for floats or [0..255] for integers).\n",
      "Clipping input data to the valid range for imshow with RGB data ([0..1] for floats or [0..255] for integers).\n"
     ]
    }
   ],
   "source": [
    "### for each movie, make sub-folders for different output for easier viewing in imagej\n",
    "\n",
    "movie_mip_output_dir = os.path.join(seg_output_dir,  'mip')\n",
    "if not os.path.isdir(movie_mip_output_dir):   os.makedirs(movie_mip_output_dir)\n",
    "   \n",
    "\n",
    "filenames = [x for x in os.listdir(czimovie_dir) if os.path.isfile(os.path.join(czimovie_dir, x)) and ('.czi' in x)]\n",
    "\n",
    "for filenameID in range(len(filenames)):\n",
    "  \n",
    "    filename = filenames[filenameID]\n",
    "    img = czifile.imread(os.path.join(czimovie_dir,filename))\n",
    "    pax_img = img[0,0,1,:,:,:,0].squeeze()\n",
    "    \n",
    "    MIP_pax_ori_img = pax_img.max(axis=0)\n",
    "    tifffile.imsave(os.path.join(movie_mip_output_dir, 'SS_pax_img_'+filename+'_MIP'+'.tif'),MIP_pax_ori_img.astype(np.float32))   \n",
    "  "
   ]
  },
  {
   "cell_type": "code",
   "execution_count": null,
   "metadata": {},
   "outputs": [],
   "source": []
  }
 ],
 "metadata": {
  "kernelspec": {
   "display_name": "Python 3",
   "language": "python",
   "name": "python3"
  },
  "language_info": {
   "codemirror_mode": {
    "name": "ipython",
    "version": 3
   },
   "file_extension": ".py",
   "mimetype": "text/x-python",
   "name": "python",
   "nbconvert_exporter": "python",
   "pygments_lexer": "ipython3",
   "version": "3.6.13"
  }
 },
 "nbformat": 4,
 "nbformat_minor": 4
}
