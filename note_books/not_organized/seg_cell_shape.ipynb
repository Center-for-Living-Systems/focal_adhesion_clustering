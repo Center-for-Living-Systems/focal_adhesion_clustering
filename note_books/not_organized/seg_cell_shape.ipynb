{
 "cells": [
  {
   "cell_type": "markdown",
   "metadata": {},
   "source": [
    "### Paxillin movie segmentation and object feature analysis\n",
    "\n",
    "with Annabel's 3D fixed image\n",
    "\n",
    "Liya Ding, 2024.03"
   ]
  },
  {
   "cell_type": "code",
   "execution_count": 1,
   "metadata": {},
   "outputs": [],
   "source": [
    "import numpy as np\n",
    "import seaborn as sns\n",
    "import pandas as pd\n",
    "import umap\n",
    "from joblib import dump, load\n",
    "import os.path\n",
    "\n",
    "import matplotlib.pyplot as plt\n",
    "from matplotlib import cm\n",
    "from matplotlib.transforms import Bbox\n",
    "\n",
    "import tifffile \n",
    "import czifile\n",
    "\n",
    "import skimage\n",
    "from skimage.morphology import remove_small_objects\n",
    "from skimage.measure import label, regionprops, regionprops_table\n",
    "from skimage.color import label2rgb\n",
    "from skimage.filters import (threshold_otsu, threshold_niblack,\n",
    "                             threshold_sauvola)\n",
    "\n",
    "from skimage.morphology import binary_opening, binary_dilation\n",
    "from skimage.morphology import disk\n",
    "\n",
    "\n",
    "from scipy import ndimage\n",
    "from scipy.ndimage import distance_transform_cdt\n",
    "from scipy.ndimage import gaussian_filter\n",
    "\n",
    "from sklearn.decomposition import PCA\n",
    "from sklearn.datasets import load_digits\n",
    "from sklearn.model_selection import train_test_split\n",
    "from sklearn.preprocessing import StandardScaler\n",
    "\n",
    "# function from aicssegmentation tool\n",
    "from utils.vessel_2d import filament_2d_wrapper\n",
    "from utils.pre_processing_utils import intensity_normalization\n"
   ]
  },
  {
   "cell_type": "code",
   "execution_count": 2,
   "metadata": {},
   "outputs": [],
   "source": [
    "czimovie_dir =  '/mnt/d/lding/FA/data/FHL2-KI-U2OS-Actin405-Pax568-endoFHL2488_annabel_20240226'\n",
    "\n",
    "csv_output_dir = '/mnt/d/lding/FA/analysis_results/pax_3D/pax_3D_0226/SM_Vess-LocThr-GlThr-Open_csv'\n",
    "plot_output_dir = '/mnt/d/lding/FA/analysis_results/pax_3D/pax_3D_0226/SM_Vess-LocThr-GlThr-Open_plot'\n",
    "seg_output_dir = '/mnt/d/lding/FA/analysis_results/pax_3D/pax_3D_0226/SM_Vess-LocThr-GlThr-Open_seg'\n",
    "\n",
    "pixel_size = 0.0706\n",
    "time_point = 0\n",
    "\n",
    "if not os.path.isdir(csv_output_dir):\n",
    "    os.makedirs(csv_output_dir)\n",
    "if not os.path.isdir(plot_output_dir):\n",
    "    os.makedirs(plot_output_dir)\n",
    "if not os.path.isdir(seg_output_dir):\n",
    "    os.makedirs(seg_output_dir)"
   ]
  },
  {
   "cell_type": "markdown",
   "metadata": {},
   "source": [
    "### for each 3D stack run through MIP and 8th frame"
   ]
  },
  {
   "cell_type": "code",
   "execution_count": 19,
   "metadata": {},
   "outputs": [],
   "source": [
    "### for each movie, make sub-folders for different output for easier viewing in imagej\n",
    "movie_mask_output_dir = os.path.join(seg_output_dir,  'cell_mask')\n",
    "\n",
    "if not os.path.isdir(movie_mask_output_dir):          os.makedirs(movie_mask_output_dir)    \n",
    "\n",
    "filenames = [x for x in os.listdir(czimovie_dir) if os.path.isfile(os.path.join(czimovie_dir, x)) and ('.czi' in x)]\n",
    "\n",
    "for filenameID in range(0,len(filenames)):\n",
    "# for filenameID in range(1): \n",
    "    \n",
    "    filename = filenames[filenameID]\n",
    "    img = czifile.imread(os.path.join(czimovie_dir,filename))\n",
    "    actin_img = img[0,0,-1,:,:,:,0].squeeze()\n",
    "    \n",
    "    intensity_scaling_param = [10,40]\n",
    "    norm_actin_img = intensity_normalization(actin_img, scaling_param=intensity_scaling_param)\n",
    "     \n",
    "    MIP_actin_img = norm_actin_img.max(axis=0)\n",
    "\n",
    "    smooth_MIP_actin_img = gaussian_filter(MIP_actin_img,sigma=4,mode='nearest',truncate=3)\n",
    "    ### low threshold to get cell masks\n",
    "    new_cell_mask = smooth_MIP_actin_img>0.02\n",
    "    ### remove isolated small objects (small regions due to noise)\n",
    "    new_cell_mask = remove_small_objects(new_cell_mask>0, min_size=10000, connectivity=1, in_place=False)        \n",
    "    # remove holes\n",
    "    new_cell_mask = ndimage.binary_fill_holes(new_cell_mask)\n",
    "    label_im, nb_labels = ndimage.label(new_cell_mask)\n",
    "    sizes = ndimage.sum(new_cell_mask, label_im, range(nb_labels + 1))\n",
    "    biggest_cell_label = np.argmax(sizes)\n",
    "\n",
    "    biggest_cell_mask = label_im==biggest_cell_label\n",
    "\n",
    "    # calculate the distance map   \n",
    "    biggest_cell_mask = binary_opening(biggest_cell_mask, disk(15))\n",
    "    \n",
    "    tifffile.imsave(os.path.join(movie_mask_output_dir, 'annabel0226_cell_mask_'+filename+'_MIP'+'.tif'),(biggest_cell_mask*255).astype(np.uint8))                       \n",
    "\n",
    "                "
   ]
  },
  {
   "cell_type": "code",
   "execution_count": 16,
   "metadata": {},
   "outputs": [
    {
     "data": {
      "text/plain": [
       "array([     0., 216569., 838700.])"
      ]
     },
     "execution_count": 16,
     "metadata": {},
     "output_type": "execute_result"
    }
   ],
   "source": [
    "sizes"
   ]
  },
  {
   "cell_type": "code",
   "execution_count": 17,
   "metadata": {},
   "outputs": [
    {
     "data": {
      "text/plain": [
       "2"
      ]
     },
     "execution_count": 17,
     "metadata": {},
     "output_type": "execute_result"
    }
   ],
   "source": [
    "biggest_cell_label\n"
   ]
  },
  {
   "cell_type": "code",
   "execution_count": 18,
   "metadata": {},
   "outputs": [
    {
     "data": {
      "text/plain": [
       "<matplotlib.image.AxesImage at 0x7fcdde8ee6a0>"
      ]
     },
     "execution_count": 18,
     "metadata": {},
     "output_type": "execute_result"
    },
    {
     "data": {
      "image/png": "[encoded data removed]",
      "text/plain": [
       "<Figure size 432x288 with 1 Axes>"
      ]
     },
     "metadata": {
      "needs_background": "light"
     },
     "output_type": "display_data"
    }
   ],
   "source": [
    "plt.imshow(biggest_cell_mask)\n"
   ]
  },
  {
   "cell_type": "code",
   "execution_count": null,
   "metadata": {},
   "outputs": [],
   "source": []
  },
  {
   "cell_type": "code",
   "execution_count": 5,
   "metadata": {},
   "outputs": [
    {
     "data": {
      "text/plain": [
       "array([0.])"
      ]
     },
     "execution_count": 5,
     "metadata": {},
     "output_type": "execute_result"
    }
   ],
   "source": [
    "sizes"
   ]
  },
  {
   "cell_type": "code",
   "execution_count": null,
   "metadata": {},
   "outputs": [],
   "source": []
  }
 ],
 "metadata": {
  "kernelspec": {
   "display_name": "Python 3",
   "language": "python",
   "name": "python3"
  },
  "language_info": {
   "codemirror_mode": {
    "name": "ipython",
    "version": 3
   },
   "file_extension": ".py",
   "mimetype": "text/x-python",
   "name": "python",
   "nbconvert_exporter": "python",
   "pygments_lexer": "ipython3",
   "version": "3.6.13"
  }
 },
 "nbformat": 4,
 "nbformat_minor": 4
}
