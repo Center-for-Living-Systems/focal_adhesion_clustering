{
 "cells": [
  {
   "cell_type": "markdown",
   "metadata": {},
   "source": [
    "### Paxillin movie segmentation and object feature analysis\n",
    "\n",
    "with static images\n",
    "\n",
    "Liya Ding, 2024.04"
   ]
  },
  {
   "cell_type": "code",
   "execution_count": 1,
   "metadata": {},
   "outputs": [],
   "source": [
    "import numpy as np\n",
    "import seaborn as sns\n",
    "import pandas as pd\n",
    "import umap\n",
    "from joblib import dump, load\n",
    "import os.path\n",
    "\n",
    "import matplotlib.pyplot as plt\n",
    "from matplotlib import cm\n",
    "from matplotlib.transforms import Bbox\n",
    "\n",
    "import tifffile \n",
    "import czifile\n",
    "\n",
    "import skimage\n",
    "from skimage.morphology import remove_small_objects\n",
    "from skimage.measure import label, regionprops, regionprops_table\n",
    "from skimage.color import label2rgb\n",
    "\n",
    "from scipy import ndimage\n",
    "from scipy.ndimage import distance_transform_cdt\n",
    "from scipy.ndimage import gaussian_filter\n",
    "\n",
    "from sklearn.decomposition import PCA\n",
    "from sklearn.datasets import load_digits\n",
    "from sklearn.model_selection import train_test_split\n",
    "from sklearn.preprocessing import StandardScaler\n",
    "\n",
    "\n",
    "# function from aicssegmentation tool\n",
    "from utils.vessel_2d import filament_2d_wrapper\n",
    "from utils.pre_processing_utils import intensity_normalization\n"
   ]
  },
  {
   "cell_type": "code",
   "execution_count": 2,
   "metadata": {},
   "outputs": [],
   "source": [
    "czimovie_dir =  '/mnt/d/lding/FA/data/FHL2-KI-U2OS-Actin405-Pax568-endoFHL2488_annabel_20240226'\n",
    "\n",
    "csv_output_dir = '/mnt/d/lding/FA/analysis_results/pax_3D/pax_3D_0226/Vess-LocThr-GlThr-Open_tab10_csv'\n",
    "plot_output_dir = '/mnt/d/lding/FA/analysis_results/pax_3D/pax_3D_0226/Vess-LocThr-GlThr-Open_tab10_plot'\n",
    "seg_output_dir = '/mnt/d/lding/FA/analysis_results/pax_3D/pax_3D_0226/Vess-LocThr-GlThr-Open_tab10_seg'\n",
    "\n",
    "pixel_size = 0.0706\n",
    "time_point = 0\n",
    "\n",
    "if not os.path.isdir(csv_output_dir):\n",
    "    os.makedirs(csv_output_dir)\n",
    "if not os.path.isdir(plot_output_dir):\n",
    "    os.makedirs(plot_output_dir)\n",
    "if not os.path.isdir(seg_output_dir):\n",
    "    os.makedirs(seg_output_dir)"
   ]
  },
  {
   "cell_type": "code",
   "execution_count": 3,
   "metadata": {},
   "outputs": [],
   "source": [
    "# build the colormap with iterative tab10\n",
    "tab10 = cm.get_cmap('tab10', 10)\n",
    "for i in range(10):\n",
    "    tab10.colors = np.concatenate([tab10.colors,tab10.colors],axis=0)    \n",
    "tab10.colors = np.concatenate([np.zeros([1,4]),tab10.colors],axis=0)\n",
    "\n",
    "newmap = cm.get_cmap('tab10', 4000+1)\n",
    "newmap.colors = tab10.colors[0:4000+1,:]\n",
    "newmap.colors[0,:]  = np.zeros([1,4])\n",
    "newmap.colors[0,3] = 1"
   ]
  },
  {
   "cell_type": "markdown",
   "metadata": {},
   "source": [
    "### for each movie run through all the time points"
   ]
  },
  {
   "cell_type": "code",
   "execution_count": 4,
   "metadata": {},
   "outputs": [],
   "source": [
    "# flag for some optinal parts\n",
    "flag_plot = True\n",
    "flag_plot_save = True\n",
    "flag_seg_save = True\n",
    "flag_csv_save = True\n",
    "flag_run_all = True\n",
    "flag_panel_plot = True"
   ]
  },
  {
   "cell_type": "code",
   "execution_count": 5,
   "metadata": {},
   "outputs": [],
   "source": [
    "prop_df_pax_all=pd.read_csv(os.path.join('/mnt/d/lding/FA/analysis_results/static_image_csv/','static_images_cluster_labels_allcells_nc'+str(7)+'.csv'))\n",
    "\n",
    "        "
   ]
  },
  {
   "cell_type": "code",
   "execution_count": 6,
   "metadata": {},
   "outputs": [],
   "source": [
    "### for each movie, make sub-folders for different output for easier viewing in imagej\n",
    "movie_mask_output_dir = os.path.join(seg_output_dir,  'mask')\n",
    "movie_seg_output_dir = os.path.join(seg_output_dir,  'seg')\n",
    "movie_label_output_dir = os.path.join(seg_output_dir,  'label')\n",
    "movie_labeltoggle_output_dir = os.path.join(seg_output_dir,  'togglelabel')\n",
    "movie_rgb_output_dir = os.path.join(seg_output_dir,  'rgb')    \n",
    "movie_contour_output_dir = os.path.join(plot_output_dir,  'contour')\n",
    "movie_quiver_cell_output_dir = os.path.join(plot_output_dir,  'quiver_cell')\n",
    "movie_quiver_obj_output_dir = os.path.join(plot_output_dir,  'quiver_obj')\n",
    "movie_label_color_output_dir = os.path.join(plot_output_dir,  'label_color')\n",
    "movie_rgb_plot_output_dir = os.path.join(plot_output_dir,  'rgb_plot')\n",
    "movie_panels_plot_output_dir = os.path.join(plot_output_dir,  'panel_plot')\n",
    "movie_cluster_plot_output_dir = os.path.join(plot_output_dir,  'cluster_tab10_minibatc_1P_plot')\n",
    "if not os.path.isdir(movie_cluster_plot_output_dir):   os.makedirs(movie_cluster_plot_output_dir)"
   ]
  },
  {
   "cell_type": "code",
   "execution_count": 9,
   "metadata": {},
   "outputs": [],
   "source": [
    "filenames = [x for x in os.listdir(czimovie_dir) if os.path.isfile(os.path.join(czimovie_dir, x)) and ('.czi' in x)]\n",
    "\n",
    "# if not in run all mode, only test with the first image of the first movie\n",
    "if not flag_run_all:\n",
    "    filenames = filenames[0:1]\n",
    "\n",
    "for filenameID in range(len(filenames)):\n",
    "    filename = filenames[filenameID]\n",
    "    img = czifile.imread(os.path.join(czimovie_dir,filename))\n",
    "    pax_img = img[0,0,0,:,:,:,0].squeeze()\n",
    "    intensity_scaling_param = [10,40]\n",
    "    norm_pax_img = intensity_normalization(pax_img, scaling_param=intensity_scaling_param)\n",
    "    MIP_pax_img = norm_pax_img.max(axis=0)\n",
    "    label_pax_seg = tifffile.imread(os.path.join(movie_label_output_dir, 'SS_pax_seglabel_'+filename+'_MIP'+'.tif'))   \n",
    "\n",
    "    max_label = label_pax_seg.max()+1\n",
    "\n",
    "    \n",
    "    # print(newmap.colors[:,0:3])\n",
    "    less_col_prop_df_pax_all = prop_df_pax_all[['filename','cell_ID','label','cluster_ID_MiniBatc']]\n",
    "    cluster_label_pax_seg = np.zeros_like(label_pax_seg)\n",
    "    this_cell_table = less_col_prop_df_pax_all[less_col_prop_df_pax_all['filename'] == filename]\n",
    "    \n",
    "    for iL in range(1,label_pax_seg.max()+1):  \n",
    "        # print(iL)\n",
    "        cluster_ID = this_cell_table[this_cell_table['label']==iL]\n",
    "        if(cluster_ID.shape[0]==1):\n",
    "            cluster_label_pax_seg[label_pax_seg==iL] = cluster_ID.iloc[0,-1]+1\n",
    "\n",
    "    if flag_plot:\n",
    "\n",
    "        if flag_panel_plot:\n",
    "            # plot the main outputs together for quick viewing\n",
    "            \n",
    "            fig = plt.figure(figsize=(12,12), dpi=512)\n",
    "            # ax[0].imshow(MIP_pax_img, cmap=plt.cm.gray)\n",
    "            # ax[0].axis('off')\n",
    "\n",
    "            # ax[1].imshow(label_pax_seg, cmap=newmap, vmax = 4001,vmin = 0, interpolation='none')\n",
    "            # ax[1].axis('off')\n",
    "\n",
    "            plt.imshow(cluster_label_pax_seg, cmap=newmap,vmax = 4001,vmin = 0, interpolation='none')\n",
    "            plt.axis('off')\n",
    "            \n",
    "            tifffile.imsave(os.path.join(movie_cluster_plot_output_dir, 'label_clusters_'+filename+'_MIP'+'.tif'),cluster_label_pax_seg.astype(np.uint16)) \n",
    "\n",
    "            if flag_plot_save: \n",
    "                # save the plots and subplots for easier viewing\n",
    "                plt.savefig(os.path.join(movie_cluster_plot_output_dir,'VB_clusters_'+str(filenameID)+'.png'))\n",
    "            \n",
    "            if flag_run_all:\n",
    "                plt.close(fig) \n",
    "                    \n",
    "\n",
    "                "
   ]
  },
  {
   "cell_type": "code",
   "execution_count": 33,
   "metadata": {},
   "outputs": [
    {
     "data": {
      "text/html": [
       "<div>\n",
       "<style scoped>\n",
       "    .dataframe tbody tr th:only-of-type {\n",
       "        vertical-align: middle;\n",
       "    }\n",
       "\n",
       "    .dataframe tbody tr th {\n",
       "        vertical-align: top;\n",
       "    }\n",
       "\n",
       "    .dataframe thead th {\n",
       "        text-align: right;\n",
       "    }\n",
       "</style>\n",
       "<table border=\"1\" class=\"dataframe\">\n",
       "  <thead>\n",
       "    <tr style=\"text-align: right;\">\n",
       "      <th></th>\n",
       "      <th>filename</th>\n",
       "      <th>cell_ID</th>\n",
       "      <th>label</th>\n",
       "      <th>cluster_ID_MiniBatc</th>\n",
       "    </tr>\n",
       "  </thead>\n",
       "  <tbody>\n",
       "    <tr>\n",
       "      <th>0</th>\n",
       "      <td>MAX_C2-Cell-01.tif</td>\n",
       "      <td>0</td>\n",
       "      <td>1</td>\n",
       "      <td>3</td>\n",
       "    </tr>\n",
       "    <tr>\n",
       "      <th>1</th>\n",
       "      <td>MAX_C2-Cell-01.tif</td>\n",
       "      <td>0</td>\n",
       "      <td>2</td>\n",
       "      <td>3</td>\n",
       "    </tr>\n",
       "    <tr>\n",
       "      <th>2</th>\n",
       "      <td>MAX_C2-Cell-01.tif</td>\n",
       "      <td>0</td>\n",
       "      <td>3</td>\n",
       "      <td>0</td>\n",
       "    </tr>\n",
       "    <tr>\n",
       "      <th>3</th>\n",
       "      <td>MAX_C2-Cell-01.tif</td>\n",
       "      <td>0</td>\n",
       "      <td>4</td>\n",
       "      <td>3</td>\n",
       "    </tr>\n",
       "    <tr>\n",
       "      <th>4</th>\n",
       "      <td>MAX_C2-Cell-01.tif</td>\n",
       "      <td>0</td>\n",
       "      <td>5</td>\n",
       "      <td>3</td>\n",
       "    </tr>\n",
       "    <tr>\n",
       "      <th>...</th>\n",
       "      <td>...</td>\n",
       "      <td>...</td>\n",
       "      <td>...</td>\n",
       "      <td>...</td>\n",
       "    </tr>\n",
       "    <tr>\n",
       "      <th>49165</th>\n",
       "      <td>Control 1.czi</td>\n",
       "      <td>0</td>\n",
       "      <td>2314</td>\n",
       "      <td>4</td>\n",
       "    </tr>\n",
       "    <tr>\n",
       "      <th>49166</th>\n",
       "      <td>Control 1.czi</td>\n",
       "      <td>0</td>\n",
       "      <td>2315</td>\n",
       "      <td>4</td>\n",
       "    </tr>\n",
       "    <tr>\n",
       "      <th>49167</th>\n",
       "      <td>Control 1.czi</td>\n",
       "      <td>0</td>\n",
       "      <td>2316</td>\n",
       "      <td>4</td>\n",
       "    </tr>\n",
       "    <tr>\n",
       "      <th>49168</th>\n",
       "      <td>Control 1.czi</td>\n",
       "      <td>0</td>\n",
       "      <td>2317</td>\n",
       "      <td>5</td>\n",
       "    </tr>\n",
       "    <tr>\n",
       "      <th>49169</th>\n",
       "      <td>Control 1.czi</td>\n",
       "      <td>0</td>\n",
       "      <td>2318</td>\n",
       "      <td>4</td>\n",
       "    </tr>\n",
       "  </tbody>\n",
       "</table>\n",
       "<p>2799 rows × 4 columns</p>\n",
       "</div>"
      ],
      "text/plain": [
       "                 filename  cell_ID  label  cluster_ID_MiniBatc\n",
       "0      MAX_C2-Cell-01.tif        0      1                    3\n",
       "1      MAX_C2-Cell-01.tif        0      2                    3\n",
       "2      MAX_C2-Cell-01.tif        0      3                    0\n",
       "3      MAX_C2-Cell-01.tif        0      4                    3\n",
       "4      MAX_C2-Cell-01.tif        0      5                    3\n",
       "...                   ...      ...    ...                  ...\n",
       "49165       Control 1.czi        0   2314                    4\n",
       "49166       Control 1.czi        0   2315                    4\n",
       "49167       Control 1.czi        0   2316                    4\n",
       "49168       Control 1.czi        0   2317                    5\n",
       "49169       Control 1.czi        0   2318                    4\n",
       "\n",
       "[2799 rows x 4 columns]"
      ]
     },
     "execution_count": 33,
     "metadata": {},
     "output_type": "execute_result"
    }
   ],
   "source": [
    "this_cell_table"
   ]
  },
  {
   "cell_type": "code",
   "execution_count": 28,
   "metadata": {},
   "outputs": [
    {
     "data": {
      "text/plain": [
       "array([[0.        , 0.        , 0.        , 1.        ],\n",
       "       [0.12156863, 0.46666667, 0.70588235, 1.        ],\n",
       "       [1.        , 0.49803922, 0.05490196, 1.        ],\n",
       "       ...,\n",
       "       [0.49803922, 0.49803922, 0.49803922, 1.        ],\n",
       "       [0.7372549 , 0.74117647, 0.13333333, 1.        ],\n",
       "       [0.09019608, 0.74509804, 0.81176471, 1.        ]])"
      ]
     },
     "execution_count": 28,
     "metadata": {},
     "output_type": "execute_result"
    }
   ],
   "source": [
    "newmap.colors"
   ]
  },
  {
   "cell_type": "code",
   "execution_count": 29,
   "metadata": {},
   "outputs": [
    {
     "ename": "AttributeError",
     "evalue": "'ListedColormap' object has no attribute 'to_numpy'",
     "output_type": "error",
     "traceback": [
      "\u001b[0;31m---------------------------------------------------------------------------\u001b[0m",
      "\u001b[0;31mAttributeError\u001b[0m                            Traceback (most recent call last)",
      "\u001b[0;32m<ipython-input-29-580227e806f6>\u001b[0m in \u001b[0;36m<module>\u001b[0;34m\u001b[0m\n\u001b[0;32m----> 1\u001b[0;31m \u001b[0mnewmap\u001b[0m\u001b[0;34m.\u001b[0m\u001b[0mto_numpy\u001b[0m\u001b[0;34m\u001b[0m\u001b[0;34m\u001b[0m\u001b[0m\n\u001b[0m",
      "\u001b[0;31mAttributeError\u001b[0m: 'ListedColormap' object has no attribute 'to_numpy'"
     ]
    }
   ],
   "source": [
    "newmap.to_numpy"
   ]
  },
  {
   "cell_type": "code",
   "execution_count": null,
   "metadata": {},
   "outputs": [],
   "source": [
    "timeID"
   ]
  },
  {
   "cell_type": "code",
   "execution_count": null,
   "metadata": {},
   "outputs": [],
   "source": [
    "cluster_ID = this_cell_time[this_cell_time['label']==iL]\n"
   ]
  },
  {
   "cell_type": "code",
   "execution_count": null,
   "metadata": {},
   "outputs": [],
   "source": [
    "iL"
   ]
  },
  {
   "cell_type": "code",
   "execution_count": null,
   "metadata": {},
   "outputs": [],
   "source": [
    "this_cell_time"
   ]
  },
  {
   "cell_type": "code",
   "execution_count": null,
   "metadata": {},
   "outputs": [],
   "source": [
    "cluster_ID.shape[0]\n"
   ]
  },
  {
   "cell_type": "code",
   "execution_count": null,
   "metadata": {},
   "outputs": [],
   "source": [
    "iL"
   ]
  },
  {
   "cell_type": "code",
   "execution_count": null,
   "metadata": {},
   "outputs": [],
   "source": [
    "this_cell_table['label']"
   ]
  },
  {
   "cell_type": "code",
   "execution_count": null,
   "metadata": {},
   "outputs": [],
   "source": [
    "cluster_ID['cluster_ID_MeanShif']"
   ]
  },
  {
   "cell_type": "code",
   "execution_count": null,
   "metadata": {},
   "outputs": [],
   "source": [
    "label_pax_seg.max()"
   ]
  },
  {
   "cell_type": "code",
   "execution_count": null,
   "metadata": {},
   "outputs": [],
   "source": [
    "'d='+f'{cell_edge_dist:.0f}'+',oo='+f'{regionprops_pax[iL].orientation:.1f}'+',co='+f'{cell_edge_orient:.1f}'+',diff='+f'{diff_orient:.1f}'"
   ]
  },
  {
   "cell_type": "code",
   "execution_count": null,
   "metadata": {},
   "outputs": [],
   "source": [
    "f'{cell_edge_dist:.0f}'"
   ]
  },
  {
   "cell_type": "markdown",
   "metadata": {},
   "source": [
    "### belows are for debugging, keep it here until no longer needed"
   ]
  },
  {
   "cell_type": "code",
   "execution_count": null,
   "metadata": {},
   "outputs": [],
   "source": [
    "pax_image_label_overlay = label2rgb(label_pax_seg, image=smooth_pax_img, bg_label=0,kind='overlay',alpha=0.5)\n",
    "plt.rcParams[\"figure.figsize\"] = (15,15)\n",
    "plt.imshow(pax_image_label_overlay)"
   ]
  },
  {
   "cell_type": "code",
   "execution_count": null,
   "metadata": {},
   "outputs": [],
   "source": [
    "plt.rcParams[\"figure.figsize\"] = (15,15)\n",
    "plt.imshow(pax_image_label_overlay, cmap=plt.cm.RdBu_r,vmax=0.1,vmin=0)\n",
    "# plt.quiver(obj_Y,obj_X, cell_U,cell_V,color='blue')\n",
    "Q = plt.quiver(obj_Y,obj_X, -obj_U,obj_V,color='m')#width=0.005,headwidth=0.1,headaxislength=0.02,headlength=0.01)\n",
    "# plt.quiver(obj_Y,obj_X, cell_U,cell_V,color='blue')\n",
    "\n",
    "plt.axis('off')"
   ]
  },
  {
   "cell_type": "code",
   "execution_count": null,
   "metadata": {},
   "outputs": [],
   "source": [
    "plt.imshow(distance_taxicab)\n",
    "\n",
    "grid_mask = np.zeros_like(new_cell_mask)\n",
    "grid_mask[::30,::30] = new_cell_mask[::30,::30]\n",
    "to_plot_X = X[grid_mask>0]\n",
    "to_plot_Y = Y[grid_mask>0]\n",
    "to_plot_U = n_v[grid_mask>0]\n",
    "to_plot_H = n_h[grid_mask>0]\n",
    "\n",
    "# plt.contour(X, Y, distance_taxicab,6,linewidths=2)    \n",
    "plt.quiver(to_plot_X,to_plot_Y, -to_plot_U,to_plot_H,color='blue')\n",
    "plt.axis('off')"
   ]
  }
 ],
 "metadata": {
  "kernelspec": {
   "display_name": "Python 3",
   "language": "python",
   "name": "python3"
  },
  "language_info": {
   "codemirror_mode": {
    "name": "ipython",
    "version": 3
   },
   "file_extension": ".py",
   "mimetype": "text/x-python",
   "name": "python",
   "nbconvert_exporter": "python",
   "pygments_lexer": "ipython3",
   "version": "3.6.13"
  }
 },
 "nbformat": 4,
 "nbformat_minor": 4
}
