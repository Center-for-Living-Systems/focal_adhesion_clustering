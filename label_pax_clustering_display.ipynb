{
 "cells": [
  {
   "cell_type": "markdown",
   "metadata": {},
   "source": [
    "### Paxillin movie segmentation and object feature analysis\n",
    "\n",
    "with Shailaja's movies\n",
    "\n",
    "Liya Ding, 2024.03"
   ]
  },
  {
   "cell_type": "code",
   "execution_count": null,
   "metadata": {},
   "outputs": [],
   "source": [
    "import numpy as np\n",
    "import seaborn as sns\n",
    "import pandas as pd\n",
    "import umap\n",
    "from joblib import dump, load\n",
    "import os.path\n",
    "\n",
    "import matplotlib.pyplot as plt\n",
    "from matplotlib import cm\n",
    "from matplotlib.transforms import Bbox\n",
    "\n",
    "import tifffile \n",
    "import czifile\n",
    "\n",
    "import skimage\n",
    "from skimage.morphology import remove_small_objects\n",
    "from skimage.measure import label, regionprops, regionprops_table\n",
    "from skimage.color import label2rgb\n",
    "\n",
    "from scipy import ndimage\n",
    "from scipy.ndimage import distance_transform_cdt\n",
    "from scipy.ndimage import gaussian_filter\n",
    "\n",
    "from sklearn.decomposition import PCA\n",
    "from sklearn.datasets import load_digits\n",
    "from sklearn.model_selection import train_test_split\n",
    "from sklearn.preprocessing import StandardScaler\n",
    "\n",
    "\n",
    "# function from aicssegmentation tool\n",
    "from utils.vessel_2d import filament_2d_wrapper\n",
    "from utils.pre_processing_utils import intensity_normalization\n"
   ]
  },
  {
   "cell_type": "code",
   "execution_count": null,
   "metadata": {},
   "outputs": [],
   "source": [
    "czimovie_dir =  '/mnt/d/lding/FA/data/FA_movies_SS'\n",
    "csv_output_dir = '/mnt/d/lding/FA/analysis_results/movies_SS/csv'\n",
    "plot_output_dir = '/mnt/d/lding/FA/analysis_results/movies_SS/FA_plot'\n",
    "seg_output_dir = '/mnt/d/lding/FA/analysis_results/movies_SS/FA_seg'\n",
    "\n",
    "if not os.path.isdir(csv_output_dir):\n",
    "    os.makedirs(csv_output_dir)\n",
    "if not os.path.isdir(plot_output_dir):\n",
    "    os.makedirs(plot_output_dir)\n",
    "if not os.path.isdir(seg_output_dir):\n",
    "    os.makedirs(seg_output_dir)"
   ]
  },
  {
   "cell_type": "code",
   "execution_count": null,
   "metadata": {},
   "outputs": [],
   "source": [
    "# build the colormap with iterative tab20\n",
    "tab20 = cm.get_cmap('tab20', 20)\n",
    "for i in range(10):\n",
    "    tab20.colors = np.concatenate([tab20.colors,tab20.colors],axis=0)    \n",
    "tab20.colors = np.concatenate([np.zeros([1,4]),tab20.colors],axis=0)\n",
    "# print(tab20.colors)"
   ]
  },
  {
   "cell_type": "markdown",
   "metadata": {},
   "source": [
    "### for each movie run through all the time points"
   ]
  },
  {
   "cell_type": "code",
   "execution_count": null,
   "metadata": {},
   "outputs": [],
   "source": [
    "# flag for some optinal parts\n",
    "flag_plot = True\n",
    "flag_plot_save = True\n",
    "flag_seg_save = True\n",
    "flag_csv_save = True\n",
    "flag_run_all = True\n",
    "flag_panel_plot = True"
   ]
  },
  {
   "cell_type": "code",
   "execution_count": null,
   "metadata": {},
   "outputs": [],
   "source": [
    "prop_df_pax_all=pd.read_csv(os.path.join('/mnt/d/lding/FA/analysis_results/movies_SS/','cluster_labels_allcells.csv'))\n",
    "\n",
    "        "
   ]
  },
  {
   "cell_type": "code",
   "execution_count": 37,
   "metadata": {},
   "outputs": [],
   "source": [
    "newmap = cm.get_cmap('tab20', 1000+1)\n",
    "newmap.colors = tab20.colors[0:1000+1,:]\n",
    "newmap.colors[0,:]  = np.zeros([1,4])\n",
    "newmap.colors[0,3] = 1"
   ]
  },
  {
   "cell_type": "code",
   "execution_count": 38,
   "metadata": {},
   "outputs": [
    {
     "data": {
      "text/plain": [
       "(1001, 4)"
      ]
     },
     "execution_count": 38,
     "metadata": {},
     "output_type": "execute_result"
    }
   ],
   "source": [
    "newmap.colors.shape"
   ]
  },
  {
   "cell_type": "code",
   "execution_count": 39,
   "metadata": {},
   "outputs": [],
   "source": [
    "filenames = [x for x in os.listdir(czimovie_dir) if os.path.isfile(os.path.join(czimovie_dir, x)) and ('.czi' in x)]\n",
    "\n",
    "# if not in run all mode, only test with the first image of the first movie\n",
    "if not flag_run_all:\n",
    "    filenames = filenames[0:2]\n",
    "\n",
    "for filenameID in range(len(filenames)):\n",
    "    filename = filenames[filenameID]\n",
    "    img = tifffile.imread(os.path.join(czimovie_dir,filename))\n",
    "    movie_cluster_plot_output_dir = os.path.join(plot_output_dir,  'cluster_plot'+str(filenameID))\n",
    "    if not os.path.isdir(movie_cluster_plot_output_dir):   os.makedirs(movie_cluster_plot_output_dir)\n",
    "    \n",
    "    ### for each movie, make sub-folders for different output for easier viewing in imagej\n",
    "    movie_label_output_dir = os.path.join(seg_output_dir,  'label'+str(filenameID))\n",
    "    \n",
    "    # get the length is the movie\n",
    "    time_length = img.shape[0]\n",
    "\n",
    "    # if not in run all mode, only test with the first image of the first movie\n",
    "    if not flag_run_all:\n",
    "        time_length = 2\n",
    "\n",
    "    for timeID in range(time_length):\n",
    "        input_pax_img = img[timeID,:,:]      \n",
    "        label_pax_seg = tifffile.imread(os.path.join(movie_label_output_dir, 'SS_pax_seglabel_'+str(filenameID)+'_t'+str(timeID)+'.tif'))   \n",
    "        max_label = label_pax_seg.max()+1\n",
    "\n",
    "       \n",
    "        # print(newmap.colors[:,0:3])\n",
    "        less_col_prop_df_pax_all = prop_df_pax_all[['filename','cell_ID','time_point','label','cluster_ID_MeanShif']]\n",
    "        cluster_label_pax_seg = np.zeros_like(label_pax_seg)\n",
    "        this_cell_table = less_col_prop_df_pax_all[less_col_prop_df_pax_all['cell_ID'] == filenameID]\n",
    "        this_cell_time = this_cell_table[this_cell_table['time_point'] == timeID]\n",
    "        # print(filename)\n",
    "        # print(this_cell_time.iloc[0,0])\n",
    "        \n",
    "        for iL in range(1,label_pax_seg.max()+1):  \n",
    "            # print(iL)\n",
    "            cluster_ID = this_cell_time[this_cell_time['label']==iL]\n",
    "            if(cluster_ID.shape[0]==1):\n",
    "                cluster_label_pax_seg[label_pax_seg==iL] = cluster_ID.iloc[0,-1]+1\n",
    "\n",
    "        if flag_plot:\n",
    "\n",
    "            if flag_panel_plot:\n",
    "                # plot the main outputs together for quick viewing\n",
    "                fig, ax = plt.subplots(1,3, figsize=(16,8), dpi=256, facecolor='w', edgecolor='k')\n",
    "                ax[0].imshow(input_pax_img, cmap=plt.cm.gray)\n",
    "                ax[0].axis('off')\n",
    "\n",
    "                ax[1].imshow(label_pax_seg, cmap=newmap, vmax = 1001,vmin = 0, interpolation='none')\n",
    "                ax[1].axis('off')\n",
    "\n",
    "                ax[2].imshow(cluster_label_pax_seg, cmap=newmap,vmax = 1001,vmin = 0, interpolation='none')\n",
    "                ax[2].axis('off')\n",
    "              \n",
    "                if flag_plot_save: \n",
    "                    # save the plots and subplots for easier viewing\n",
    "                    plt.savefig(os.path.join(movie_cluster_plot_output_dir,'clusters_'+str(filenameID)+'_t'+str(timeID)+'.png'))\n",
    "                \n",
    "                if flag_run_all:\n",
    "                    plt.close(fig) \n",
    "                        \n",
    "\n",
    "                "
   ]
  },
  {
   "cell_type": "code",
   "execution_count": 34,
   "metadata": {},
   "outputs": [
    {
     "data": {
      "text/plain": [
       "array([[0.        , 0.        , 0.        , 1.        ],\n",
       "       [0.12156863, 0.46666667, 0.70588235, 1.        ],\n",
       "       [0.68235294, 0.78039216, 0.90980392, 1.        ],\n",
       "       [1.        , 0.49803922, 0.05490196, 1.        ],\n",
       "       [1.        , 0.73333333, 0.47058824, 1.        ],\n",
       "       [0.17254902, 0.62745098, 0.17254902, 1.        ],\n",
       "       [0.59607843, 0.8745098 , 0.54117647, 1.        ],\n",
       "       [0.83921569, 0.15294118, 0.15686275, 1.        ],\n",
       "       [1.        , 0.59607843, 0.58823529, 1.        ],\n",
       "       [0.58039216, 0.40392157, 0.74117647, 1.        ],\n",
       "       [0.77254902, 0.69019608, 0.83529412, 1.        ],\n",
       "       [0.54901961, 0.3372549 , 0.29411765, 1.        ],\n",
       "       [0.76862745, 0.61176471, 0.58039216, 1.        ],\n",
       "       [0.89019608, 0.46666667, 0.76078431, 1.        ],\n",
       "       [0.96862745, 0.71372549, 0.82352941, 1.        ],\n",
       "       [0.49803922, 0.49803922, 0.49803922, 1.        ],\n",
       "       [0.78039216, 0.78039216, 0.78039216, 1.        ],\n",
       "       [0.7372549 , 0.74117647, 0.13333333, 1.        ],\n",
       "       [0.85882353, 0.85882353, 0.55294118, 1.        ],\n",
       "       [0.09019608, 0.74509804, 0.81176471, 1.        ],\n",
       "       [0.61960784, 0.85490196, 0.89803922, 1.        ],\n",
       "       [0.12156863, 0.46666667, 0.70588235, 1.        ],\n",
       "       [0.68235294, 0.78039216, 0.90980392, 1.        ],\n",
       "       [1.        , 0.49803922, 0.05490196, 1.        ],\n",
       "       [1.        , 0.73333333, 0.47058824, 1.        ],\n",
       "       [0.17254902, 0.62745098, 0.17254902, 1.        ],\n",
       "       [0.59607843, 0.8745098 , 0.54117647, 1.        ],\n",
       "       [0.83921569, 0.15294118, 0.15686275, 1.        ],\n",
       "       [1.        , 0.59607843, 0.58823529, 1.        ],\n",
       "       [0.58039216, 0.40392157, 0.74117647, 1.        ],\n",
       "       [0.77254902, 0.69019608, 0.83529412, 1.        ],\n",
       "       [0.54901961, 0.3372549 , 0.29411765, 1.        ],\n",
       "       [0.76862745, 0.61176471, 0.58039216, 1.        ],\n",
       "       [0.89019608, 0.46666667, 0.76078431, 1.        ],\n",
       "       [0.96862745, 0.71372549, 0.82352941, 1.        ],\n",
       "       [0.49803922, 0.49803922, 0.49803922, 1.        ],\n",
       "       [0.78039216, 0.78039216, 0.78039216, 1.        ],\n",
       "       [0.7372549 , 0.74117647, 0.13333333, 1.        ],\n",
       "       [0.85882353, 0.85882353, 0.55294118, 1.        ],\n",
       "       [0.09019608, 0.74509804, 0.81176471, 1.        ],\n",
       "       [0.61960784, 0.85490196, 0.89803922, 1.        ],\n",
       "       [0.12156863, 0.46666667, 0.70588235, 1.        ],\n",
       "       [0.68235294, 0.78039216, 0.90980392, 1.        ],\n",
       "       [1.        , 0.49803922, 0.05490196, 1.        ],\n",
       "       [1.        , 0.73333333, 0.47058824, 1.        ],\n",
       "       [0.17254902, 0.62745098, 0.17254902, 1.        ],\n",
       "       [0.59607843, 0.8745098 , 0.54117647, 1.        ],\n",
       "       [0.83921569, 0.15294118, 0.15686275, 1.        ],\n",
       "       [1.        , 0.59607843, 0.58823529, 1.        ],\n",
       "       [0.58039216, 0.40392157, 0.74117647, 1.        ],\n",
       "       [0.77254902, 0.69019608, 0.83529412, 1.        ],\n",
       "       [0.54901961, 0.3372549 , 0.29411765, 1.        ],\n",
       "       [0.76862745, 0.61176471, 0.58039216, 1.        ],\n",
       "       [0.89019608, 0.46666667, 0.76078431, 1.        ],\n",
       "       [0.96862745, 0.71372549, 0.82352941, 1.        ],\n",
       "       [0.49803922, 0.49803922, 0.49803922, 1.        ],\n",
       "       [0.78039216, 0.78039216, 0.78039216, 1.        ],\n",
       "       [0.7372549 , 0.74117647, 0.13333333, 1.        ],\n",
       "       [0.85882353, 0.85882353, 0.55294118, 1.        ],\n",
       "       [0.09019608, 0.74509804, 0.81176471, 1.        ],\n",
       "       [0.61960784, 0.85490196, 0.89803922, 1.        ],\n",
       "       [0.12156863, 0.46666667, 0.70588235, 1.        ],\n",
       "       [0.68235294, 0.78039216, 0.90980392, 1.        ],\n",
       "       [1.        , 0.49803922, 0.05490196, 1.        ],\n",
       "       [1.        , 0.73333333, 0.47058824, 1.        ],\n",
       "       [0.17254902, 0.62745098, 0.17254902, 1.        ],\n",
       "       [0.59607843, 0.8745098 , 0.54117647, 1.        ],\n",
       "       [0.83921569, 0.15294118, 0.15686275, 1.        ],\n",
       "       [1.        , 0.59607843, 0.58823529, 1.        ],\n",
       "       [0.58039216, 0.40392157, 0.74117647, 1.        ],\n",
       "       [0.77254902, 0.69019608, 0.83529412, 1.        ],\n",
       "       [0.54901961, 0.3372549 , 0.29411765, 1.        ],\n",
       "       [0.76862745, 0.61176471, 0.58039216, 1.        ],\n",
       "       [0.89019608, 0.46666667, 0.76078431, 1.        ],\n",
       "       [0.96862745, 0.71372549, 0.82352941, 1.        ],\n",
       "       [0.49803922, 0.49803922, 0.49803922, 1.        ],\n",
       "       [0.78039216, 0.78039216, 0.78039216, 1.        ],\n",
       "       [0.7372549 , 0.74117647, 0.13333333, 1.        ],\n",
       "       [0.85882353, 0.85882353, 0.55294118, 1.        ],\n",
       "       [0.09019608, 0.74509804, 0.81176471, 1.        ],\n",
       "       [0.61960784, 0.85490196, 0.89803922, 1.        ],\n",
       "       [0.12156863, 0.46666667, 0.70588235, 1.        ],\n",
       "       [0.68235294, 0.78039216, 0.90980392, 1.        ],\n",
       "       [1.        , 0.49803922, 0.05490196, 1.        ],\n",
       "       [1.        , 0.73333333, 0.47058824, 1.        ],\n",
       "       [0.17254902, 0.62745098, 0.17254902, 1.        ],\n",
       "       [0.59607843, 0.8745098 , 0.54117647, 1.        ],\n",
       "       [0.83921569, 0.15294118, 0.15686275, 1.        ],\n",
       "       [1.        , 0.59607843, 0.58823529, 1.        ],\n",
       "       [0.58039216, 0.40392157, 0.74117647, 1.        ],\n",
       "       [0.77254902, 0.69019608, 0.83529412, 1.        ],\n",
       "       [0.54901961, 0.3372549 , 0.29411765, 1.        ],\n",
       "       [0.76862745, 0.61176471, 0.58039216, 1.        ],\n",
       "       [0.89019608, 0.46666667, 0.76078431, 1.        ],\n",
       "       [0.96862745, 0.71372549, 0.82352941, 1.        ],\n",
       "       [0.49803922, 0.49803922, 0.49803922, 1.        ],\n",
       "       [0.78039216, 0.78039216, 0.78039216, 1.        ],\n",
       "       [0.7372549 , 0.74117647, 0.13333333, 1.        ],\n",
       "       [0.85882353, 0.85882353, 0.55294118, 1.        ],\n",
       "       [0.09019608, 0.74509804, 0.81176471, 1.        ],\n",
       "       [0.61960784, 0.85490196, 0.89803922, 1.        ],\n",
       "       [0.12156863, 0.46666667, 0.70588235, 1.        ]])"
      ]
     },
     "execution_count": 34,
     "metadata": {},
     "output_type": "execute_result"
    }
   ],
   "source": [
    "newmap.colors"
   ]
  },
  {
   "cell_type": "code",
   "execution_count": 33,
   "metadata": {},
   "outputs": [
    {
     "ename": "AttributeError",
     "evalue": "'ListedColormap' object has no attribute 'to_numpy'",
     "output_type": "error",
     "traceback": [
      "\u001b[0;31m---------------------------------------------------------------------------\u001b[0m",
      "\u001b[0;31mAttributeError\u001b[0m                            Traceback (most recent call last)",
      "\u001b[0;32m<ipython-input-33-580227e806f6>\u001b[0m in \u001b[0;36m<module>\u001b[0;34m\u001b[0m\n\u001b[0;32m----> 1\u001b[0;31m \u001b[0mnewmap\u001b[0m\u001b[0;34m.\u001b[0m\u001b[0mto_numpy\u001b[0m\u001b[0;34m\u001b[0m\u001b[0;34m\u001b[0m\u001b[0m\n\u001b[0m",
      "\u001b[0;31mAttributeError\u001b[0m: 'ListedColormap' object has no attribute 'to_numpy'"
     ]
    }
   ],
   "source": [
    "newmap.to_numpy"
   ]
  },
  {
   "cell_type": "code",
   "execution_count": null,
   "metadata": {},
   "outputs": [],
   "source": [
    "timeID"
   ]
  },
  {
   "cell_type": "code",
   "execution_count": null,
   "metadata": {},
   "outputs": [],
   "source": [
    "cluster_ID = this_cell_time[this_cell_time['label']==iL]\n"
   ]
  },
  {
   "cell_type": "code",
   "execution_count": null,
   "metadata": {},
   "outputs": [],
   "source": [
    "iL"
   ]
  },
  {
   "cell_type": "code",
   "execution_count": null,
   "metadata": {},
   "outputs": [],
   "source": [
    "this_cell_time"
   ]
  },
  {
   "cell_type": "code",
   "execution_count": null,
   "metadata": {},
   "outputs": [],
   "source": [
    "cluster_ID.shape[0]\n"
   ]
  },
  {
   "cell_type": "code",
   "execution_count": null,
   "metadata": {},
   "outputs": [],
   "source": [
    "iL"
   ]
  },
  {
   "cell_type": "code",
   "execution_count": null,
   "metadata": {},
   "outputs": [],
   "source": [
    "this_cell_table['label']"
   ]
  },
  {
   "cell_type": "code",
   "execution_count": null,
   "metadata": {},
   "outputs": [],
   "source": [
    "cluster_ID['cluster_ID_MeanShif']"
   ]
  },
  {
   "cell_type": "code",
   "execution_count": null,
   "metadata": {},
   "outputs": [],
   "source": [
    "label_pax_seg.max()"
   ]
  },
  {
   "cell_type": "code",
   "execution_count": null,
   "metadata": {},
   "outputs": [],
   "source": [
    "'d='+f'{cell_edge_dist:.0f}'+',oo='+f'{regionprops_pax[iL].orientation:.1f}'+',co='+f'{cell_edge_orient:.1f}'+',diff='+f'{diff_orient:.1f}'"
   ]
  },
  {
   "cell_type": "code",
   "execution_count": null,
   "metadata": {},
   "outputs": [],
   "source": [
    "f'{cell_edge_dist:.0f}'"
   ]
  },
  {
   "cell_type": "markdown",
   "metadata": {},
   "source": [
    "### belows are for debugging, keep it here until no longer needed"
   ]
  },
  {
   "cell_type": "code",
   "execution_count": null,
   "metadata": {},
   "outputs": [],
   "source": [
    "pax_image_label_overlay = label2rgb(label_pax_seg, image=smooth_pax_img, bg_label=0,kind='overlay',alpha=0.5)\n",
    "plt.rcParams[\"figure.figsize\"] = (15,15)\n",
    "plt.imshow(pax_image_label_overlay)"
   ]
  },
  {
   "cell_type": "code",
   "execution_count": null,
   "metadata": {},
   "outputs": [],
   "source": [
    "plt.rcParams[\"figure.figsize\"] = (15,15)\n",
    "plt.imshow(pax_image_label_overlay, cmap=plt.cm.RdBu_r,vmax=0.1,vmin=0)\n",
    "# plt.quiver(obj_Y,obj_X, cell_U,cell_V,color='blue')\n",
    "Q = plt.quiver(obj_Y,obj_X, -obj_U,obj_V,color='m')#width=0.005,headwidth=0.1,headaxislength=0.02,headlength=0.01)\n",
    "# plt.quiver(obj_Y,obj_X, cell_U,cell_V,color='blue')\n",
    "\n",
    "plt.axis('off')"
   ]
  },
  {
   "cell_type": "code",
   "execution_count": null,
   "metadata": {},
   "outputs": [],
   "source": [
    "plt.imshow(distance_taxicab)\n",
    "\n",
    "grid_mask = np.zeros_like(new_cell_mask)\n",
    "grid_mask[::30,::30] = new_cell_mask[::30,::30]\n",
    "to_plot_X = X[grid_mask>0]\n",
    "to_plot_Y = Y[grid_mask>0]\n",
    "to_plot_U = n_v[grid_mask>0]\n",
    "to_plot_H = n_h[grid_mask>0]\n",
    "\n",
    "# plt.contour(X, Y, distance_taxicab,6,linewidths=2)    \n",
    "plt.quiver(to_plot_X,to_plot_Y, -to_plot_U,to_plot_H,color='blue')\n",
    "plt.axis('off')"
   ]
  }
 ],
 "metadata": {
  "kernelspec": {
   "display_name": "Python 3",
   "language": "python",
   "name": "python3"
  },
  "language_info": {
   "codemirror_mode": {
    "name": "ipython",
    "version": 3
   },
   "file_extension": ".py",
   "mimetype": "text/x-python",
   "name": "python",
   "nbconvert_exporter": "python",
   "pygments_lexer": "ipython3",
   "version": "3.6.13"
  }
 },
 "nbformat": 4,
 "nbformat_minor": 4
}
