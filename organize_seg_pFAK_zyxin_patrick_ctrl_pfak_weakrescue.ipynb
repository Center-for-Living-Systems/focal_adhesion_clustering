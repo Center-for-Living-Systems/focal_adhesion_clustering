{
 "cells": [
  {
   "cell_type": "markdown",
   "metadata": {},
   "source": [
    "### Paxillin movie segmentation and object feature analysis\n",
    "\n",
    "with Patrick's 2D fixed image pFAK and Zyxin\n",
    "\n",
    "Liya Ding, 2024.11"
   ]
  },
  {
   "cell_type": "code",
   "execution_count": 1,
   "metadata": {},
   "outputs": [],
   "source": [
    "import pandas as pd\n",
    "import os.path\n",
    "import tifffile "
   ]
  },
  {
   "cell_type": "code",
   "execution_count": 2,
   "metadata": {},
   "outputs": [],
   "source": [
    "import sys\n",
    "# Get the directory of the script\n",
    "script_dir = \".\"\n",
    "\n",
    "# Add the project root to sys.path\n",
    "sys.path.append(script_dir)  # Adds current directory\n",
    "\n",
    "from core.FA_object_segmentation import FA_obj_segmenter\n",
    "from core.FA_obj_feature_extractor import FA_obj_feature_extractor\n",
    "from utils.display_utils import display_fa_segmentation_panels"
   ]
  },
  {
   "cell_type": "code",
   "execution_count": 3,
   "metadata": {},
   "outputs": [],
   "source": [
    "image_2D_2CH_dir =  '/mnt/d/lding/zyxin/data/240423_fixed_EGFP_zyxin_pFAK/Control_images'\n",
    "\n",
    "output_dir = '/mnt/d/lding/FA/analysis_results/pFAK_zyxin_20230423/Control_pfak'\n",
    "method_ID = 'code_org_20250303'\n",
    "\n",
    "csv_output_dir = os.path.join(output_dir, method_ID+'_csv')\n",
    "plot_output_dir = os.path.join(output_dir, method_ID+'_plot')\n",
    "seg_output_dir = os.path.join(output_dir, method_ID+'_seg')\n",
    "\n",
    "pixel_size = 0.0706\n",
    "time_point = 0\n",
    "\n",
    "os.makedirs(csv_output_dir, exist_ok=True)\n",
    "os.makedirs(plot_output_dir, exist_ok=True)\n",
    "os.makedirs(seg_output_dir, exist_ok=True)\n"
   ]
  },
  {
   "cell_type": "markdown",
   "metadata": {},
   "source": [
    "### for each 3D stack run through MIP and 8th frame"
   ]
  },
  {
   "cell_type": "code",
   "execution_count": 4,
   "metadata": {},
   "outputs": [],
   "source": [
    "# flag for some optinal parts\n",
    "flag_plot = True\n",
    "flag_plot_save = False\n",
    "flag_seg_save = True\n",
    "flag_csv_save = True\n",
    "\n",
    "flag_panel_plot = True"
   ]
  },
  {
   "cell_type": "code",
   "execution_count": 5,
   "metadata": {},
   "outputs": [],
   "source": [
    "ctrl_one_cell_list = [0,4,5,14,15,17,20,21,22,23,24,25,28,29,33,37,39,40,41,46,47,48,49,51,52,56,59,60,61,64,\n",
    "                      65,69,70,75,76,79,80,82,93,94,96,102,103,104,106,107,110,112,114,115,117,122,123,126,131,134,135,136,137,139,140,141,\n",
    "                 149,162,166,173,177,183,185,187,189,194,195,196,197,198,201,202,214,215,217,220,224,228,231,236,237,246,248,250,252,253,251,257,258,259,262,263,\n",
    "                 267,269,270,271,277,278,285,286,287,289,293,296]\n"
   ]
  },
  {
   "cell_type": "code",
   "execution_count": 6,
   "metadata": {},
   "outputs": [],
   "source": [
    "flag_run_all  = False"
   ]
  },
  {
   "cell_type": "code",
   "execution_count": null,
   "metadata": {},
   "outputs": [
    {
     "ename": "TypeError",
     "evalue": "'FA_obj_feature_extractor' object is not callable",
     "output_type": "error",
     "traceback": [
      "\u001b[0;31m---------------------------------------------------------------------------\u001b[0m",
      "\u001b[0;31mTypeError\u001b[0m                                 Traceback (most recent call last)",
      "\u001b[0;32m/tmp/ipykernel_3638206/3413910852.py\u001b[0m in \u001b[0;36m<module>\u001b[0;34m\u001b[0m\n\u001b[1;32m     30\u001b[0m     \u001b[0;31m# Extract Object features\u001b[0m\u001b[0;34m\u001b[0m\u001b[0;34m\u001b[0m\u001b[0;34m\u001b[0m\u001b[0m\n\u001b[1;32m     31\u001b[0m     FA_obj_feature_extractor = FA_obj_feature_extractor(filename = filename,  pax_seg = major_FA_seg, input_multich_img = input_multich_img,\n\u001b[0;32m---> 32\u001b[0;31m                                                         new_cell_mask = new_cell_mask, filenameID = filenameID)\n\u001b[0m\u001b[1;32m     33\u001b[0m \u001b[0;34m\u001b[0m\u001b[0m\n\u001b[1;32m     34\u001b[0m     \u001b[0;34m[\u001b[0m\u001b[0mfa_obj_features\u001b[0m\u001b[0;34m,\u001b[0m \u001b[0mlocal_orientation\u001b[0m\u001b[0;34m]\u001b[0m \u001b[0;34m=\u001b[0m \u001b[0mFA_obj_feature_extractor\u001b[0m\u001b[0;34m.\u001b[0m\u001b[0mextract_features\u001b[0m\u001b[0;34m(\u001b[0m\u001b[0;34m)\u001b[0m\u001b[0;34m\u001b[0m\u001b[0;34m\u001b[0m\u001b[0m\n",
      "\u001b[0;31mTypeError\u001b[0m: 'FA_obj_feature_extractor' object is not callable"
     ]
    }
   ],
   "source": [
    "# for all tif files \n",
    "filenames = [x for x in os.listdir(image_2D_2CH_dir) if os.path.isfile(os.path.join(image_2D_2CH_dir, x)) and ('.tif' in x)]\n",
    "\n",
    "# if not in run all mode, only test with the first image of the first movie\n",
    "if not flag_run_all:\n",
    "    filenames = filenames[56:57]\n",
    "\n",
    "for filenameID in range(len(filenames)):\n",
    "    prop_df_pax = pd.DataFrame(columns=['filename','cell_ID','time_point','pixel_size','area', 'bbox_area', 'convex_area', 'eccentricity', 'equivalent_diameter', 'euler_number',\n",
    "                    'extent','filled_area','label','major_axis_length','max_intensity','mean_intensity',\n",
    "                    'min_intensity','minor_axis_length','orientation','perimeter','solidity',\n",
    "                    'cell_edge_dist','cell_edge_orient','diff_orient','zyxin_int'])\n",
    "    \n",
    "    filename = filenames[filenameID]\n",
    "\n",
    "    number = int(filename[-7:-4])\n",
    "    if number not in ctrl_one_cell_list:\n",
    "        continue\n",
    "\n",
    "    input_multich_img = tifffile.imread(os.path.join(image_2D_2CH_dir,filename))\n",
    "\n",
    "\n",
    "    # Initialize the segmenter\n",
    "    segmenter = FA_obj_segmenter()\n",
    "\n",
    "    # Perform segmentation\n",
    "    [major_FA_seg, new_cell_mask] = segmenter.apply_fa_obj_segmentation(input_multich_img)\n",
    "\n",
    "   \n",
    "    # Extract Object features\n",
    "    FA_obj_feature_extractor = FA_obj_feature_extractor(filename = filename,  pax_seg = major_FA_seg, input_multich_img = input_multich_img,\n",
    "                                                        new_cell_mask = new_cell_mask, filenameID = filenameID)\n",
    "\n",
    "    [fa_obj_features, local_orientation] = FA_obj_feature_extractor.extract_features()\n",
    "    \n",
    "    # Plot figures for debug and presentation\n",
    "    display_fa_segmentation_panels(input_image = squeeze(input_multich_img[0,:,:]), input_cell_mask = new_cell_mask, input_obj_seg = major_FA_seg, local_orientation = local_orientation,\n",
    "                                   plot_output_dir = plot_output_dir, filename = filename, flag_plot_save = flag_plot_save, flag_run_all = flag_run_all)\n",
    "\n",
    "    # tifffile.imsave(os.path.join(movie_label_output_dir, 'FA_obj_label_'+filename+'.tif'), fa_segmentation_result.astype(np.uint16))   \n",
    "    # tifffile.imsave(os.path.join(movie_labeltoggle_output_dir, 'SS_pax_img_'+filename+'_MIP'+'.tif'),input_pax_img.astype(np.float32))   \n",
    "    # tifffile.imsave(os.path.join(movie_mask_output_dir, 'SS_cell_mask_'+filename+'_MIP'+'.tif'),new_cell_mask.astype(np.uint8))   \n",
    "    # tifffile.imsave(os.path.join(movie_seg_output_dir, 'SS_pax_seg_'+filename+'_MIP'+'.tif'),pax_seg.astype(np.uint8))   \n",
    "    # tifffile.imsave(os.path.join(movie_rgb_output_dir, 'SS_pax_segrgb_'+filename+'_MIP'+'.jpg'),pax_image_label_overlay)     \n",
    "                \n",
    "\n",
    "                "
   ]
  }
 ],
 "metadata": {
  "kernelspec": {
   "display_name": "segmentation",
   "language": "python",
   "name": "python3"
  },
  "language_info": {
   "codemirror_mode": {
    "name": "ipython",
    "version": 3
   },
   "file_extension": ".py",
   "mimetype": "text/x-python",
   "name": "python",
   "nbconvert_exporter": "python",
   "pygments_lexer": "ipython3",
   "version": "3.7.16"
  }
 },
 "nbformat": 4,
 "nbformat_minor": 4
}
