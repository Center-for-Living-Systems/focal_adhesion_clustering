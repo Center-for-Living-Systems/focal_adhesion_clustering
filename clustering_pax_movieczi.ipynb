{
 "cells": [
  {
   "cell_type": "markdown",
   "metadata": {},
   "source": [
    "### Paxillin movie segmentation and object feature analysis\n",
    "\n",
    "with Shailaja's movies\n",
    "\n",
    "Liya Ding, 2024.03"
   ]
  },
  {
   "cell_type": "code",
   "execution_count": 1,
   "metadata": {},
   "outputs": [],
   "source": [
    "import numpy as np\n",
    "import seaborn as sns\n",
    "import pandas as pd\n",
    "import umap\n",
    "from joblib import dump, load\n",
    "import os.path\n",
    "\n",
    "import matplotlib.pyplot as plt\n",
    "from matplotlib import cm\n",
    "from matplotlib.transforms import Bbox\n",
    "\n",
    "import tifffile \n",
    "import czifile\n",
    "\n",
    "import skimage\n",
    "from skimage.morphology import remove_small_objects\n",
    "from skimage.measure import label, regionprops, regionprops_table\n",
    "from skimage.color import label2rgb\n",
    "\n",
    "from scipy import ndimage\n",
    "from scipy.ndimage import distance_transform_cdt\n",
    "from scipy.ndimage import gaussian_filter\n",
    "\n",
    "from sklearn.decomposition import PCA\n",
    "from sklearn.datasets import load_digits\n",
    "from sklearn.model_selection import train_test_split\n",
    "from sklearn.preprocessing import StandardScaler\n",
    "\n",
    "\n",
    "# function from aicssegmentation tool\n",
    "from utils.vessel_2d import filament_2d_wrapper\n",
    "from utils.pre_processing_utils import intensity_normalization\n"
   ]
  },
  {
   "cell_type": "code",
   "execution_count": 2,
   "metadata": {},
   "outputs": [],
   "source": [
    "czimovie_dir =  '/mnt/d/lding/FA/data/FA_movies_SS'\n",
    "csv_output_dir = '/mnt/d/lding/FA/analysis_results/movies_SS/csv'\n",
    "plot_output_dir = '/mnt/d/lding/FA/analysis_results/movies_SS/FA_plot'\n",
    "seg_output_dir = '/mnt/d/lding/FA/analysis_results/movies_SS/FA_seg'\n",
    "\n",
    "if not os.path.isdir(csv_output_dir):\n",
    "    os.makedirs(csv_output_dir)\n",
    "if not os.path.isdir(plot_output_dir):\n",
    "    os.makedirs(plot_output_dir)\n",
    "if not os.path.isdir(seg_output_dir):\n",
    "    os.makedirs(seg_output_dir)"
   ]
  },
  {
   "cell_type": "code",
   "execution_count": 3,
   "metadata": {},
   "outputs": [
    {
     "name": "stdout",
     "output_type": "stream",
     "text": [
      "[[0.         0.         0.         0.        ]\n",
      " [0.12156863 0.46666667 0.70588235 1.        ]\n",
      " [0.68235294 0.78039216 0.90980392 1.        ]\n",
      " ...\n",
      " [0.85882353 0.85882353 0.55294118 1.        ]\n",
      " [0.09019608 0.74509804 0.81176471 1.        ]\n",
      " [0.61960784 0.85490196 0.89803922 1.        ]]\n"
     ]
    }
   ],
   "source": [
    "# build the colormap with iterative tab20\n",
    "tab20 = cm.get_cmap('tab20', 20)\n",
    "for i in range(10):\n",
    "    tab20.colors = np.concatenate([tab20.colors,tab20.colors],axis=0)    \n",
    "tab20.colors = np.concatenate([np.zeros([1,4]),tab20.colors],axis=0)\n",
    "print(tab20.colors)"
   ]
  },
  {
   "cell_type": "markdown",
   "metadata": {},
   "source": [
    "### for each movie run through all the time points"
   ]
  },
  {
   "cell_type": "code",
   "execution_count": 62,
   "metadata": {},
   "outputs": [],
   "source": [
    "# flag for some optinal parts\n",
    "flag_plot = True\n",
    "flag_plot_save = False\n",
    "flag_seg_save = True\n",
    "flag_csv_save = True\n",
    "flag_run_all = True\n",
    "flag_panel_plot = False"
   ]
  },
  {
   "cell_type": "code",
   "execution_count": 63,
   "metadata": {},
   "outputs": [
    {
     "name": "stdout",
     "output_type": "stream",
     "text": [
      "0\n",
      "1\n",
      "2\n",
      "3\n",
      "4\n",
      "5\n"
     ]
    }
   ],
   "source": [
    "prop_df_pax_all = pd.DataFrame(columns=['filename','cell_ID','time_point','area', 'bbox_area', 'convex_area', 'eccentricity', 'equivalent_diameter', 'euler_number',\n",
    "                                'extent','filled_area','label','major_axis_length','max_intensity','mean_intensity',\n",
    "                                'min_intensity','minor_axis_length','orientation','perimeter','solidity',\n",
    "                                'cell_edge_dist','cell_edge_orient','diff_orient'])\n",
    "\n",
    "filenames = [x for x in os.listdir(czimovie_dir) if os.path.isfile(os.path.join(czimovie_dir, x)) and ('.czi' in x)]\n",
    "\n",
    "# if not in run all mode, only test with the first image of the first movie\n",
    "if not flag_run_all:\n",
    "    filenames = filenames[1:2]\n",
    "\n",
    "for filenameID in range(len(filenames)):\n",
    "    print(filenameID)\n",
    "    filename = filenames[filenameID]\n",
    "    img = tifffile.imread(os.path.join(czimovie_dir,filename))\n",
    "    time_length = img.shape[0]\n",
    "    for timeID in range(time_length):\n",
    "        prop_df_pax = pd.read_csv(os.path.join(csv_output_dir,'labelprop_SS_'+str(filenameID)+'_t'+str(timeID)+'.csv'))\n",
    "        prop_df_pax_all = prop_df_pax_all.append(prop_df_pax)\n"
   ]
  },
  {
   "cell_type": "code",
   "execution_count": 66,
   "metadata": {},
   "outputs": [],
   "source": [
    "prop_df_pax_all = prop_df_pax_all.append(prop_df_pax)\n"
   ]
  },
  {
   "cell_type": "code",
   "execution_count": 67,
   "metadata": {},
   "outputs": [
    {
     "data": {
      "text/plain": [
       "(23990, 24)"
      ]
     },
     "execution_count": 67,
     "metadata": {},
     "output_type": "execute_result"
    }
   ],
   "source": [
    "prop_df_pax_all.shape"
   ]
  },
  {
   "cell_type": "code",
   "execution_count": 69,
   "metadata": {},
   "outputs": [],
   "source": [
    "prop_df_pax_all.to_csv(os.path.join(csv_output_dir,'all_labels.csv'))"
   ]
  },
  {
   "cell_type": "code",
   "execution_count": 70,
   "metadata": {},
   "outputs": [
    {
     "data": {
      "text/plain": [
       "(array([1.3274e+04, 4.3190e+03, 2.2520e+03, 1.5280e+03, 8.6400e+02,\n",
       "        5.1100e+02, 3.7800e+02, 2.2500e+02, 1.5700e+02, 1.0300e+02,\n",
       "        9.4000e+01, 7.0000e+01, 4.7000e+01, 4.0000e+01, 2.2000e+01,\n",
       "        2.3000e+01, 1.5000e+01, 1.5000e+01, 1.6000e+01, 1.1000e+01,\n",
       "        6.0000e+00, 6.0000e+00, 0.0000e+00, 1.0000e+00, 1.0000e+00,\n",
       "        1.0000e+00, 2.0000e+00, 0.0000e+00, 0.0000e+00, 1.0000e+00,\n",
       "        0.0000e+00, 1.0000e+00, 1.0000e+00, 2.0000e+00, 0.0000e+00,\n",
       "        0.0000e+00, 1.0000e+00, 0.0000e+00, 1.0000e+00, 0.0000e+00,\n",
       "        0.0000e+00, 1.0000e+00, 0.0000e+00, 0.0000e+00, 0.0000e+00,\n",
       "        0.0000e+00, 0.0000e+00, 0.0000e+00, 0.0000e+00, 1.0000e+00]),\n",
       " array([2.0, 37.66, 73.32, 108.97999999999999, 144.64, 180.29999999999998,\n",
       "        215.95999999999998, 251.61999999999998, 287.28, 322.93999999999994,\n",
       "        358.59999999999997, 394.26, 429.91999999999996, 465.5799999999999,\n",
       "        501.23999999999995, 536.9, 572.56, 608.2199999999999,\n",
       "        643.8799999999999, 679.54, 715.1999999999999, 750.8599999999999,\n",
       "        786.52, 822.18, 857.8399999999999, 893.4999999999999,\n",
       "        929.1599999999999, 964.8199999999999, 1000.4799999999999,\n",
       "        1036.1399999999999, 1071.8, 1107.4599999999998, 1143.12, 1178.78,\n",
       "        1214.4399999999998, 1250.1, 1285.7599999999998, 1321.4199999999998,\n",
       "        1357.08, 1392.7399999999998, 1428.3999999999999, 1464.06,\n",
       "        1499.7199999999998, 1535.3799999999999, 1571.04,\n",
       "        1606.6999999999998, 1642.36, 1678.0199999999998,\n",
       "        1713.6799999999998, 1749.34, 1785.0], dtype=object),\n",
       " <BarContainer object of 50 artists>)"
      ]
     },
     "execution_count": 70,
     "metadata": {},
     "output_type": "execute_result"
    },
    {
     "data": {
      "image/png": "[encoded data removed]",
      "text/plain": [
       "<Figure size 432x288 with 1 Axes>"
      ]
     },
     "metadata": {
      "needs_background": "light"
     },
     "output_type": "display_data"
    }
   ],
   "source": [
    "prop_df_pax_all_selected = prop_df_pax_all[['area', 'eccentricity', 'convex_area', 'bbox_area', 'equivalent_diameter', 'euler_number',\n",
    "                                  'extent','filled_area','major_axis_length','mean_intensity',\n",
    "                                  'minor_axis_length','orientation','perimeter','solidity',\n",
    "                                  'cell_edge_dist','cell_edge_orient','diff_orient']]\n",
    "\n",
    "\n",
    "plt.hist(prop_df_pax_all_selected['area'],50)"
   ]
  },
  {
   "cell_type": "code",
   "execution_count": 71,
   "metadata": {},
   "outputs": [
    {
     "data": {
      "text/plain": [
       "(23990, 24)"
      ]
     },
     "execution_count": 71,
     "metadata": {},
     "output_type": "execute_result"
    }
   ],
   "source": [
    "prop_df_pax_all.shape"
   ]
  },
  {
   "cell_type": "code",
   "execution_count": 72,
   "metadata": {},
   "outputs": [
    {
     "name": "stdout",
     "output_type": "stream",
     "text": [
      "14\n"
     ]
    },
    {
     "data": {
      "text/plain": [
       "<matplotlib.collections.LineCollection at 0x7f67bbb99e80>"
      ]
     },
     "execution_count": 72,
     "metadata": {},
     "output_type": "execute_result"
    },
    {
     "data": {
      "image/png": "[encoded data removed]",
      "text/plain": [
       "<Figure size 432x288 with 1 Axes>"
      ]
     },
     "metadata": {
      "needs_background": "light"
     },
     "output_type": "display_data"
    }
   ],
   "source": [
    "import sklearn\n",
    "cdf = []\n",
    "cdf = sklearn.preprocessing.scale(prop_df_pax_all_selected, axis=0)\n",
    "\n",
    "cdf.shape\n",
    "\n",
    "FA_pca = sklearn.decomposition.PCA()\n",
    "FA_pca.fit(cdf)\n",
    "\n",
    "fig = plt.plot(figsize=(10,4))\n",
    "cumsum = np.cumsum(FA_pca.explained_variance_ratio_)\n",
    "plt.plot(np.arange(1, FA_pca.n_components_ + 1),\n",
    "           cumsum, \n",
    "           '-', linewidth=2)\n",
    "n_pc = FA_pca.n_components_\n",
    "\n",
    "for i in range(FA_pca.n_components_):\n",
    "    if cumsum[i]>0.999:\n",
    "        n_pc = i+1\n",
    "        break\n",
    "print(n_pc)\n",
    "\n",
    "plt.hlines(cumsum[n_pc-1], xmin=1, xmax=FA_pca.n_components_, linestyle='dashed')\n"
   ]
  },
  {
   "cell_type": "code",
   "execution_count": 73,
   "metadata": {},
   "outputs": [
    {
     "data": {
      "text/plain": [
       "Text(0.5, 1.0, 'features12')"
      ]
     },
     "execution_count": 73,
     "metadata": {},
     "output_type": "execute_result"
    },
    {
     "data": {
      "image/png": "[encoded data removed]",
      "text/plain": [
       "<Figure size 432x288 with 1 Axes>"
      ]
     },
     "metadata": {
      "needs_background": "light"
     },
     "output_type": "display_data"
    }
   ],
   "source": [
    "plt.scatter(cdf[:, 0], cdf[:, 1],c='k',s=1)\n",
    "plt.title('features12', fontsize=24)"
   ]
  },
  {
   "cell_type": "code",
   "execution_count": 74,
   "metadata": {},
   "outputs": [
    {
     "data": {
      "text/plain": [
       "array([4.91298324e+01, 7.23301889e+00, 6.62571433e+00, 6.47616359e+00,\n",
       "       5.75960480e+00, 5.37410298e+00, 5.07351222e+00, 4.90533286e+00,\n",
       "       4.06699107e+00, 2.00451458e+00, 1.71144880e+00, 9.39279432e-01,\n",
       "       4.46427101e-01, 1.54851254e-01, 6.80958375e-02, 2.55845797e-02,\n",
       "       5.52532253e-03])"
      ]
     },
     "execution_count": 74,
     "metadata": {},
     "output_type": "execute_result"
    }
   ],
   "source": [
    "FA_pca.explained_variance_ratio_*100"
   ]
  },
  {
   "cell_type": "code",
   "execution_count": 75,
   "metadata": {},
   "outputs": [
    {
     "data": {
      "text/plain": [
       "Text(0.5, 1.0, 'PCA-1-2')"
      ]
     },
     "execution_count": 75,
     "metadata": {},
     "output_type": "execute_result"
    },
    {
     "data": {
      "image/png": "[encoded data removed]",
      "text/plain": [
       "<Figure size 432x288 with 1 Axes>"
      ]
     },
     "metadata": {
      "needs_background": "light"
     },
     "output_type": "display_data"
    }
   ],
   "source": [
    "cdf_trans = FA_pca.transform(cdf)\n",
    "plt.scatter(cdf_trans[:, 0], cdf_trans[:, 1],c='k',s=1)\n",
    "plt.title('PCA-1-2', fontsize=24)"
   ]
  },
  {
   "cell_type": "code",
   "execution_count": 76,
   "metadata": {},
   "outputs": [
    {
     "data": {
      "text/plain": [
       "(23990, 17)"
      ]
     },
     "execution_count": 76,
     "metadata": {},
     "output_type": "execute_result"
    }
   ],
   "source": [
    "cdf_trans.shape"
   ]
  },
  {
   "cell_type": "code",
   "execution_count": 77,
   "metadata": {},
   "outputs": [
    {
     "data": {
      "text/plain": [
       "Text(0.5, 1.0, 'UMAP projection of the paxillin FA')"
      ]
     },
     "execution_count": 77,
     "metadata": {},
     "output_type": "execute_result"
    },
    {
     "data": {
      "image/png": "[encoded data removed]",
      "text/plain": [
       "<Figure size 432x288 with 1 Axes>"
      ]
     },
     "metadata": {
      "needs_background": "light"
     },
     "output_type": "display_data"
    }
   ],
   "source": [
    "scaled_pax_PCA_data = StandardScaler().fit_transform(cdf_trans)\n",
    "\n",
    "reducer = umap.UMAP(n_components=5,random_state=22)\n",
    "\n",
    "reducer.fit(scaled_pax_PCA_data)\n",
    "\n",
    "embedding = reducer.fit_transform(scaled_pax_PCA_data)\n",
    "embedding.shape\n",
    "\n",
    "plt.scatter(\n",
    "    embedding[:, 0],\n",
    "    embedding[:, 1],s=1)\n",
    "plt.gca().set_aspect('equal', 'datalim')\n",
    "plt.title('UMAP projection of the paxillin FA', fontsize=24)\n"
   ]
  },
  {
   "cell_type": "code",
   "execution_count": null,
   "metadata": {},
   "outputs": [],
   "source": [
    "plt.scatter(\n",
    "    embedding[:, 0],\n",
    "    embedding[:, 1],s=1)\n",
    "plt.gca().set_aspect('equal', 'datalim')\n",
    "# plt.title('UMAP projection of the paxillin FA', fontsize=24)"
   ]
  },
  {
   "cell_type": "code",
   "execution_count": 78,
   "metadata": {},
   "outputs": [
    {
     "data": {
      "image/png": "[encoded data removed]",
      "text/plain": [
       "<Figure size 1512x936 with 3 Axes>"
      ]
     },
     "metadata": {},
     "output_type": "display_data"
    }
   ],
   "source": [
    "import time\n",
    "import warnings\n",
    "from itertools import cycle, islice\n",
    "\n",
    "import matplotlib.pyplot as plt\n",
    "import numpy as np\n",
    "\n",
    "from sklearn import cluster, datasets, mixture\n",
    "from sklearn.neighbors import kneighbors_graph\n",
    "from sklearn.preprocessing import StandardScaler\n",
    "\n",
    "# ============\n",
    "# Generate datasets. We choose the size big enough to see the scalability\n",
    "# of the algorithms, but not too big to avoid too long running times\n",
    "# ============\n",
    "n_samples = 500\n",
    "seed = 30\n",
    "noisy_circles = datasets.make_circles(\n",
    "    n_samples=n_samples, factor=0.5, noise=0.05, random_state=seed\n",
    ")\n",
    "noisy_moons = datasets.make_moons(n_samples=n_samples, noise=0.05, random_state=seed)\n",
    "blobs = datasets.make_blobs(n_samples=n_samples, random_state=seed)\n",
    "rng = np.random.RandomState(seed)\n",
    "no_structure = rng.rand(n_samples, 2), None\n",
    "\n",
    "# Anisotropicly distributed data\n",
    "random_state = 170\n",
    "X, y = datasets.make_blobs(n_samples=n_samples, random_state=random_state)\n",
    "transformation = [[0.6, -0.6], [-0.4, 0.8]]\n",
    "X_aniso = np.dot(X, transformation)\n",
    "aniso = (X_aniso, y)\n",
    "\n",
    "# blobs with varied variances\n",
    "varied = datasets.make_blobs(\n",
    "    n_samples=n_samples, cluster_std=[1.0, 2.5, 0.5], random_state=random_state\n",
    ")\n",
    "\n",
    "# ============\n",
    "# Set up cluster parameters\n",
    "# ============\n",
    "plt.figure(figsize=(9 * 2 + 3, 13))\n",
    "plt.subplots_adjust(\n",
    "    left=0.02, right=0.98, bottom=0.001, top=0.95, wspace=0.05, hspace=0.01\n",
    ")\n",
    "\n",
    "plot_num = 1\n",
    "\n",
    "default_base = {\n",
    "    \"quantile\": 0.3,\n",
    "    \"eps\": 0.3,\n",
    "    \"damping\": 0.9,\n",
    "    \"preference\": -200,\n",
    "    \"n_neighbors\": 3,\n",
    "    \"n_clusters\": 4,\n",
    "    \"min_samples\": 7,\n",
    "    \"xi\": 0.05,\n",
    "    \"min_cluster_size\": 0.1,\n",
    "    \"allow_single_cluster\": True,\n",
    "    \"hdbscan_min_cluster_size\": 15,\n",
    "    \"hdbscan_min_samples\": 3,\n",
    "    \"random_state\": 42,\n",
    "}\n",
    "\n",
    "datasets = [\n",
    "    (no_structure, {}),\n",
    "]\n",
    "\n",
    "for i_dataset, (dataset, algo_params) in enumerate(datasets):\n",
    "    # update parameters with dataset-specific values\n",
    "    \n",
    "    params = default_base.copy()\n",
    "\n",
    "    params.update(algo_params)\n",
    "\n",
    "\n",
    "    X = embedding[::1,:]\n",
    "    y = np.zeros(cdf_trans[::1,:].shape[0])\n",
    "\n",
    "    # X, y = dataset\n",
    "\n",
    "    # normalize dataset for easier parameter selection\n",
    "    X = StandardScaler().fit_transform(X)\n",
    "\n",
    "    # estimate bandwidth for mean shift\n",
    "    bandwidth = cluster.estimate_bandwidth(X, quantile=params[\"quantile\"])\n",
    "\n",
    "    # connectivity matrix for structured Ward\n",
    "    connectivity = kneighbors_graph(\n",
    "        X, n_neighbors=params[\"n_neighbors\"], include_self=False\n",
    "    )\n",
    "    # make connectivity symmetric\n",
    "    connectivity = 0.5 * (connectivity + connectivity.T)\n",
    "\n",
    "    # ============\n",
    "    # Create cluster objects\n",
    "    # ============\n",
    "    ms = cluster.MeanShift(bandwidth=bandwidth, bin_seeding=True)\n",
    "    two_means = cluster.MiniBatchKMeans(\n",
    "        n_clusters=params[\"n_clusters\"],\n",
    "        random_state=params[\"random_state\"],\n",
    "    )\n",
    "    spectral = cluster.SpectralClustering(\n",
    "        n_clusters=params[\"n_clusters\"],\n",
    "        eigen_solver=\"arpack\",\n",
    "        affinity=\"nearest_neighbors\",\n",
    "        random_state=params[\"random_state\"],\n",
    "    )\n",
    "    \n",
    "    clustering_algorithms = (\n",
    "        (\"MeanShift\", ms),\n",
    "        (\"Spectral\\nClustering\", spectral),\n",
    "        (\"MiniBatch\\nKMeans\", two_means),\n",
    "    )\n",
    "\n",
    "    for name, algorithm in clustering_algorithms:\n",
    "        t0 = time.time()\n",
    "\n",
    "        # catch warnings related to kneighbors_graph\n",
    "        with warnings.catch_warnings():\n",
    "            warnings.filterwarnings(\n",
    "                \"ignore\",\n",
    "                message=\"the number of connected components of the \"\n",
    "                + \"connectivity matrix is [0-9]{1,2}\"\n",
    "                + \" > 1. Completing it to avoid stopping the tree early.\",\n",
    "                category=UserWarning,\n",
    "            )\n",
    "            warnings.filterwarnings(\n",
    "                \"ignore\",\n",
    "                message=\"Graph is not fully connected, spectral embedding\"\n",
    "                + \" may not work as expected.\",\n",
    "                category=UserWarning,\n",
    "            )\n",
    "            algorithm.fit(X)\n",
    "\n",
    "        t1 = time.time()\n",
    "        if hasattr(algorithm, \"labels_\"):\n",
    "            y_pred = algorithm.labels_.astype(int)\n",
    "        else:\n",
    "            y_pred = algorithm.predict(X)\n",
    "\n",
    "\n",
    "        prop_df_pax_all[['cluster_ID_'+name[0:8]]] = y_pred.reshape([y_pred.shape[0],1])\n",
    "        prop_df_pax_all.to_csv(os.path.join(csv_output_dir,'cluster_labels_allcels.csv'))\n",
    "\n",
    "        plt.subplot(len(datasets), len(clustering_algorithms), plot_num)\n",
    "        if i_dataset == 0:\n",
    "            plt.title(name, size=18)\n",
    "\n",
    "        colors = np.array(\n",
    "            list(\n",
    "                islice(\n",
    "                    cycle(\n",
    "                        [\n",
    "                            \"#377eb8\",\n",
    "                            \"#ff7f00\",\n",
    "                            \"#4daf4a\",\n",
    "                            \"#f781bf\",\n",
    "                            \"#a65628\",\n",
    "                            \"#984ea3\",\n",
    "                            \"#999999\",\n",
    "                            \"#e41a1c\",\n",
    "                            \"#dede00\",\n",
    "                        ]\n",
    "                    ),\n",
    "                    int(max(y_pred) + 1),\n",
    "                )\n",
    "            )\n",
    "        )\n",
    "        # add black color for outliers (if any)\n",
    "        colors = np.append(colors, [\"#000000\"])\n",
    "        plt.scatter(X[:, 0], X[:, 1], s=10, color=colors[y_pred])\n",
    "\n",
    "        # plt.xlim(-2.5, 2.5)\n",
    "        # plt.ylim(-2.5, 2.5)\n",
    "        plt.xticks(())\n",
    "        plt.yticks(())\n",
    "        plt.text(\n",
    "            0.99,\n",
    "            0.01,\n",
    "            (\"%.2fs\" % (t1 - t0)).lstrip(\"0\"),\n",
    "            transform=plt.gca().transAxes,\n",
    "            size=15,\n",
    "            horizontalalignment=\"right\",\n",
    "        )\n",
    "        plot_num += 1\n",
    "\n",
    "plt.show()"
   ]
  },
  {
   "cell_type": "code",
   "execution_count": 83,
   "metadata": {},
   "outputs": [
    {
     "data": {
      "text/plain": [
       "(array([22465.,   683.,   586.,   256.]),\n",
       " array([0., 1., 2., 3., 4.]),\n",
       " <BarContainer object of 4 artists>)"
      ]
     },
     "execution_count": 83,
     "metadata": {},
     "output_type": "execute_result"
    },
    {
     "data": {
      "image/png": "[encoded data removed]",
      "text/plain": [
       "<Figure size 432x288 with 1 Axes>"
      ]
     },
     "metadata": {
      "needs_background": "light"
     },
     "output_type": "display_data"
    }
   ],
   "source": [
    "plt.hist(prop_df_pax_all['cluster_ID_MeanShif'],4)\n"
   ]
  },
  {
   "cell_type": "code",
   "execution_count": 39,
   "metadata": {},
   "outputs": [
    {
     "data": {
      "text/plain": [
       "(19,)"
      ]
     },
     "execution_count": 39,
     "metadata": {},
     "output_type": "execute_result"
    }
   ],
   "source": [
    "y_pred[y_pred==2].shape"
   ]
  },
  {
   "cell_type": "code",
   "execution_count": 31,
   "metadata": {},
   "outputs": [
    {
     "data": {
      "text/plain": [
       "(34644,)"
      ]
     },
     "execution_count": 31,
     "metadata": {},
     "output_type": "execute_result"
    }
   ],
   "source": [
    "y_pred.shape"
   ]
  },
  {
   "cell_type": "code",
   "execution_count": 32,
   "metadata": {},
   "outputs": [
    {
     "data": {
      "text/plain": [
       "(34644, 23)"
      ]
     },
     "execution_count": 32,
     "metadata": {},
     "output_type": "execute_result"
    }
   ],
   "source": [
    "prop_df_pax_all.shape"
   ]
  },
  {
   "cell_type": "code",
   "execution_count": 54,
   "metadata": {},
   "outputs": [
    {
     "data": {
      "text/plain": [
       "(34644, 1)"
      ]
     },
     "execution_count": 54,
     "metadata": {},
     "output_type": "execute_result"
    }
   ],
   "source": [
    "# AA = np.zeros([34644,1])\n",
    "# AA[:] = y_pred\n",
    "y_pred.reshape([34644,1]).shape\n"
   ]
  },
  {
   "cell_type": "code",
   "execution_count": 60,
   "metadata": {},
   "outputs": [
    {
     "ename": "KeyError",
     "evalue": "\"['cluster_ID_KNN'] not found in axis\"",
     "output_type": "error",
     "traceback": [
      "\u001b[0;31m---------------------------------------------------------------------------\u001b[0m",
      "\u001b[0;31mKeyError\u001b[0m                                  Traceback (most recent call last)",
      "\u001b[0;32m<ipython-input-60-8aebfe107628>\u001b[0m in \u001b[0;36m<module>\u001b[0;34m\u001b[0m\n\u001b[0;32m----> 1\u001b[0;31m \u001b[0mprop_df_pax_all\u001b[0m\u001b[0;34m.\u001b[0m\u001b[0mdrop\u001b[0m\u001b[0;34m(\u001b[0m\u001b[0;34m[\u001b[0m\u001b[0;34m'cluster_ID_KNN'\u001b[0m\u001b[0;34m]\u001b[0m\u001b[0;34m)\u001b[0m\u001b[0;34m\u001b[0m\u001b[0;34m\u001b[0m\u001b[0m\n\u001b[0m",
      "\u001b[0;32m~/anaconda3/envs/aics_segmentation/lib/python3.6/site-packages/pandas/core/frame.py\u001b[0m in \u001b[0;36mdrop\u001b[0;34m(self, labels, axis, index, columns, level, inplace, errors)\u001b[0m\n\u001b[1;32m   4172\u001b[0m             \u001b[0mlevel\u001b[0m\u001b[0;34m=\u001b[0m\u001b[0mlevel\u001b[0m\u001b[0;34m,\u001b[0m\u001b[0;34m\u001b[0m\u001b[0;34m\u001b[0m\u001b[0m\n\u001b[1;32m   4173\u001b[0m             \u001b[0minplace\u001b[0m\u001b[0;34m=\u001b[0m\u001b[0minplace\u001b[0m\u001b[0;34m,\u001b[0m\u001b[0;34m\u001b[0m\u001b[0;34m\u001b[0m\u001b[0m\n\u001b[0;32m-> 4174\u001b[0;31m             \u001b[0merrors\u001b[0m\u001b[0;34m=\u001b[0m\u001b[0merrors\u001b[0m\u001b[0;34m,\u001b[0m\u001b[0;34m\u001b[0m\u001b[0;34m\u001b[0m\u001b[0m\n\u001b[0m\u001b[1;32m   4175\u001b[0m         )\n\u001b[1;32m   4176\u001b[0m \u001b[0;34m\u001b[0m\u001b[0m\n",
      "\u001b[0;32m~/anaconda3/envs/aics_segmentation/lib/python3.6/site-packages/pandas/core/generic.py\u001b[0m in \u001b[0;36mdrop\u001b[0;34m(self, labels, axis, index, columns, level, inplace, errors)\u001b[0m\n\u001b[1;32m   3887\u001b[0m         \u001b[0;32mfor\u001b[0m \u001b[0maxis\u001b[0m\u001b[0;34m,\u001b[0m \u001b[0mlabels\u001b[0m \u001b[0;32min\u001b[0m \u001b[0maxes\u001b[0m\u001b[0;34m.\u001b[0m\u001b[0mitems\u001b[0m\u001b[0;34m(\u001b[0m\u001b[0;34m)\u001b[0m\u001b[0;34m:\u001b[0m\u001b[0;34m\u001b[0m\u001b[0;34m\u001b[0m\u001b[0m\n\u001b[1;32m   3888\u001b[0m             \u001b[0;32mif\u001b[0m \u001b[0mlabels\u001b[0m \u001b[0;32mis\u001b[0m \u001b[0;32mnot\u001b[0m \u001b[0;32mNone\u001b[0m\u001b[0;34m:\u001b[0m\u001b[0;34m\u001b[0m\u001b[0;34m\u001b[0m\u001b[0m\n\u001b[0;32m-> 3889\u001b[0;31m                 \u001b[0mobj\u001b[0m \u001b[0;34m=\u001b[0m \u001b[0mobj\u001b[0m\u001b[0;34m.\u001b[0m\u001b[0m_drop_axis\u001b[0m\u001b[0;34m(\u001b[0m\u001b[0mlabels\u001b[0m\u001b[0;34m,\u001b[0m \u001b[0maxis\u001b[0m\u001b[0;34m,\u001b[0m \u001b[0mlevel\u001b[0m\u001b[0;34m=\u001b[0m\u001b[0mlevel\u001b[0m\u001b[0;34m,\u001b[0m \u001b[0merrors\u001b[0m\u001b[0;34m=\u001b[0m\u001b[0merrors\u001b[0m\u001b[0;34m)\u001b[0m\u001b[0;34m\u001b[0m\u001b[0;34m\u001b[0m\u001b[0m\n\u001b[0m\u001b[1;32m   3890\u001b[0m \u001b[0;34m\u001b[0m\u001b[0m\n\u001b[1;32m   3891\u001b[0m         \u001b[0;32mif\u001b[0m \u001b[0minplace\u001b[0m\u001b[0;34m:\u001b[0m\u001b[0;34m\u001b[0m\u001b[0;34m\u001b[0m\u001b[0m\n",
      "\u001b[0;32m~/anaconda3/envs/aics_segmentation/lib/python3.6/site-packages/pandas/core/generic.py\u001b[0m in \u001b[0;36m_drop_axis\u001b[0;34m(self, labels, axis, level, errors)\u001b[0m\n\u001b[1;32m   3940\u001b[0m                 \u001b[0mlabels_missing\u001b[0m \u001b[0;34m=\u001b[0m \u001b[0;34m(\u001b[0m\u001b[0maxis\u001b[0m\u001b[0;34m.\u001b[0m\u001b[0mget_indexer_for\u001b[0m\u001b[0;34m(\u001b[0m\u001b[0mlabels\u001b[0m\u001b[0;34m)\u001b[0m \u001b[0;34m==\u001b[0m \u001b[0;34m-\u001b[0m\u001b[0;36m1\u001b[0m\u001b[0;34m)\u001b[0m\u001b[0;34m.\u001b[0m\u001b[0many\u001b[0m\u001b[0;34m(\u001b[0m\u001b[0;34m)\u001b[0m\u001b[0;34m\u001b[0m\u001b[0;34m\u001b[0m\u001b[0m\n\u001b[1;32m   3941\u001b[0m                 \u001b[0;32mif\u001b[0m \u001b[0merrors\u001b[0m \u001b[0;34m==\u001b[0m \u001b[0;34m\"raise\"\u001b[0m \u001b[0;32mand\u001b[0m \u001b[0mlabels_missing\u001b[0m\u001b[0;34m:\u001b[0m\u001b[0;34m\u001b[0m\u001b[0;34m\u001b[0m\u001b[0m\n\u001b[0;32m-> 3942\u001b[0;31m                     \u001b[0;32mraise\u001b[0m \u001b[0mKeyError\u001b[0m\u001b[0;34m(\u001b[0m\u001b[0;34mf\"{labels} not found in axis\"\u001b[0m\u001b[0;34m)\u001b[0m\u001b[0;34m\u001b[0m\u001b[0;34m\u001b[0m\u001b[0m\n\u001b[0m\u001b[1;32m   3943\u001b[0m \u001b[0;34m\u001b[0m\u001b[0m\n\u001b[1;32m   3944\u001b[0m             \u001b[0mslicer\u001b[0m \u001b[0;34m=\u001b[0m \u001b[0;34m[\u001b[0m\u001b[0mslice\u001b[0m\u001b[0;34m(\u001b[0m\u001b[0;32mNone\u001b[0m\u001b[0;34m)\u001b[0m\u001b[0;34m]\u001b[0m \u001b[0;34m*\u001b[0m \u001b[0mself\u001b[0m\u001b[0;34m.\u001b[0m\u001b[0mndim\u001b[0m\u001b[0;34m\u001b[0m\u001b[0;34m\u001b[0m\u001b[0m\n",
      "\u001b[0;31mKeyError\u001b[0m: \"['cluster_ID_KNN'] not found in axis\""
     ]
    }
   ],
   "source": [
    "\n",
    "prop_df_pax_all.drop(['cluster_ID_KNN'])"
   ]
  },
  {
   "cell_type": "code",
   "execution_count": 56,
   "metadata": {},
   "outputs": [
    {
     "data": {
      "text/html": [
       "<div>\n",
       "<style scoped>\n",
       "    .dataframe tbody tr th:only-of-type {\n",
       "        vertical-align: middle;\n",
       "    }\n",
       "\n",
       "    .dataframe tbody tr th {\n",
       "        vertical-align: top;\n",
       "    }\n",
       "\n",
       "    .dataframe thead th {\n",
       "        text-align: right;\n",
       "    }\n",
       "</style>\n",
       "<table border=\"1\" class=\"dataframe\">\n",
       "  <thead>\n",
       "    <tr style=\"text-align: right;\">\n",
       "      <th></th>\n",
       "      <th>cell_ID</th>\n",
       "      <th>time_point</th>\n",
       "      <th>area</th>\n",
       "      <th>bbox_area</th>\n",
       "      <th>convex_area</th>\n",
       "      <th>eccentricity</th>\n",
       "      <th>equivalent_diameter</th>\n",
       "      <th>euler_number</th>\n",
       "      <th>extent</th>\n",
       "      <th>filled_area</th>\n",
       "      <th>...</th>\n",
       "      <th>min_intensity</th>\n",
       "      <th>minor_axis_length</th>\n",
       "      <th>orientation</th>\n",
       "      <th>perimeter</th>\n",
       "      <th>solidity</th>\n",
       "      <th>cell_edge_dist</th>\n",
       "      <th>cell_edge_orient</th>\n",
       "      <th>diff_orient</th>\n",
       "      <th>Unnamed: 0</th>\n",
       "      <th>cluster_ID_KNN</th>\n",
       "    </tr>\n",
       "  </thead>\n",
       "  <tbody>\n",
       "    <tr>\n",
       "      <th>0</th>\n",
       "      <td>0.0</td>\n",
       "      <td>0.0</td>\n",
       "      <td>243.0</td>\n",
       "      <td>1316.0</td>\n",
       "      <td>275.0</td>\n",
       "      <td>0.994916</td>\n",
       "      <td>17.589690</td>\n",
       "      <td>1.0</td>\n",
       "      <td>0.184650</td>\n",
       "      <td>243.0</td>\n",
       "      <td>...</td>\n",
       "      <td>0.202014</td>\n",
       "      <td>5.635591</td>\n",
       "      <td>0.509347</td>\n",
       "      <td>114.124892</td>\n",
       "      <td>0.883636</td>\n",
       "      <td>28.0</td>\n",
       "      <td>-2.034444</td>\n",
       "      <td>0.597802</td>\n",
       "      <td>0.0</td>\n",
       "      <td>3.0</td>\n",
       "    </tr>\n",
       "    <tr>\n",
       "      <th>1</th>\n",
       "      <td>0.0</td>\n",
       "      <td>0.0</td>\n",
       "      <td>316.0</td>\n",
       "      <td>1550.0</td>\n",
       "      <td>364.0</td>\n",
       "      <td>0.994291</td>\n",
       "      <td>20.058507</td>\n",
       "      <td>1.0</td>\n",
       "      <td>0.203871</td>\n",
       "      <td>316.0</td>\n",
       "      <td>...</td>\n",
       "      <td>0.178347</td>\n",
       "      <td>6.612457</td>\n",
       "      <td>0.520216</td>\n",
       "      <td>125.195959</td>\n",
       "      <td>0.868132</td>\n",
       "      <td>55.0</td>\n",
       "      <td>-0.463648</td>\n",
       "      <td>0.983864</td>\n",
       "      <td>1.0</td>\n",
       "      <td>3.0</td>\n",
       "    </tr>\n",
       "    <tr>\n",
       "      <th>2</th>\n",
       "      <td>0.0</td>\n",
       "      <td>0.0</td>\n",
       "      <td>34.0</td>\n",
       "      <td>96.0</td>\n",
       "      <td>38.0</td>\n",
       "      <td>0.977987</td>\n",
       "      <td>6.579525</td>\n",
       "      <td>1.0</td>\n",
       "      <td>0.354167</td>\n",
       "      <td>34.0</td>\n",
       "      <td>...</td>\n",
       "      <td>0.169192</td>\n",
       "      <td>2.990840</td>\n",
       "      <td>0.557890</td>\n",
       "      <td>25.556349</td>\n",
       "      <td>0.894737</td>\n",
       "      <td>41.0</td>\n",
       "      <td>0.000000</td>\n",
       "      <td>0.557890</td>\n",
       "      <td>2.0</td>\n",
       "      <td>3.0</td>\n",
       "    </tr>\n",
       "    <tr>\n",
       "      <th>3</th>\n",
       "      <td>0.0</td>\n",
       "      <td>0.0</td>\n",
       "      <td>64.0</td>\n",
       "      <td>170.0</td>\n",
       "      <td>69.0</td>\n",
       "      <td>0.978653</td>\n",
       "      <td>9.027033</td>\n",
       "      <td>1.0</td>\n",
       "      <td>0.376471</td>\n",
       "      <td>64.0</td>\n",
       "      <td>...</td>\n",
       "      <td>0.029999</td>\n",
       "      <td>4.114086</td>\n",
       "      <td>0.500809</td>\n",
       "      <td>40.420310</td>\n",
       "      <td>0.927536</td>\n",
       "      <td>8.0</td>\n",
       "      <td>1.975688</td>\n",
       "      <td>1.474879</td>\n",
       "      <td>3.0</td>\n",
       "      <td>3.0</td>\n",
       "    </tr>\n",
       "    <tr>\n",
       "      <th>4</th>\n",
       "      <td>0.0</td>\n",
       "      <td>0.0</td>\n",
       "      <td>78.0</td>\n",
       "      <td>266.0</td>\n",
       "      <td>88.0</td>\n",
       "      <td>0.985403</td>\n",
       "      <td>9.965575</td>\n",
       "      <td>1.0</td>\n",
       "      <td>0.293233</td>\n",
       "      <td>78.0</td>\n",
       "      <td>...</td>\n",
       "      <td>0.195956</td>\n",
       "      <td>4.134766</td>\n",
       "      <td>0.588529</td>\n",
       "      <td>47.112698</td>\n",
       "      <td>0.886364</td>\n",
       "      <td>63.0</td>\n",
       "      <td>0.785398</td>\n",
       "      <td>0.196869</td>\n",
       "      <td>4.0</td>\n",
       "      <td>3.0</td>\n",
       "    </tr>\n",
       "    <tr>\n",
       "      <th>...</th>\n",
       "      <td>...</td>\n",
       "      <td>...</td>\n",
       "      <td>...</td>\n",
       "      <td>...</td>\n",
       "      <td>...</td>\n",
       "      <td>...</td>\n",
       "      <td>...</td>\n",
       "      <td>...</td>\n",
       "      <td>...</td>\n",
       "      <td>...</td>\n",
       "      <td>...</td>\n",
       "      <td>...</td>\n",
       "      <td>...</td>\n",
       "      <td>...</td>\n",
       "      <td>...</td>\n",
       "      <td>...</td>\n",
       "      <td>...</td>\n",
       "      <td>...</td>\n",
       "      <td>...</td>\n",
       "      <td>...</td>\n",
       "      <td>...</td>\n",
       "    </tr>\n",
       "    <tr>\n",
       "      <th>2788</th>\n",
       "      <td>0.0</td>\n",
       "      <td>23.0</td>\n",
       "      <td>40.0</td>\n",
       "      <td>56.0</td>\n",
       "      <td>43.0</td>\n",
       "      <td>0.776822</td>\n",
       "      <td>7.136496</td>\n",
       "      <td>1.0</td>\n",
       "      <td>0.714286</td>\n",
       "      <td>40.0</td>\n",
       "      <td>...</td>\n",
       "      <td>0.060914</td>\n",
       "      <td>5.662208</td>\n",
       "      <td>-0.649585</td>\n",
       "      <td>21.899495</td>\n",
       "      <td>0.930233</td>\n",
       "      <td>91.0</td>\n",
       "      <td>2.356194</td>\n",
       "      <td>0.135814</td>\n",
       "      <td>2788.0</td>\n",
       "      <td>0.0</td>\n",
       "    </tr>\n",
       "    <tr>\n",
       "      <th>2789</th>\n",
       "      <td>0.0</td>\n",
       "      <td>23.0</td>\n",
       "      <td>48.0</td>\n",
       "      <td>77.0</td>\n",
       "      <td>51.0</td>\n",
       "      <td>0.930901</td>\n",
       "      <td>7.817640</td>\n",
       "      <td>1.0</td>\n",
       "      <td>0.623377</td>\n",
       "      <td>48.0</td>\n",
       "      <td>...</td>\n",
       "      <td>0.146319</td>\n",
       "      <td>4.782578</td>\n",
       "      <td>0.405327</td>\n",
       "      <td>27.899495</td>\n",
       "      <td>0.941176</td>\n",
       "      <td>30.0</td>\n",
       "      <td>-1.570796</td>\n",
       "      <td>1.165469</td>\n",
       "      <td>2789.0</td>\n",
       "      <td>0.0</td>\n",
       "    </tr>\n",
       "    <tr>\n",
       "      <th>2790</th>\n",
       "      <td>0.0</td>\n",
       "      <td>23.0</td>\n",
       "      <td>30.0</td>\n",
       "      <td>42.0</td>\n",
       "      <td>31.0</td>\n",
       "      <td>0.803075</td>\n",
       "      <td>6.180387</td>\n",
       "      <td>1.0</td>\n",
       "      <td>0.714286</td>\n",
       "      <td>30.0</td>\n",
       "      <td>...</td>\n",
       "      <td>0.219928</td>\n",
       "      <td>4.773732</td>\n",
       "      <td>0.568174</td>\n",
       "      <td>18.485281</td>\n",
       "      <td>0.967742</td>\n",
       "      <td>105.0</td>\n",
       "      <td>-2.034444</td>\n",
       "      <td>0.538974</td>\n",
       "      <td>2790.0</td>\n",
       "      <td>3.0</td>\n",
       "    </tr>\n",
       "    <tr>\n",
       "      <th>2791</th>\n",
       "      <td>0.0</td>\n",
       "      <td>23.0</td>\n",
       "      <td>30.0</td>\n",
       "      <td>35.0</td>\n",
       "      <td>31.0</td>\n",
       "      <td>0.725887</td>\n",
       "      <td>6.180387</td>\n",
       "      <td>1.0</td>\n",
       "      <td>0.857143</td>\n",
       "      <td>30.0</td>\n",
       "      <td>...</td>\n",
       "      <td>0.212421</td>\n",
       "      <td>5.158638</td>\n",
       "      <td>0.203509</td>\n",
       "      <td>18.242641</td>\n",
       "      <td>0.967742</td>\n",
       "      <td>91.0</td>\n",
       "      <td>-2.034444</td>\n",
       "      <td>0.903640</td>\n",
       "      <td>2791.0</td>\n",
       "      <td>0.0</td>\n",
       "    </tr>\n",
       "    <tr>\n",
       "      <th>2792</th>\n",
       "      <td>0.0</td>\n",
       "      <td>23.0</td>\n",
       "      <td>4.0</td>\n",
       "      <td>4.0</td>\n",
       "      <td>4.0</td>\n",
       "      <td>0.000000</td>\n",
       "      <td>2.256758</td>\n",
       "      <td>1.0</td>\n",
       "      <td>1.000000</td>\n",
       "      <td>4.0</td>\n",
       "      <td>...</td>\n",
       "      <td>0.231174</td>\n",
       "      <td>2.000000</td>\n",
       "      <td>0.785398</td>\n",
       "      <td>4.000000</td>\n",
       "      <td>1.000000</td>\n",
       "      <td>74.0</td>\n",
       "      <td>-2.356194</td>\n",
       "      <td>0.000000</td>\n",
       "      <td>2792.0</td>\n",
       "      <td>2.0</td>\n",
       "    </tr>\n",
       "  </tbody>\n",
       "</table>\n",
       "<p>34644 rows × 24 columns</p>\n",
       "</div>"
      ],
      "text/plain": [
       "      cell_ID  time_point   area  bbox_area  convex_area  eccentricity  \\\n",
       "0         0.0         0.0  243.0     1316.0        275.0      0.994916   \n",
       "1         0.0         0.0  316.0     1550.0        364.0      0.994291   \n",
       "2         0.0         0.0   34.0       96.0         38.0      0.977987   \n",
       "3         0.0         0.0   64.0      170.0         69.0      0.978653   \n",
       "4         0.0         0.0   78.0      266.0         88.0      0.985403   \n",
       "...       ...         ...    ...        ...          ...           ...   \n",
       "2788      0.0        23.0   40.0       56.0         43.0      0.776822   \n",
       "2789      0.0        23.0   48.0       77.0         51.0      0.930901   \n",
       "2790      0.0        23.0   30.0       42.0         31.0      0.803075   \n",
       "2791      0.0        23.0   30.0       35.0         31.0      0.725887   \n",
       "2792      0.0        23.0    4.0        4.0          4.0      0.000000   \n",
       "\n",
       "      equivalent_diameter  euler_number    extent  filled_area  ...  \\\n",
       "0               17.589690           1.0  0.184650        243.0  ...   \n",
       "1               20.058507           1.0  0.203871        316.0  ...   \n",
       "2                6.579525           1.0  0.354167         34.0  ...   \n",
       "3                9.027033           1.0  0.376471         64.0  ...   \n",
       "4                9.965575           1.0  0.293233         78.0  ...   \n",
       "...                   ...           ...       ...          ...  ...   \n",
       "2788             7.136496           1.0  0.714286         40.0  ...   \n",
       "2789             7.817640           1.0  0.623377         48.0  ...   \n",
       "2790             6.180387           1.0  0.714286         30.0  ...   \n",
       "2791             6.180387           1.0  0.857143         30.0  ...   \n",
       "2792             2.256758           1.0  1.000000          4.0  ...   \n",
       "\n",
       "      min_intensity  minor_axis_length  orientation   perimeter  solidity  \\\n",
       "0          0.202014           5.635591     0.509347  114.124892  0.883636   \n",
       "1          0.178347           6.612457     0.520216  125.195959  0.868132   \n",
       "2          0.169192           2.990840     0.557890   25.556349  0.894737   \n",
       "3          0.029999           4.114086     0.500809   40.420310  0.927536   \n",
       "4          0.195956           4.134766     0.588529   47.112698  0.886364   \n",
       "...             ...                ...          ...         ...       ...   \n",
       "2788       0.060914           5.662208    -0.649585   21.899495  0.930233   \n",
       "2789       0.146319           4.782578     0.405327   27.899495  0.941176   \n",
       "2790       0.219928           4.773732     0.568174   18.485281  0.967742   \n",
       "2791       0.212421           5.158638     0.203509   18.242641  0.967742   \n",
       "2792       0.231174           2.000000     0.785398    4.000000  1.000000   \n",
       "\n",
       "      cell_edge_dist  cell_edge_orient  diff_orient  Unnamed: 0  \\\n",
       "0               28.0         -2.034444     0.597802         0.0   \n",
       "1               55.0         -0.463648     0.983864         1.0   \n",
       "2               41.0          0.000000     0.557890         2.0   \n",
       "3                8.0          1.975688     1.474879         3.0   \n",
       "4               63.0          0.785398     0.196869         4.0   \n",
       "...              ...               ...          ...         ...   \n",
       "2788            91.0          2.356194     0.135814      2788.0   \n",
       "2789            30.0         -1.570796     1.165469      2789.0   \n",
       "2790           105.0         -2.034444     0.538974      2790.0   \n",
       "2791            91.0         -2.034444     0.903640      2791.0   \n",
       "2792            74.0         -2.356194     0.000000      2792.0   \n",
       "\n",
       "      cluster_ID_KNN  \n",
       "0                3.0  \n",
       "1                3.0  \n",
       "2                3.0  \n",
       "3                3.0  \n",
       "4                3.0  \n",
       "...              ...  \n",
       "2788             0.0  \n",
       "2789             0.0  \n",
       "2790             3.0  \n",
       "2791             0.0  \n",
       "2792             2.0  \n",
       "\n",
       "[34644 rows x 24 columns]"
      ]
     },
     "execution_count": 56,
     "metadata": {},
     "output_type": "execute_result"
    }
   ],
   "source": [
    "  prop_df_pax.to_csv(os.path.join(csv_output_dir,'labelprop_SS_'+str(filenameID)+'_t'+str(timeID)+'.csv'))\n"
   ]
  }
 ],
 "metadata": {
  "kernelspec": {
   "display_name": "Python 3",
   "language": "python",
   "name": "python3"
  },
  "language_info": {
   "codemirror_mode": {
    "name": "ipython",
    "version": 3
   },
   "file_extension": ".py",
   "mimetype": "text/x-python",
   "name": "python",
   "nbconvert_exporter": "python",
   "pygments_lexer": "ipython3",
   "version": "3.6.13"
  }
 },
 "nbformat": 4,
 "nbformat_minor": 4
}
