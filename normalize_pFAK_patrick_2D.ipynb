{
 "cells": [
  {
   "cell_type": "markdown",
   "metadata": {},
   "source": [
    "### Paxillin movie segmentation and object feature analysis\n",
    "\n",
    "with Patrick's 2D fixed image pFAK and Zyxin\n",
    "\n",
    "Liya Ding, 2024.04"
   ]
  },
  {
   "cell_type": "code",
   "execution_count": 1,
   "metadata": {},
   "outputs": [],
   "source": [
    "import numpy as np\n",
    "import seaborn as sns\n",
    "import pandas as pd\n",
    "import umap\n",
    "from joblib import dump, load\n",
    "import os.path\n",
    "\n",
    "import matplotlib.pyplot as plt\n",
    "from matplotlib import cm\n",
    "from matplotlib.transforms import Bbox\n",
    "\n",
    "import tifffile \n",
    "import czifile\n",
    "\n",
    "import skimage\n",
    "from skimage.morphology import remove_small_objects\n",
    "from skimage.measure import label, regionprops, regionprops_table\n",
    "from skimage.color import label2rgb\n",
    "from skimage.filters import (threshold_otsu, threshold_niblack,\n",
    "                             threshold_sauvola)\n",
    "\n",
    "from skimage.morphology import binary_opening, binary_closing, binary_dilation\n",
    "from skimage.morphology import disk\n",
    "\n",
    "\n",
    "from scipy import ndimage\n",
    "from scipy.ndimage import distance_transform_cdt\n",
    "from scipy.ndimage import gaussian_filter\n",
    "\n",
    "from sklearn.decomposition import PCA\n",
    "from sklearn.datasets import load_digits\n",
    "from sklearn.model_selection import train_test_split\n",
    "from sklearn.preprocessing import StandardScaler\n",
    "\n",
    "# function from aicssegmentation tool\n",
    "from utils.vessel_2d import filament_2d_wrapper\n",
    "from utils.pre_processing_utils import intensity_normalization\n"
   ]
  },
  {
   "cell_type": "code",
   "execution_count": 2,
   "metadata": {},
   "outputs": [],
   "source": [
    "image_2D_2CH_dir =  '/mnt/d/lding/zyxin/data/240423_fixed_EGFP_zyxin_pFAK/Control_images'\n",
    "\n",
    "csv_output_dir = '/mnt/d/lding/FA/analysis_results/pFAK_zyxin_20230423/Vessp5-LocThrk1_csv'\n",
    "plot_output_dir = '/mnt/d/lding/FA/analysis_results/pFAK_zyxin_20230423/Vessp5-LocThrk1_plot'\n",
    "seg_output_dir = '/mnt/d/lding/FA/analysis_results/pFAK_zyxin_20230423/Vessp5-LocThrk1_seg'\n",
    "\n",
    "pixel_size = 0.0706\n",
    "time_point = 0\n",
    "\n",
    "if not os.path.isdir(csv_output_dir):\n",
    "    os.makedirs(csv_output_dir)\n",
    "if not os.path.isdir(plot_output_dir):\n",
    "    os.makedirs(plot_output_dir)\n",
    "if not os.path.isdir(seg_output_dir):\n",
    "    os.makedirs(seg_output_dir)"
   ]
  },
  {
   "cell_type": "code",
   "execution_count": 3,
   "metadata": {},
   "outputs": [],
   "source": [
    "# build the colormap with iterative tab10\n",
    "tab10 = cm.get_cmap('tab10', 10)\n",
    "for i in range(10):\n",
    "    tab10.colors = np.concatenate([tab10.colors,tab10.colors],axis=0)    \n",
    "tab10.colors = np.concatenate([np.zeros([1,4]),tab10.colors],axis=0)\n",
    "\n",
    "newmap = cm.get_cmap('tab10', 4000+1)\n",
    "newmap.colors = tab10.colors[0:4000+1,:]\n",
    "newmap.colors[0,:]  = np.zeros([1,4])\n",
    "newmap.colors[0,3] = 1"
   ]
  },
  {
   "cell_type": "markdown",
   "metadata": {},
   "source": [
    "### for each 3D stack run through MIP and 8th frame"
   ]
  },
  {
   "cell_type": "code",
   "execution_count": 4,
   "metadata": {},
   "outputs": [],
   "source": [
    "# flag for some optinal parts\n",
    "flag_plot = True\n",
    "flag_plot_save = True\n",
    "flag_seg_save = True\n",
    "flag_csv_save = True\n",
    "flag_run_all = True\n",
    "flag_panel_plot = True"
   ]
  },
  {
   "cell_type": "code",
   "execution_count": 5,
   "metadata": {},
   "outputs": [],
   "source": [
    "# get a global intensity threshold \n",
    "filenames = [x for x in os.listdir(image_2D_2CH_dir) if os.path.isfile(os.path.join(image_2D_2CH_dir, x)) and ('.tif' in x)]\n",
    "\n",
    "for filenameID in range(len(filenames)):\n",
    "    filename = filenames[filenameID]\n",
    "    # print(filename)\n",
    "    img = tifffile.imread(os.path.join(image_2D_2CH_dir,filename))\n",
    "    pfak_img = img[1,:,:]\n",
    "    zyxin_img = img[0,:,:]\n",
    "    \n",
    "    intensity_scaling_param = [5,20]\n",
    "    norm_pfak_img = intensity_normalization(pfak_img, scaling_param=intensity_scaling_param)\n",
    "    norm_zyxin_img = intensity_normalization(zyxin_img, scaling_param=intensity_scaling_param)\n",
    "       \n",
    "    MIP_pfak_img = norm_pfak_img\n",
    "    MIP_zyxin_img = norm_zyxin_img\n",
    "\n",
    "    smooth_MIP_zyxin_img = gaussian_filter(MIP_zyxin_img,sigma=4,mode='nearest',truncate=3)\n",
    "    ### low threshold to get cell masks\n",
    "    new_cell_mask = smooth_MIP_zyxin_img>0.02\n",
    "    ### remove isolated small objects (small regions due to noise)\n",
    "    new_cell_mask = remove_small_objects(new_cell_mask>0, min_size=10000, connectivity=1, in_place=False)        \n",
    "    # remove holes\n",
    "    new_cell_mask = ndimage.binary_fill_holes(new_cell_mask)\n",
    "\n",
    "    if filenameID ==0:\n",
    "        all_pfak_img = np.zeros([len(filenames),pfak_img.shape[0],pfak_img.shape[1]])\n",
    "        all_zyxin_img = np.zeros([len(filenames),pfak_img.shape[0],pfak_img.shape[1]])\n",
    "        all_cell_mask = np.zeros([len(filenames),pfak_img.shape[0],pfak_img.shape[1]])\n",
    "    all_pfak_img[filenameID,:,:] = pfak_img\n",
    "    all_zyxin_img[filenameID,:,:] = zyxin_img\n",
    "    all_cell_mask[filenameID,:,:] = new_cell_mask\n",
    "\n",
    "    \n",
    "global_threshold  = all_pfak_img[all_cell_mask>0].mean() + 1*all_pfak_img[all_cell_mask>0].std()"
   ]
  },
  {
   "cell_type": "code",
   "execution_count": 6,
   "metadata": {},
   "outputs": [],
   "source": [
    "zyxin_data = all_zyxin_img.flatten()"
   ]
  },
  {
   "cell_type": "code",
   "execution_count": 7,
   "metadata": {},
   "outputs": [],
   "source": [
    "pfak_data = all_pfak_img.flatten()"
   ]
  },
  {
   "cell_type": "code",
   "execution_count": 8,
   "metadata": {},
   "outputs": [
    {
     "data": {
      "text/plain": [
       "92.0"
      ]
     },
     "execution_count": 8,
     "metadata": {},
     "output_type": "execute_result"
    }
   ],
   "source": [
    "np.percentile(zyxin_data,0.1)"
   ]
  },
  {
   "cell_type": "code",
   "execution_count": null,
   "metadata": {},
   "outputs": [],
   "source": []
  },
  {
   "cell_type": "code",
   "execution_count": null,
   "metadata": {},
   "outputs": [],
   "source": [
    "np.percentile(zyxin_data,99.9)"
   ]
  },
  {
   "cell_type": "code",
   "execution_count": null,
   "metadata": {},
   "outputs": [],
   "source": [
    "np.percentile(pfak_data,0.1)"
   ]
  },
  {
   "cell_type": "code",
   "execution_count": null,
   "metadata": {},
   "outputs": [],
   "source": [
    "np.percentile(pfak_data,99.9)"
   ]
  },
  {
   "cell_type": "code",
   "execution_count": null,
   "metadata": {},
   "outputs": [],
   "source": [
    "from scipy.ndimage import gaussian_filter\n",
    "\n",
    "# get a global intensity threshold \n",
    "filenames = [x for x in os.listdir(image_2D_2CH_dir) if os.path.isfile(os.path.join(image_2D_2CH_dir, x)) and ('.tif' in x)]\n",
    "norm_image_2D_2CH_dir =  '/mnt/d/lding/zyxin/data/240423_fixed_EGFP_zyxin_pFAK/norm_pny_Control_images'\n",
    "\n",
    "for filenameID in range(len(filenames)):\n",
    "    filename = filenames[filenameID]\n",
    "    # print(filename)\n",
    "    img = tifffile.imread(os.path.join(image_2D_2CH_dir,filename))\n",
    "    pfak_img = img[1,:,:]\n",
    "    zyxin_img = img[0,:,:]\n",
    "  \n",
    "    smooth_MIP_zyxin_img = gaussian_filter(zyxin_img,sigma=2,mode='nearest',truncate=3)    \n",
    "    new_cell_mask = smooth_MIP_zyxin_img>104\n",
    "    ### remove isolated small objects (small regions due to noise)\n",
    "    new_cell_mask = remove_small_objects(new_cell_mask>0, min_size=10000, connectivity=1, in_place=False)     \n",
    "    new_cell_mask = binary_closing(new_cell_mask, disk(11))   \n",
    "    # remove holes\n",
    "    new_cell_mask = ndimage.binary_fill_holes(new_cell_mask)\n",
    "      \n",
    "    pfak_img = (pfak_img - 99.0) / (303-99)\n",
    "    zyxin_img = (zyxin_img - 92.0) / (608-92)\n",
    "\n",
    "\n",
    "    new_img = np.zeros([8,img.shape[1],img.shape[2]])\n",
    "\n",
    "    new_img[6,:,:] = zyxin_img\n",
    "    new_img[7,:,:] = pfak_img\n",
    "    new_img[4,:,:] = new_cell_mask\n",
    "\n",
    "    np.save(os.path.join(norm_image_2D_2CH_dir, 'norm_'+filename[:-4]+'.npy'),new_img)   \n",
    "        \n",
    "    \n"
   ]
  },
  {
   "cell_type": "code",
   "execution_count": 12,
   "metadata": {},
   "outputs": [],
   "source": [
    "AA = ((pfak_data - 92.0) / (608-92))"
   ]
  },
  {
   "cell_type": "code",
   "execution_count": 13,
   "metadata": {},
   "outputs": [
    {
     "data": {
      "text/plain": [
       "0.050914162449798496"
      ]
     },
     "execution_count": 13,
     "metadata": {},
     "output_type": "execute_result"
    }
   ],
   "source": [
    "AA.mean()"
   ]
  },
  {
   "cell_type": "code",
   "execution_count": null,
   "metadata": {},
   "outputs": [],
   "source": [
    "channel_check =np.load('/mnt/d/lding/zyxin/data/data_pny/TractionData_21_02_17_ZyxinActin/cell_3/Disp_Trac_CellMask_ForceMask_Actin_0.npy')"
   ]
  },
  {
   "cell_type": "code",
   "execution_count": null,
   "metadata": {},
   "outputs": [],
   "source": [
    "plt.imshow(channel_check[7],interpolation=None)"
   ]
  }
 ],
 "metadata": {
  "kernelspec": {
   "display_name": "Python 3",
   "language": "python",
   "name": "python3"
  },
  "language_info": {
   "codemirror_mode": {
    "name": "ipython",
    "version": 3
   },
   "file_extension": ".py",
   "mimetype": "text/x-python",
   "name": "python",
   "nbconvert_exporter": "python",
   "pygments_lexer": "ipython3",
   "version": "3.6.13"
  }
 },
 "nbformat": 4,
 "nbformat_minor": 4
}
